{
 "cells": [
  {
   "cell_type": "code",
   "execution_count": 2,
   "id": "2ec121f0",
   "metadata": {
    "collapsed": true
   },
   "outputs": [
    {
     "name": "stdout",
     "output_type": "stream",
     "text": [
      "Collecting textblob\n",
      "  Downloading textblob-0.17.1-py2.py3-none-any.whl (636 kB)\n",
      "Requirement already satisfied: nltk>=3.1 in c:\\users\\usuario\\documents\\anaconda_installation\\lib\\site-packages (from textblob) (3.7)\n",
      "Requirement already satisfied: tqdm in c:\\users\\usuario\\documents\\anaconda_installation\\lib\\site-packages (from nltk>=3.1->textblob) (4.64.0)\n",
      "Requirement already satisfied: joblib in c:\\users\\usuario\\documents\\anaconda_installation\\lib\\site-packages (from nltk>=3.1->textblob) (1.1.0)\n",
      "Requirement already satisfied: click in c:\\users\\usuario\\documents\\anaconda_installation\\lib\\site-packages (from nltk>=3.1->textblob) (8.0.4)\n",
      "Requirement already satisfied: regex>=2021.8.3 in c:\\users\\usuario\\documents\\anaconda_installation\\lib\\site-packages (from nltk>=3.1->textblob) (2022.3.15)\n",
      "Requirement already satisfied: colorama in c:\\users\\usuario\\documents\\anaconda_installation\\lib\\site-packages (from click->nltk>=3.1->textblob) (0.4.4)\n",
      "Installing collected packages: textblob\n",
      "Successfully installed textblob-0.17.1\n",
      "Note: you may need to restart the kernel to use updated packages.\n"
     ]
    }
   ],
   "source": [
    "pip install textblob"
   ]
  },
  {
   "cell_type": "code",
   "execution_count": 3,
   "id": "36bc899e",
   "metadata": {},
   "outputs": [],
   "source": [
    "import pandas as pd\n",
    "import numpy as np\n",
    "import matplotlib.pyplot as plt\n",
    "from textblob import TextBlob"
   ]
  },
  {
   "cell_type": "code",
   "execution_count": 4,
   "id": "c8ac0602",
   "metadata": {},
   "outputs": [],
   "source": [
    "df = pd.read_excel('df_updated.xlsx')"
   ]
  },
  {
   "cell_type": "code",
   "execution_count": 5,
   "id": "0aac9e2c",
   "metadata": {},
   "outputs": [
    {
     "data": {
      "text/html": [
       "<div>\n",
       "<style scoped>\n",
       "    .dataframe tbody tr th:only-of-type {\n",
       "        vertical-align: middle;\n",
       "    }\n",
       "\n",
       "    .dataframe tbody tr th {\n",
       "        vertical-align: top;\n",
       "    }\n",
       "\n",
       "    .dataframe thead th {\n",
       "        text-align: right;\n",
       "    }\n",
       "</style>\n",
       "<table border=\"1\" class=\"dataframe\">\n",
       "  <thead>\n",
       "    <tr style=\"text-align: right;\">\n",
       "      <th></th>\n",
       "      <th>Unnamed: 0</th>\n",
       "      <th>REVIEW ID</th>\n",
       "      <th>SOURCE</th>\n",
       "      <th>REVIEW BY</th>\n",
       "      <th>REVIEW DATE</th>\n",
       "      <th>REVIEW SUBJECT</th>\n",
       "      <th>text</th>\n",
       "      <th>REVIEW RATING</th>\n",
       "      <th>REVIEW TYPE</th>\n",
       "      <th>language</th>\n",
       "      <th>text_parsed</th>\n",
       "      <th>sentiment</th>\n",
       "      <th>polarity</th>\n",
       "      <th>subjectivity</th>\n",
       "      <th>Our_Review_Type</th>\n",
       "    </tr>\n",
       "  </thead>\n",
       "  <tbody>\n",
       "    <tr>\n",
       "      <th>0</th>\n",
       "      <td>0</td>\n",
       "      <td>1476</td>\n",
       "      <td>Trip Advisor</td>\n",
       "      <td>3612</td>\n",
       "      <td>2014-04-30</td>\n",
       "      <td>To commercial</td>\n",
       "      <td>reativly new big hindu version disney land qui...</td>\n",
       "      <td>2</td>\n",
       "      <td>NEGATIVE</td>\n",
       "      <td>en</td>\n",
       "      <td>reativli new big hindu version disney land qui...</td>\n",
       "      <td>Sentiment(polarity=-0.15909090909090912, subje...</td>\n",
       "      <td>-0.159091</td>\n",
       "      <td>0.336364</td>\n",
       "      <td>Neutral</td>\n",
       "    </tr>\n",
       "    <tr>\n",
       "      <th>1</th>\n",
       "      <td>1</td>\n",
       "      <td>2208</td>\n",
       "      <td>Trip Advisor</td>\n",
       "      <td>9573519851</td>\n",
       "      <td>2015-07-24</td>\n",
       "      <td>?Amazing temple in Bangalore?</td>\n",
       "      <td>friends enjoyed lot biggest visit</td>\n",
       "      <td>5</td>\n",
       "      <td>POSITIVE</td>\n",
       "      <td>en</td>\n",
       "      <td>friend enjoy lot biggest visit</td>\n",
       "      <td>Sentiment(polarity=0.4, subjectivity=0.5)</td>\n",
       "      <td>0.400000</td>\n",
       "      <td>0.500000</td>\n",
       "      <td>Positive</td>\n",
       "    </tr>\n",
       "    <tr>\n",
       "      <th>2</th>\n",
       "      <td>2</td>\n",
       "      <td>3989</td>\n",
       "      <td>Trip Advisor</td>\n",
       "      <td>0iamsid0</td>\n",
       "      <td>2017-01-03</td>\n",
       "      <td>Fully commercialized place</td>\n",
       "      <td>good situated hilltop however fully commercial...</td>\n",
       "      <td>4</td>\n",
       "      <td>NEGATIVE</td>\n",
       "      <td>en</td>\n",
       "      <td>good situat hilltop howev fulli commerci every...</td>\n",
       "      <td>Sentiment(polarity=0.7, subjectivity=0.6000000...</td>\n",
       "      <td>0.700000</td>\n",
       "      <td>0.600000</td>\n",
       "      <td>Positive</td>\n",
       "    </tr>\n",
       "    <tr>\n",
       "      <th>3</th>\n",
       "      <td>3</td>\n",
       "      <td>4561</td>\n",
       "      <td>Trip Advisor</td>\n",
       "      <td>1 All over</td>\n",
       "      <td>2017-04-02</td>\n",
       "      <td>Off the beaten path</td>\n",
       "      <td>went sightseeing three wide unexpectedly deep ...</td>\n",
       "      <td>5</td>\n",
       "      <td>POSITIVE</td>\n",
       "      <td>en</td>\n",
       "      <td>went sightse three wide unexpectedli deep atmo...</td>\n",
       "      <td>Sentiment(polarity=-0.05333333333333333, subje...</td>\n",
       "      <td>-0.053333</td>\n",
       "      <td>0.233333</td>\n",
       "      <td>Neutral</td>\n",
       "    </tr>\n",
       "    <tr>\n",
       "      <th>4</th>\n",
       "      <td>4</td>\n",
       "      <td>3334</td>\n",
       "      <td>Trip Advisor</td>\n",
       "      <td>10vee</td>\n",
       "      <td>2016-08-29</td>\n",
       "      <td>Peaceful and Serene place</td>\n",
       "      <td>spiritual best peaceful serene spend entire me...</td>\n",
       "      <td>5</td>\n",
       "      <td>POSITIVE</td>\n",
       "      <td>en</td>\n",
       "      <td>spiritu best peac seren spend entir medit bhajan</td>\n",
       "      <td>Sentiment(polarity=1.0, subjectivity=0.3)</td>\n",
       "      <td>1.000000</td>\n",
       "      <td>0.300000</td>\n",
       "      <td>Positive</td>\n",
       "    </tr>\n",
       "  </tbody>\n",
       "</table>\n",
       "</div>"
      ],
      "text/plain": [
       "   Unnamed: 0  REVIEW ID        SOURCE   REVIEW BY REVIEW DATE  \\\n",
       "0           0       1476  Trip Advisor        3612  2014-04-30   \n",
       "1           1       2208  Trip Advisor  9573519851  2015-07-24   \n",
       "2           2       3989  Trip Advisor    0iamsid0  2017-01-03   \n",
       "3           3       4561  Trip Advisor  1 All over  2017-04-02   \n",
       "4           4       3334  Trip Advisor       10vee  2016-08-29   \n",
       "\n",
       "                  REVIEW SUBJECT  \\\n",
       "0                  To commercial   \n",
       "1  ?Amazing temple in Bangalore?   \n",
       "2     Fully commercialized place   \n",
       "3            Off the beaten path   \n",
       "4      Peaceful and Serene place   \n",
       "\n",
       "                                                text  REVIEW RATING  \\\n",
       "0  reativly new big hindu version disney land qui...              2   \n",
       "1                  friends enjoyed lot biggest visit              5   \n",
       "2  good situated hilltop however fully commercial...              4   \n",
       "3  went sightseeing three wide unexpectedly deep ...              5   \n",
       "4  spiritual best peaceful serene spend entire me...              5   \n",
       "\n",
       "  REVIEW TYPE language                                        text_parsed  \\\n",
       "0    NEGATIVE       en  reativli new big hindu version disney land qui...   \n",
       "1    POSITIVE       en                     friend enjoy lot biggest visit   \n",
       "2    NEGATIVE       en  good situat hilltop howev fulli commerci every...   \n",
       "3    POSITIVE       en  went sightse three wide unexpectedli deep atmo...   \n",
       "4    POSITIVE       en   spiritu best peac seren spend entir medit bhajan   \n",
       "\n",
       "                                           sentiment  polarity  subjectivity  \\\n",
       "0  Sentiment(polarity=-0.15909090909090912, subje... -0.159091      0.336364   \n",
       "1          Sentiment(polarity=0.4, subjectivity=0.5)  0.400000      0.500000   \n",
       "2  Sentiment(polarity=0.7, subjectivity=0.6000000...  0.700000      0.600000   \n",
       "3  Sentiment(polarity=-0.05333333333333333, subje... -0.053333      0.233333   \n",
       "4          Sentiment(polarity=1.0, subjectivity=0.3)  1.000000      0.300000   \n",
       "\n",
       "  Our_Review_Type  \n",
       "0         Neutral  \n",
       "1        Positive  \n",
       "2        Positive  \n",
       "3         Neutral  \n",
       "4        Positive  "
      ]
     },
     "execution_count": 5,
     "metadata": {},
     "output_type": "execute_result"
    }
   ],
   "source": [
    "df.head()"
   ]
  },
  {
   "cell_type": "code",
   "execution_count": 10,
   "id": "69fe01cc",
   "metadata": {},
   "outputs": [],
   "source": [
    "df['text_parsed'] = str('text_parsed')"
   ]
  },
  {
   "cell_type": "code",
   "execution_count": 13,
   "id": "e3bdfe80",
   "metadata": {
    "scrolled": true
   },
   "outputs": [],
   "source": [
    "df['sentiment'] = df['text_parsed'].apply(lambda x: TextBlob(x).sentiment.polarity)"
   ]
  },
  {
   "cell_type": "code",
   "execution_count": 15,
   "id": "b294b14b",
   "metadata": {},
   "outputs": [
    {
     "data": {
      "image/png": "[encoded data removed]",
      "text/plain": [
       "<Figure size 432x288 with 1 Axes>"
      ]
     },
     "metadata": {
      "needs_background": "light"
     },
     "output_type": "display_data"
    },
    {
     "name": "stdout",
     "output_type": "stream",
     "text": [
      "Average sentiment score: 0.0\n"
     ]
    }
   ],
   "source": [
    "import matplotlib.pyplot as plt\n",
    "\n",
    "# Plot sentiment distribution\n",
    "plt.hist(df['sentiment'])\n",
    "plt.show()\n",
    "\n",
    "# Calculate average sentiment score\n",
    "avg_sentiment = df['sentiment'].mean()\n",
    "print('Average sentiment score:', avg_sentiment)"
   ]
  }
 ],
 "metadata": {
  "kernelspec": {
   "display_name": "Python 3 (ipykernel)",
   "language": "python",
   "name": "python3"
  },
  "language_info": {
   "codemirror_mode": {
    "name": "ipython",
    "version": 3
   },
   "file_extension": ".py",
   "mimetype": "text/x-python",
   "name": "python",
   "nbconvert_exporter": "python",
   "pygments_lexer": "ipython3",
   "version": "3.9.12"
  }
 },
 "nbformat": 4,
 "nbformat_minor": 5
}
