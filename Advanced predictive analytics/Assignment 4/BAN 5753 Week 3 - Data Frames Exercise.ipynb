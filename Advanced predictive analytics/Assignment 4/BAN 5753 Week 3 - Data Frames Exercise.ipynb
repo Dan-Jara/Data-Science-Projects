{
 "cells": [
  {
   "cell_type": "code",
   "execution_count": 1,
   "id": "34a13094",
   "metadata": {},
   "outputs": [],
   "source": [
    "import findspark\n",
    "findspark.init()"
   ]
  },
  {
   "cell_type": "code",
   "execution_count": 2,
   "id": "208048ee",
   "metadata": {},
   "outputs": [
    {
     "name": "stderr",
     "output_type": "stream",
     "text": [
      "C:\\Users\\Usuario\\Downloads\\spark-3.5.0-bin-hadoop3\\python\\pyspark\\sql\\context.py:113: FutureWarning: Deprecated in 3.0.0. Use SparkSession.builder.getOrCreate() instead.\n",
      "  warnings.warn(\n"
     ]
    }
   ],
   "source": [
    "# Import necessary libraries\n",
    "from pyspark.sql import SparkSession\n",
    "from pyspark.conf import SparkConf\n",
    "from pyspark.sql.types import * \n",
    "import pyspark.sql.functions as F\n",
    "from pyspark.sql.functions import col, asc,desc\n",
    "import matplotlib.pyplot as plt\n",
    "import numpy as np\n",
    "import seaborn as sns\n",
    "from pyspark.sql import SQLContext\n",
    "from pyspark.mllib.stat import Statistics\n",
    "import pandas as pd\n",
    "from pyspark.sql.functions import udf\n",
    "from pyspark.ml.feature import OneHotEncoder, StringIndexer, VectorAssembler,StandardScaler\n",
    "from pyspark.ml import Pipeline\n",
    "from sklearn.metrics import confusion_matrix\n",
    "\n",
    "spark=SparkSession.builder \\\n",
    ".master (\"local[*]\")\\\n",
    ".appName(\"week3\")\\\n",
    ".getOrCreate()\n",
    "sc=spark.sparkContext\n",
    "sqlContext=SQLContext(sc)"
   ]
  },
  {
   "cell_type": "code",
   "execution_count": null,
   "id": "fde78a64",
   "metadata": {},
   "outputs": [],
   "source": [
    "# This is a kaggle travel dataset that contains information about business travel. \n",
    "# You will have 3 different csvs namely flights,hotels and users"
   ]
  },
  {
   "cell_type": "markdown",
   "id": "f0640109",
   "metadata": {},
   "source": [
    "## 1. Read all the available csvs into 3 different dataframes"
   ]
  },
  {
   "cell_type": "code",
   "execution_count": 3,
   "id": "f9e6968d",
   "metadata": {},
   "outputs": [
    {
     "name": "stdout",
     "output_type": "stream",
     "text": [
      "+----------+--------+------------------+------------------+----------+-------+----+--------+-----------+----------+\n",
      "|travelCode|userCode|              from|                to|flightType|  price|time|distance|     agency|      date|\n",
      "+----------+--------+------------------+------------------+----------+-------+----+--------+-----------+----------+\n",
      "|         0|       0|       Recife (PE)|Florianopolis (SC)|firstClass|1434.38|1.76|  676.53|FlyingDrops|09/26/2019|\n",
      "|         0|       0|Florianopolis (SC)|       Recife (PE)|firstClass|1292.29|1.76|  676.53|FlyingDrops|09/30/2019|\n",
      "|         1|       0|     Brasilia (DF)|Florianopolis (SC)|firstClass|1487.52|1.66|  637.56|    CloudFy|10/03/2019|\n",
      "+----------+--------+------------------+------------------+----------+-------+----+--------+-----------+----------+\n",
      "only showing top 3 rows\n",
      "\n"
     ]
    }
   ],
   "source": [
    "flights= spark.read.option('header','true').option('inferschema','true')\\\n",
    ".csv('flights.csv')\n",
    "flights.show(3)"
   ]
  },
  {
   "cell_type": "code",
   "execution_count": 4,
   "id": "9663fc8e",
   "metadata": {},
   "outputs": [
    {
     "name": "stdout",
     "output_type": "stream",
     "text": [
      "+----------+--------+-------+------------------+----+------+-------+----------+\n",
      "|travelCode|userCode|   name|             place|days| price|  total|      date|\n",
      "+----------+--------+-------+------------------+----+------+-------+----------+\n",
      "|         0|       0|Hotel A|Florianopolis (SC)|   4|313.02|1252.08|09/26/2019|\n",
      "|         2|       0|Hotel K|     Salvador (BH)|   2|263.41| 526.82|10/10/2019|\n",
      "|         7|       0|Hotel K|     Salvador (BH)|   3|263.41| 790.23|11/14/2019|\n",
      "+----------+--------+-------+------------------+----+------+-------+----------+\n",
      "only showing top 3 rows\n",
      "\n"
     ]
    }
   ],
   "source": [
    "hotels= spark.read.option('header','true').option('inferschema','true')\\\n",
    ".csv('hotels.csv')\n",
    "hotels.show(3)"
   ]
  },
  {
   "cell_type": "code",
   "execution_count": 5,
   "id": "ddbe86af",
   "metadata": {},
   "outputs": [
    {
     "name": "stdout",
     "output_type": "stream",
     "text": [
      "+----+-------+--------------+------+---+\n",
      "|code|company|          name|gender|age|\n",
      "+----+-------+--------------+------+---+\n",
      "|   0|   4You|     Roy Braun|  male| 21|\n",
      "|   1|   4You|Joseph Holsten|  male| 37|\n",
      "|   2|   4You| Wilma Mcinnis|female| 48|\n",
      "+----+-------+--------------+------+---+\n",
      "only showing top 3 rows\n",
      "\n"
     ]
    }
   ],
   "source": [
    "users= spark.read.option('header','true').option('inferschema','true')\\\n",
    ".csv('users.csv')\n",
    "users.show(3)"
   ]
  },
  {
   "cell_type": "markdown",
   "id": "8a29d79c",
   "metadata": {},
   "source": [
    "## 2. Find the max distance travelled by any business traveller"
   ]
  },
  {
   "cell_type": "code",
   "execution_count": 6,
   "id": "3c99510c",
   "metadata": {},
   "outputs": [],
   "source": [
    "flights = flights.withColumn(\"distance\", flights[\"distance\"].cast(\"float\"))"
   ]
  },
  {
   "cell_type": "code",
   "execution_count": 7,
   "id": "00f0afd8",
   "metadata": {},
   "outputs": [],
   "source": [
    "distance_sum = flights.groupBy(\"userCode\").agg(F.sum(\"distance\").alias(\"total_distance\"))\n",
    "max_distance = distance_sum.agg(F.max(\"total_distance\").alias(\"max_distance\"))"
   ]
  },
  {
   "cell_type": "code",
   "execution_count": 8,
   "id": "349f4041",
   "metadata": {
    "scrolled": true
   },
   "outputs": [
    {
     "name": "stdout",
     "output_type": "stream",
     "text": [
      "+------------------+--------+------------------+\n",
      "|      max_distance|userCode|    total_distance|\n",
      "+------------------+--------+------------------+\n",
      "|271864.20068359375|     925|271864.20068359375|\n",
      "+------------------+--------+------------------+\n",
      "\n"
     ]
    }
   ],
   "source": [
    "result = max_distance.join(distance_sum, max_distance[\"max_distance\"]==distance_sum[\"total_distance\"],\"inner\").show()"
   ]
  },
  {
   "cell_type": "code",
   "execution_count": 9,
   "id": "115d3455",
   "metadata": {},
   "outputs": [
    {
     "name": "stdout",
     "output_type": "stream",
     "text": [
      "+------------------+--------+------------------+\n",
      "|      max_distance|userCode|    total_distance|\n",
      "+------------------+--------+------------------+\n",
      "|271864.20068359375|     925|271864.20068359375|\n",
      "+------------------+--------+------------------+\n",
      "\n"
     ]
    }
   ],
   "source": [
    "result = max_distance.join(distance_sum, max_distance[\"max_distance\"]==distance_sum[\"total_distance\"],\"inner\").show()"
   ]
  },
  {
   "cell_type": "markdown",
   "id": "f09457a0",
   "metadata": {},
   "source": [
    "## 3. Find the to and from locations of the longest business travel"
   ]
  },
  {
   "cell_type": "code",
   "execution_count": 10,
   "id": "476a8c53",
   "metadata": {},
   "outputs": [],
   "source": [
    "longest_travel = flights.agg(F.max(\"distance\").alias(\"distance\"))"
   ]
  },
  {
   "cell_type": "code",
   "execution_count": 11,
   "id": "9b4d7197",
   "metadata": {},
   "outputs": [],
   "source": [
    "route = flights.select(\"from\",\"to\",\"distance\")"
   ]
  },
  {
   "cell_type": "code",
   "execution_count": 12,
   "id": "b041387a",
   "metadata": {},
   "outputs": [
    {
     "name": "stdout",
     "output_type": "stream",
     "text": [
      "+--------+------------------+-------------+\n",
      "|distance|              from|           to|\n",
      "+--------+------------------+-------------+\n",
      "|  937.77|Florianopolis (SC)|Salvador (BH)|\n",
      "+--------+------------------+-------------+\n",
      "only showing top 1 row\n",
      "\n"
     ]
    }
   ],
   "source": [
    "longest_travel.join(route,\"distance\",\"inner\").show(1)\n",
    "# Only 1 was showed because since there were multiple users who followed the same route, there were many records with those\n",
    "# distance, from and to values. "
   ]
  },
  {
   "cell_type": "markdown",
   "id": "362ebb48",
   "metadata": {},
   "source": [
    "## 4. What is the most popular hotel by number of times booked"
   ]
  },
  {
   "cell_type": "code",
   "execution_count": 13,
   "id": "0083af12",
   "metadata": {},
   "outputs": [
    {
     "name": "stdout",
     "output_type": "stream",
     "text": [
      "+--------+-----+\n",
      "|    name|count|\n",
      "+--------+-----+\n",
      "| Hotel K| 5094|\n",
      "|Hotel CB| 5029|\n",
      "|Hotel BD| 4829|\n",
      "|Hotel AF| 4828|\n",
      "|Hotel AU| 4467|\n",
      "|Hotel BP| 4437|\n",
      "|Hotel BW| 4333|\n",
      "| Hotel Z| 4205|\n",
      "| Hotel A| 3330|\n",
      "+--------+-----+\n",
      "\n"
     ]
    }
   ],
   "source": [
    "count_hotels = hotels.groupBy(\"name\").count()\n",
    "count_hotels.orderBy(desc(\"count\")).show()"
   ]
  },
  {
   "cell_type": "markdown",
   "id": "0a4cb8fe",
   "metadata": {},
   "source": [
    "## 5. What is the most expensive hotel by average price"
   ]
  },
  {
   "cell_type": "code",
   "execution_count": 14,
   "id": "475e08b3",
   "metadata": {},
   "outputs": [],
   "source": [
    "hotel_avg_price = hotels.groupBy(\"name\").agg(F.avg(\"price\").alias(\"price\"))"
   ]
  },
  {
   "cell_type": "code",
   "execution_count": 15,
   "id": "c1950a01",
   "metadata": {},
   "outputs": [
    {
     "name": "stdout",
     "output_type": "stream",
     "text": [
      "+--------+------------------+\n",
      "|    name|             price|\n",
      "+--------+------------------+\n",
      "| Hotel A| 313.0200000000128|\n",
      "|Hotel AU| 312.8300000000049|\n",
      "| Hotel K|   263.40999999999|\n",
      "|Hotel BP|247.62000000000103|\n",
      "|Hotel BD|  242.879999999992|\n",
      "| Hotel Z|208.04000000000943|\n",
      "|Hotel CB| 165.9899999999925|\n",
      "|Hotel AF|139.09999999998743|\n",
      "|Hotel BW|  60.3900000000067|\n",
      "+--------+------------------+\n",
      "\n"
     ]
    }
   ],
   "source": [
    "hotel_avg_price.orderBy(desc(\"price\")).show()"
   ]
  },
  {
   "cell_type": "markdown",
   "id": "d1d481cb",
   "metadata": {},
   "source": [
    "## 6. What is the most least hotel by average price"
   ]
  },
  {
   "cell_type": "code",
   "execution_count": 16,
   "id": "c097eb68",
   "metadata": {},
   "outputs": [
    {
     "name": "stdout",
     "output_type": "stream",
     "text": [
      "+--------+------------------+\n",
      "|    name|             price|\n",
      "+--------+------------------+\n",
      "|Hotel BW|  60.3900000000067|\n",
      "|Hotel AF|139.09999999998743|\n",
      "|Hotel CB| 165.9899999999925|\n",
      "| Hotel Z|208.04000000000943|\n",
      "|Hotel BD|  242.879999999992|\n",
      "|Hotel BP|247.62000000000103|\n",
      "| Hotel K|   263.40999999999|\n",
      "|Hotel AU| 312.8300000000049|\n",
      "| Hotel A| 313.0200000000128|\n",
      "+--------+------------------+\n",
      "\n"
     ]
    }
   ],
   "source": [
    "hotel_avg_price.orderBy(\"price\").show()"
   ]
  },
  {
   "cell_type": "markdown",
   "id": "02b6bb7a",
   "metadata": {},
   "source": [
    "## 7. How many hotels are pricier than overall average price (across all hotels)"
   ]
  },
  {
   "cell_type": "code",
   "execution_count": 17,
   "id": "40a81a30",
   "metadata": {},
   "outputs": [],
   "source": [
    "avg_hotel_price = hotels.agg(F.avg(\"price\").alias(\"avg_price\")).first()[\"avg_price\"]"
   ]
  },
  {
   "cell_type": "code",
   "execution_count": 18,
   "id": "31ad983b",
   "metadata": {},
   "outputs": [
    {
     "data": {
      "text/plain": [
       "214.43955390609025"
      ]
     },
     "execution_count": 18,
     "metadata": {},
     "output_type": "execute_result"
    }
   ],
   "source": [
    "avg_hotel_price"
   ]
  },
  {
   "cell_type": "code",
   "execution_count": 19,
   "id": "3808749b",
   "metadata": {},
   "outputs": [
    {
     "data": {
      "text/plain": [
       "22157"
      ]
     },
     "execution_count": 19,
     "metadata": {},
     "output_type": "execute_result"
    }
   ],
   "source": [
    "result7 = hotels.filter(hotels[\"price\"]>avg_hotel_price).count()\n",
    "result7"
   ]
  },
  {
   "cell_type": "code",
   "execution_count": 20,
   "id": "ca8b34de",
   "metadata": {},
   "outputs": [],
   "source": [
    "hotels_avg = hotels.groupBy(\"name\").agg(F.avg(\"price\").alias(\"price\"))"
   ]
  },
  {
   "cell_type": "code",
   "execution_count": 21,
   "id": "e4d0591e",
   "metadata": {},
   "outputs": [
    {
     "name": "stdout",
     "output_type": "stream",
     "text": [
      "+--------+------------------+\n",
      "|    name|             price|\n",
      "+--------+------------------+\n",
      "| Hotel K|   263.40999999999|\n",
      "|Hotel BW|  60.3900000000067|\n",
      "| Hotel A| 313.0200000000128|\n",
      "|Hotel AU| 312.8300000000049|\n",
      "|Hotel BD|  242.879999999992|\n",
      "|Hotel AF|139.09999999998743|\n",
      "|Hotel BP|247.62000000000103|\n",
      "|Hotel CB| 165.9899999999925|\n",
      "| Hotel Z|208.04000000000943|\n",
      "+--------+------------------+\n",
      "\n"
     ]
    }
   ],
   "source": [
    "hotels_avg.show()"
   ]
  },
  {
   "cell_type": "code",
   "execution_count": 22,
   "id": "f8862b93",
   "metadata": {},
   "outputs": [],
   "source": [
    "result7100 = hotels_avg.filter(hotels_avg[\"price\"]>avg_hotel_price).count()"
   ]
  },
  {
   "cell_type": "code",
   "execution_count": 23,
   "id": "a4b913d0",
   "metadata": {},
   "outputs": [
    {
     "data": {
      "text/plain": [
       "5"
      ]
     },
     "execution_count": 23,
     "metadata": {},
     "output_type": "execute_result"
    }
   ],
   "source": [
    "result7100"
   ]
  },
  {
   "cell_type": "markdown",
   "id": "39fbac6a",
   "metadata": {},
   "source": [
    "## 8. Identify the name(s) of user who travelled the most"
   ]
  },
  {
   "cell_type": "code",
   "execution_count": 46,
   "id": "d34e8225",
   "metadata": {},
   "outputs": [],
   "source": [
    "users = users.withColumnRenamed(\"code\",\"userCode\")"
   ]
  },
  {
   "cell_type": "code",
   "execution_count": 51,
   "id": "46eab521",
   "metadata": {},
   "outputs": [],
   "source": [
    "joined_df = flights.join(users,\"userCode\",\"left\")"
   ]
  },
  {
   "cell_type": "code",
   "execution_count": 72,
   "id": "a06a8c52",
   "metadata": {},
   "outputs": [],
   "source": [
    "count_users = joined_df.groupBy(\"name\").count().alias(\"times_travelled\")"
   ]
  },
  {
   "cell_type": "code",
   "execution_count": 74,
   "id": "3403ce25",
   "metadata": {},
   "outputs": [],
   "source": [
    "# This line of code was obtained with the help of chat gpt because I was getting an error. \n",
    "joined_df.createOrReplaceTempView(\"joined_data\")"
   ]
  },
  {
   "cell_type": "code",
   "execution_count": 87,
   "id": "88f53a34",
   "metadata": {},
   "outputs": [],
   "source": [
    "# This cell was also generated by chat GPT after my attempt to use the .agg(max) method failed. \n",
    "name_counts = spark.sql(\"\"\"SELECT name, COUNT(*) as name_count FROM joined_data\n",
    "    GROUP BY name\"\"\")"
   ]
  },
  {
   "cell_type": "code",
   "execution_count": 105,
   "id": "97419872",
   "metadata": {},
   "outputs": [],
   "source": [
    "most_travelled = name_counts.orderBy(name_counts.name_count.desc()).first()"
   ]
  },
  {
   "cell_type": "code",
   "execution_count": 106,
   "id": "a74cc72b",
   "metadata": {},
   "outputs": [
    {
     "data": {
      "text/plain": [
       "Row(name='Sonia Malaspina', name_count=400)"
      ]
     },
     "execution_count": 106,
     "metadata": {},
     "output_type": "execute_result"
    }
   ],
   "source": [
    "most_travelled"
   ]
  },
  {
   "cell_type": "markdown",
   "id": "ab01bb59",
   "metadata": {},
   "source": [
    "## 9. What is the average spending on hotels categorized by gender"
   ]
  },
  {
   "cell_type": "code",
   "execution_count": 97,
   "id": "89ca07e6",
   "metadata": {},
   "outputs": [],
   "source": [
    "joined_df2 = hotels.join(users,\"userCode\",\"inner\")"
   ]
  },
  {
   "cell_type": "code",
   "execution_count": 103,
   "id": "a04acc40",
   "metadata": {},
   "outputs": [
    {
     "name": "stdout",
     "output_type": "stream",
     "text": [
      "+------+-----------------+\n",
      "|Gender| average spending|\n",
      "+------+-----------------+\n",
      "|  none|535.7719371846295|\n",
      "|female| 535.570358655982|\n",
      "|  male|537.3409635627846|\n",
      "+------+-----------------+\n",
      "\n"
     ]
    }
   ],
   "source": [
    "joined_df2.groupBy(\"Gender\").agg(F.avg(joined_df2.total).alias(\"average spending\")).show()"
   ]
  },
  {
   "cell_type": "markdown",
   "id": "fd03f30d",
   "metadata": {},
   "source": [
    "## 10. What is the average spending on flights of users who stayed atleast once in the \"Hotel A\" categorized by gender"
   ]
  },
  {
   "cell_type": "code",
   "execution_count": 118,
   "id": "83169a01",
   "metadata": {},
   "outputs": [],
   "source": [
    "hotels = hotels.withColumnRenamed(\"name\",\"Hotel Name\")"
   ]
  },
  {
   "cell_type": "code",
   "execution_count": 127,
   "id": "a733b343",
   "metadata": {},
   "outputs": [],
   "source": [
    "flights = flights.withColumnRenamed(\"price\",\"Flight Price\")"
   ]
  },
  {
   "cell_type": "code",
   "execution_count": 128,
   "id": "9f21e537",
   "metadata": {},
   "outputs": [],
   "source": [
    "joined_df3 = hotels.join(users,\"userCode\",\"inner\")"
   ]
  },
  {
   "cell_type": "code",
   "execution_count": 129,
   "id": "db18cd5c",
   "metadata": {},
   "outputs": [],
   "source": [
    "joined_df4 = joined_df3.join(flights,\"userCode\",\"inner\")"
   ]
  },
  {
   "cell_type": "code",
   "execution_count": 130,
   "id": "633a1dce",
   "metadata": {},
   "outputs": [],
   "source": [
    "filtered_df4 = joined_df4.filter(joined_df3[\"Hotel Name\"]== \"Hotel A\")"
   ]
  },
  {
   "cell_type": "code",
   "execution_count": 141,
   "id": "49b37e7e",
   "metadata": {},
   "outputs": [],
   "source": [
    "#These people stayed at least once in Hotel A\n",
    "user_code_column = filtered_df4.select(\"userCode\",\"Gender\")"
   ]
  },
  {
   "cell_type": "code",
   "execution_count": 142,
   "id": "ae23b0d2",
   "metadata": {},
   "outputs": [],
   "source": [
    "df5 = flights.join(user_code_column,\"userCode\",\"left\")"
   ]
  },
  {
   "cell_type": "code",
   "execution_count": 143,
   "id": "8f7ed50c",
   "metadata": {},
   "outputs": [
    {
     "name": "stdout",
     "output_type": "stream",
     "text": [
      "+------+-----------------------+\n",
      "|Gender|average flight spending|\n",
      "+------+-----------------------+\n",
      "|  none|      909.7551104689924|\n",
      "|  NULL|     1044.0291359370394|\n",
      "|female|      908.4486398492921|\n",
      "|  male|      908.8239856333097|\n",
      "+------+-----------------------+\n",
      "\n"
     ]
    }
   ],
   "source": [
    "df5.groupBy(\"Gender\").agg(F.avg(df5[\"Flight Price\"]).alias(\"average flight spending\")).show()"
   ]
  }
 ],
 "metadata": {
  "kernelspec": {
   "display_name": "Python 3 (ipykernel)",
   "language": "python",
   "name": "python3"
  },
  "language_info": {
   "codemirror_mode": {
    "name": "ipython",
    "version": 3
   },
   "file_extension": ".py",
   "mimetype": "text/x-python",
   "name": "python",
   "nbconvert_exporter": "python",
   "pygments_lexer": "ipython3",
   "version": "3.9.12"
  }
 },
 "nbformat": 4,
 "nbformat_minor": 5
}
