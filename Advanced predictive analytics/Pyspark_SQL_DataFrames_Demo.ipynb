{
 "cells": [
  {
   "cell_type": "code",
   "execution_count": 1,
   "id": "00a94f8d",
   "metadata": {},
   "outputs": [],
   "source": [
    "import findspark\n",
    "findspark.init()"
   ]
  },
  {
   "cell_type": "code",
   "execution_count": 2,
   "id": "476c4425",
   "metadata": {},
   "outputs": [
    {
     "name": "stdout",
     "output_type": "stream",
     "text": [
      "22/10/23 00:01:12 WARN Utils: Your hostname, Ramcharans-MacBook-Pro.local resolves to a loopback address: 127.0.0.1; using 192.168.4.30 instead (on interface en0)\n",
      "22/10/23 00:01:12 WARN Utils: Set SPARK_LOCAL_IP if you need to bind to another address\n"
     ]
    },
    {
     "name": "stderr",
     "output_type": "stream",
     "text": [
      "Setting default log level to \"WARN\".\n",
      "To adjust logging level use sc.setLogLevel(newLevel). For SparkR, use setLogLevel(newLevel).\n"
     ]
    },
    {
     "name": "stdout",
     "output_type": "stream",
     "text": [
      "22/10/23 00:01:13 WARN NativeCodeLoader: Unable to load native-hadoop library for your platform... using builtin-java classes where applicable\n",
      "22/10/23 00:01:14 WARN Utils: Service 'SparkUI' could not bind on port 4040. Attempting port 4041.\n",
      "22/10/23 00:01:14 WARN Utils: Service 'SparkUI' could not bind on port 4041. Attempting port 4042.\n",
      "22/10/23 00:01:14 WARN Utils: Service 'SparkUI' could not bind on port 4042. Attempting port 4043.\n",
      "22/10/23 00:01:14 WARN Utils: Service 'SparkUI' could not bind on port 4043. Attempting port 4044.\n"
     ]
    },
    {
     "name": "stderr",
     "output_type": "stream",
     "text": [
      "/usr/local/opt/apache-spark/libexec/python/pyspark/sql/context.py:112: FutureWarning: Deprecated in 3.0.0. Use SparkSession.builder.getOrCreate() instead.\n",
      "  warnings.warn(\n"
     ]
    }
   ],
   "source": [
    "from pyspark.sql import SparkSession\n",
    "from pyspark.conf import SparkConf\n",
    "from pyspark.sql.types import * \n",
    "import pyspark.sql.functions as F\n",
    "from pyspark.sql.functions import col, asc,desc\n",
    "import matplotlib.pyplot as plt\n",
    "import numpy as np\n",
    "import seaborn as sns\n",
    "from pyspark.sql import SQLContext\n",
    "from pyspark.mllib.stat import Statistics\n",
    "import pandas as pd\n",
    "from pyspark.sql.functions import udf\n",
    "from pyspark.ml.feature import OneHotEncoder, StringIndexer, VectorAssembler,StandardScaler\n",
    "from pyspark.ml import Pipeline\n",
    "from sklearn.metrics import confusion_matrix\n",
    "\n",
    "spark=SparkSession.builder \\\n",
    ".master (\"local[*]\")\\\n",
    ".appName(\"week3\")\\\n",
    ".getOrCreate()\n",
    "sc=spark.sparkContext\n",
    "sqlContext=SQLContext(sc)"
   ]
  },
  {
   "cell_type": "code",
   "execution_count": 3,
   "id": "befd6dab",
   "metadata": {},
   "outputs": [
    {
     "name": "stderr",
     "output_type": "stream",
     "text": [
      "                                                                                \r"
     ]
    }
   ],
   "source": [
    "#Different data formats - CSV, TXT, JSON, PARQUET\n",
    "\n",
    "dataframe_json = spark.read.json('/usr/local/opt/apache-spark/libexec/examples/src/main/resources/people.json') \n",
    "dataframe_txt = spark.read.text('/usr/local/opt/apache-spark/libexec/examples/src/main/resources/people.txt') \n",
    "dataframe_csv = spark.read.csv('/usr/local/opt/apache-spark/libexec/examples/src/main/resources/people.csv') \n",
    "dataframe_parquet = spark.read.load('/usr/local/opt/apache-spark/libexec/examples/src/main/resources/users.parquet')"
   ]
  },
  {
   "cell_type": "code",
   "execution_count": 4,
   "id": "e1d870ce",
   "metadata": {},
   "outputs": [
    {
     "name": "stdout",
     "output_type": "stream",
     "text": [
      "+----+-------+\n",
      "| age|   name|\n",
      "+----+-------+\n",
      "|null|Michael|\n",
      "|  30|   Andy|\n",
      "|  19| Justin|\n",
      "+----+-------+\n",
      "\n"
     ]
    }
   ],
   "source": [
    "dataframe_json.show()"
   ]
  },
  {
   "cell_type": "code",
   "execution_count": 5,
   "id": "4a244c15",
   "metadata": {},
   "outputs": [
    {
     "name": "stdout",
     "output_type": "stream",
     "text": [
      "+-----------+\n",
      "|      value|\n",
      "+-----------+\n",
      "|Michael, 29|\n",
      "|   Andy, 30|\n",
      "| Justin, 19|\n",
      "+-----------+\n",
      "\n"
     ]
    }
   ],
   "source": [
    "dataframe_txt.show()"
   ]
  },
  {
   "cell_type": "code",
   "execution_count": 6,
   "id": "b97f4d8d",
   "metadata": {},
   "outputs": [
    {
     "name": "stdout",
     "output_type": "stream",
     "text": [
      "+------------------+\n",
      "|               _c0|\n",
      "+------------------+\n",
      "|      name;age;job|\n",
      "|Jorge;30;Developer|\n",
      "|  Bob;32;Developer|\n",
      "+------------------+\n",
      "\n"
     ]
    }
   ],
   "source": [
    "dataframe_csv.show()"
   ]
  },
  {
   "cell_type": "code",
   "execution_count": 7,
   "id": "a166320b",
   "metadata": {},
   "outputs": [
    {
     "name": "stdout",
     "output_type": "stream",
     "text": [
      "+------+--------------+----------------+\n",
      "|  name|favorite_color|favorite_numbers|\n",
      "+------+--------------+----------------+\n",
      "|Alyssa|          null|  [3, 9, 15, 20]|\n",
      "|   Ben|           red|              []|\n",
      "+------+--------------+----------------+\n",
      "\n"
     ]
    },
    {
     "name": "stderr",
     "output_type": "stream",
     "text": [
      "                                                                                \r"
     ]
    }
   ],
   "source": [
    "dataframe_parquet.show()"
   ]
  },
  {
   "cell_type": "code",
   "execution_count": 8,
   "id": "7af6308d",
   "metadata": {},
   "outputs": [
    {
     "name": "stderr",
     "output_type": "stream",
     "text": [
      "                                                                                \r"
     ]
    },
    {
     "name": "stdout",
     "output_type": "stream",
     "text": [
      "+-------+---+\n",
      "|   name|age|\n",
      "+-------+---+\n",
      "|  Messi| 35|\n",
      "|Ronaldo| 37|\n",
      "|  Salah| 30|\n",
      "| Neymar| 30|\n",
      "| Mbappe| 23|\n",
      "+-------+---+\n",
      "\n"
     ]
    }
   ],
   "source": [
    "from pyspark.sql.types import Row\n",
    "list_rdd=sc.parallelize([('Messi',35),('Ronaldo',37),('Salah',30),('Neymar',30),('Mbappe',23)])\n",
    "\n",
    "players = list_rdd.map(lambda x: Row(name=x[0], age=int(x[1])))\n",
    "players_df = spark.createDataFrame(players)\n",
    "players_df.show()"
   ]
  },
  {
   "cell_type": "code",
   "execution_count": 9,
   "id": "e8b1bfe7",
   "metadata": {},
   "outputs": [
    {
     "data": {
      "text/plain": [
       "'/Users/ramcharankakarla/BAN5753/Week3'"
      ]
     },
     "execution_count": 9,
     "metadata": {},
     "output_type": "execute_result"
    }
   ],
   "source": [
    "pwd"
   ]
  },
  {
   "cell_type": "code",
   "execution_count": 10,
   "id": "b5bef658",
   "metadata": {},
   "outputs": [],
   "source": [
    "#load the data file\n",
    "\n",
    "df= spark.read.option('header','true').option('inferschema','true')\\\n",
    ".csv('/Users/ramcharankakarla/BAN5753/Week3/employees.csv')\n"
   ]
  },
  {
   "cell_type": "code",
   "execution_count": 11,
   "id": "f8044a3d",
   "metadata": {},
   "outputs": [
    {
     "name": "stdout",
     "output_type": "stream",
     "text": [
      "+----------+------+----------+---------------+------+-------+-----------------+---------------+\n",
      "|First Name|Gender|Start Date|Last Login Time|Salary|Bonus %|Senior Management|           Team|\n",
      "+----------+------+----------+---------------+------+-------+-----------------+---------------+\n",
      "|   Douglas|  Male|  8/6/1993|       12:42 PM| 97308|  6.945|             true|      Marketing|\n",
      "|    Thomas|  Male| 3/31/1996|        6:53 AM| 61933|   4.17|             true|           null|\n",
      "|     Maria|Female| 4/23/1993|       11:17 AM|130590| 11.858|            false|        Finance|\n",
      "|     Jerry|  Male|  3/4/2005|        1:00 PM|138705|   9.34|             true|        Finance|\n",
      "|     Larry|  Male| 1/24/1998|        4:47 PM|101004|  1.389|             true|Client Services|\n",
      "+----------+------+----------+---------------+------+-------+-----------------+---------------+\n",
      "only showing top 5 rows\n",
      "\n"
     ]
    }
   ],
   "source": [
    "#display the records\n",
    "df.show(5)"
   ]
  },
  {
   "cell_type": "code",
   "execution_count": 12,
   "id": "e72c5bec",
   "metadata": {},
   "outputs": [
    {
     "name": "stdout",
     "output_type": "stream",
     "text": [
      "root\n",
      " |-- First Name: string (nullable = true)\n",
      " |-- Gender: string (nullable = true)\n",
      " |-- Start Date: string (nullable = true)\n",
      " |-- Last Login Time: string (nullable = true)\n",
      " |-- Salary: integer (nullable = true)\n",
      " |-- Bonus %: double (nullable = true)\n",
      " |-- Senior Management: boolean (nullable = true)\n",
      " |-- Team: string (nullable = true)\n",
      "\n"
     ]
    }
   ],
   "source": [
    "df.printSchema()\n"
   ]
  },
  {
   "cell_type": "markdown",
   "id": "9b30f848",
   "metadata": {},
   "source": [
    "# count()\n",
    "The count() function counts the number of rows in DataFrame."
   ]
  },
  {
   "cell_type": "code",
   "execution_count": 13,
   "id": "9c67735b",
   "metadata": {},
   "outputs": [
    {
     "data": {
      "text/plain": [
       "1000"
      ]
     },
     "execution_count": 13,
     "metadata": {},
     "output_type": "execute_result"
    }
   ],
   "source": [
    "df.count()"
   ]
  },
  {
   "cell_type": "markdown",
   "id": "00c56ecb",
   "metadata": {},
   "source": [
    "# columns()\n",
    "The columns() function returns the columns of DataFrame."
   ]
  },
  {
   "cell_type": "code",
   "execution_count": 14,
   "id": "c6fec584",
   "metadata": {},
   "outputs": [
    {
     "data": {
      "text/plain": [
       "['First Name',\n",
       " 'Gender',\n",
       " 'Start Date',\n",
       " 'Last Login Time',\n",
       " 'Salary',\n",
       " 'Bonus %',\n",
       " 'Senior Management',\n",
       " 'Team']"
      ]
     },
     "execution_count": 14,
     "metadata": {},
     "output_type": "execute_result"
    }
   ],
   "source": [
    "df.columns"
   ]
  },
  {
   "cell_type": "markdown",
   "id": "7bf4e69d",
   "metadata": {},
   "source": [
    "# describe()\n",
    "The describe(n) function computes the summary statistics of selected (n) columns in DataFrame."
   ]
  },
  {
   "cell_type": "code",
   "execution_count": 15,
   "id": "564e3980",
   "metadata": {},
   "outputs": [
    {
     "name": "stdout",
     "output_type": "stream",
     "text": [
      "+-------+------------------+-----------------+\n",
      "|summary|            Salary|          Bonus %|\n",
      "+-------+------------------+-----------------+\n",
      "|  count|              1000|             1000|\n",
      "|   mean|         90662.181|        10.207555|\n",
      "| stddev|32923.693342022256|5.528480814753191|\n",
      "|    min|             35013|            1.015|\n",
      "|    max|            149908|           19.944|\n",
      "+-------+------------------+-----------------+\n",
      "\n"
     ]
    }
   ],
   "source": [
    "df.describe(\"Salary\",\"Bonus %\").show()"
   ]
  },
  {
   "cell_type": "markdown",
   "id": "d6147cf5",
   "metadata": {},
   "source": [
    "# select()\n",
    "The select() function shows only selected column or columns of DataFrame."
   ]
  },
  {
   "cell_type": "code",
   "execution_count": 16,
   "id": "f19a82f0",
   "metadata": {},
   "outputs": [
    {
     "name": "stdout",
     "output_type": "stream",
     "text": [
      "+----------+------+\n",
      "|First Name|Gender|\n",
      "+----------+------+\n",
      "|   Douglas|  Male|\n",
      "|    Thomas|  Male|\n",
      "|     Maria|Female|\n",
      "|     Jerry|  Male|\n",
      "|     Larry|  Male|\n",
      "+----------+------+\n",
      "only showing top 5 rows\n",
      "\n"
     ]
    }
   ],
   "source": [
    "df.select(\"First Name\",\"Gender\").show(5)"
   ]
  },
  {
   "cell_type": "code",
   "execution_count": 17,
   "id": "a5748ad2",
   "metadata": {},
   "outputs": [
    {
     "name": "stdout",
     "output_type": "stream",
     "text": [
      "+----------+------+\n",
      "|First Name|Gender|\n",
      "+----------+------+\n",
      "|   Douglas|  Male|\n",
      "|    Thomas|  Male|\n",
      "|     Maria|Female|\n",
      "|     Jerry|  Male|\n",
      "|     Larry|  Male|\n",
      "|    Dennis|  Male|\n",
      "|      Ruby|Female|\n",
      "|      null|Female|\n",
      "|    Angela|Female|\n",
      "|   Frances|Female|\n",
      "|    Louise|Female|\n",
      "|     Julie|Female|\n",
      "|   Brandon|  Male|\n",
      "|      Gary|  Male|\n",
      "|  Kimberly|Female|\n",
      "|   Lillian|Female|\n",
      "|    Jeremy|  Male|\n",
      "|     Shawn|  Male|\n",
      "|     Diana|Female|\n",
      "|     Donna|Female|\n",
      "+----------+------+\n",
      "only showing top 20 rows\n",
      "\n"
     ]
    }
   ],
   "source": [
    "df.select(\"First Name\",\"Gender\").show()"
   ]
  },
  {
   "cell_type": "markdown",
   "id": "66938ed8",
   "metadata": {},
   "source": [
    "\n",
    "# when()\n",
    "The when() function shows selected column and designated cases depending on condition "
   ]
  },
  {
   "cell_type": "code",
   "execution_count": 18,
   "id": "7b666cc3",
   "metadata": {},
   "outputs": [
    {
     "name": "stdout",
     "output_type": "stream",
     "text": [
      "+----------+--------------------------------------------+\n",
      "|First Name|CASE WHEN (Salary > 10000) THEN 1 ELSE 0 END|\n",
      "+----------+--------------------------------------------+\n",
      "|   Douglas|                                           1|\n",
      "|    Thomas|                                           1|\n",
      "|     Maria|                                           1|\n",
      "|     Jerry|                                           1|\n",
      "|     Larry|                                           1|\n",
      "+----------+--------------------------------------------+\n",
      "only showing top 5 rows\n",
      "\n"
     ]
    }
   ],
   "source": [
    "from pyspark.sql.functions import when\n",
    "df.select(\"First Name\",when(df.Salary > 10000, 1).otherwise(0)).show(5)"
   ]
  },
  {
   "cell_type": "markdown",
   "id": "e63c0fb5",
   "metadata": {},
   "source": [
    "# like()\n",
    "The like() function shows selected column and filter out the condition we are looking for by assigning “True” or “False”."
   ]
  },
  {
   "cell_type": "code",
   "execution_count": 19,
   "id": "d6d79a6f",
   "metadata": {},
   "outputs": [
    {
     "name": "stdout",
     "output_type": "stream",
     "text": [
      "+----------+------------------+\n",
      "|First Name|Team LIKE %Client%|\n",
      "+----------+------------------+\n",
      "|   Douglas|             false|\n",
      "|    Thomas|              null|\n",
      "|     Maria|             false|\n",
      "|     Jerry|             false|\n",
      "|     Larry|              true|\n",
      "+----------+------------------+\n",
      "only showing top 5 rows\n",
      "\n"
     ]
    }
   ],
   "source": [
    "df.select(\"First Name\", df['Team'].like(\"%Client%\")).show(5)"
   ]
  },
  {
   "cell_type": "markdown",
   "id": "177119e4",
   "metadata": {},
   "source": [
    "# Startswith()\n",
    "The startswish() function searchs the letters in the brackets starting from the beginning of the first word in specified column."
   ]
  },
  {
   "cell_type": "code",
   "execution_count": 20,
   "id": "abeb2b2e",
   "metadata": {},
   "outputs": [
    {
     "name": "stdout",
     "output_type": "stream",
     "text": [
      "+----------+---------------------+\n",
      "|First Name|startswith(Team, Mar)|\n",
      "+----------+---------------------+\n",
      "|   Douglas|                 true|\n",
      "|    Thomas|                 null|\n",
      "|     Maria|                false|\n",
      "|     Jerry|                false|\n",
      "|     Larry|                false|\n",
      "+----------+---------------------+\n",
      "only showing top 5 rows\n",
      "\n"
     ]
    }
   ],
   "source": [
    "df.select(\"First Name\",df.Team.startswith(\"Mar\")).show(5)"
   ]
  },
  {
   "cell_type": "markdown",
   "id": "9f9d32ea",
   "metadata": {},
   "source": [
    "# Endswith()\n",
    "The endswith() function searchs the letters in the brackets starting from the end of the last word in specified column."
   ]
  },
  {
   "cell_type": "code",
   "execution_count": 21,
   "id": "7bdf4ca4",
   "metadata": {},
   "outputs": [
    {
     "name": "stdout",
     "output_type": "stream",
     "text": [
      "+----------+-------------------+\n",
      "|First Name|endswith(Team, ing)|\n",
      "+----------+-------------------+\n",
      "|   Douglas|               true|\n",
      "|    Thomas|               null|\n",
      "|     Maria|              false|\n",
      "|     Jerry|              false|\n",
      "|     Larry|              false|\n",
      "+----------+-------------------+\n",
      "only showing top 5 rows\n",
      "\n"
     ]
    }
   ],
   "source": [
    "df.select(\"First Name\",df.Team.endswith(\"ing\")).show(5)"
   ]
  },
  {
   "cell_type": "markdown",
   "id": "dab27a7e",
   "metadata": {},
   "source": [
    "# Substring()\n",
    "The substring() function extracts the substring from the column with provided length of the string you wanted to extract."
   ]
  },
  {
   "cell_type": "code",
   "execution_count": 22,
   "id": "1c95f7ac",
   "metadata": {},
   "outputs": [
    {
     "name": "stdout",
     "output_type": "stream",
     "text": [
      "+----------+\n",
      "|Gender_Ind|\n",
      "+----------+\n",
      "|         M|\n",
      "|         M|\n",
      "|         F|\n",
      "|         M|\n",
      "|         M|\n",
      "+----------+\n",
      "only showing top 5 rows\n",
      "\n"
     ]
    }
   ],
   "source": [
    "df.select(df[\"Gender\"].substr(1, 1).alias(\"Gender_Ind\")).show(5)"
   ]
  },
  {
   "cell_type": "markdown",
   "id": "7b8cca82",
   "metadata": {},
   "source": [
    "# between()\n",
    "The between() function filters column between provided conditions."
   ]
  },
  {
   "cell_type": "code",
   "execution_count": 23,
   "id": "f3631a77",
   "metadata": {},
   "outputs": [
    {
     "name": "stdout",
     "output_type": "stream",
     "text": [
      "+----------+----------------------------------------+\n",
      "|First Name|((Salary >= 1000) AND (Salary <= 10000))|\n",
      "+----------+----------------------------------------+\n",
      "|   Douglas|                                   false|\n",
      "|    Thomas|                                   false|\n",
      "|     Maria|                                   false|\n",
      "|     Jerry|                                   false|\n",
      "|     Larry|                                   false|\n",
      "+----------+----------------------------------------+\n",
      "only showing top 5 rows\n",
      "\n"
     ]
    }
   ],
   "source": [
    "df.select(\"First Name\",df.Salary.between(1000, 10000)).show(5)"
   ]
  },
  {
   "cell_type": "markdown",
   "id": "9c8fdcdb",
   "metadata": {},
   "source": [
    "# withColumn()\n",
    "The withcolumn() function adds or replaces columns in an existing DataFrame. "
   ]
  },
  {
   "cell_type": "code",
   "execution_count": 24,
   "id": "0175432a",
   "metadata": {},
   "outputs": [
    {
     "name": "stdout",
     "output_type": "stream",
     "text": [
      "+----------+------+----------+---------------+------+-------+-----------------+---------------+-------------+\n",
      "|First Name|Gender|Start Date|Last Login Time|Salary|Bonus %|Senior Management|           Team|yearly_salary|\n",
      "+----------+------+----------+---------------+------+-------+-----------------+---------------+-------------+\n",
      "|   Douglas|  Male|  8/6/1993|       12:42 PM| 97308|  6.945|             true|      Marketing|      1167696|\n",
      "|    Thomas|  Male| 3/31/1996|        6:53 AM| 61933|   4.17|             true|           null|       743196|\n",
      "|     Maria|Female| 4/23/1993|       11:17 AM|130590| 11.858|            false|        Finance|      1567080|\n",
      "|     Jerry|  Male|  3/4/2005|        1:00 PM|138705|   9.34|             true|        Finance|      1664460|\n",
      "|     Larry|  Male| 1/24/1998|        4:47 PM|101004|  1.389|             true|Client Services|      1212048|\n",
      "+----------+------+----------+---------------+------+-------+-----------------+---------------+-------------+\n",
      "only showing top 5 rows\n",
      "\n"
     ]
    }
   ],
   "source": [
    "df.withColumn(\"yearly_salary\",df.Salary*12).show(5)\n"
   ]
  },
  {
   "cell_type": "code",
   "execution_count": 25,
   "id": "a4deffdf",
   "metadata": {},
   "outputs": [
    {
     "name": "stdout",
     "output_type": "stream",
     "text": [
      "+----------+------+----------+---------------+------+-------+-----------------+--------------------+\n",
      "|First Name|Gender|Start Date|Last Login Time|Salary|Bonus %|Senior Management|                Team|\n",
      "+----------+------+----------+---------------+------+-------+-----------------+--------------------+\n",
      "|   Douglas|  Male|  8/6/1993|       12:42 PM| 97308|  6.945|             true|           Marketing|\n",
      "|    Thomas|  Male| 3/31/1996|        6:53 AM| 61933|   4.17|             true|                null|\n",
      "|     Maria|Female| 4/23/1993|       11:17 AM|130590| 11.858|            false|             Finance|\n",
      "|     Jerry|  Male|  3/4/2005|        1:00 PM|138705|   9.34|             true|             Finance|\n",
      "|     Larry|  Male| 1/24/1998|        4:47 PM|101004|  1.389|             true|     Client Services|\n",
      "|    Dennis|  Male| 4/18/1987|        1:35 AM|115163| 10.125|            false|               Legal|\n",
      "|      Ruby|Female| 8/17/1987|        4:20 PM| 65476| 10.012|             true|             Product|\n",
      "|      null|Female| 7/20/2015|       10:43 AM| 45906| 11.598|             null|             Finance|\n",
      "|    Angela|Female|11/22/2005|        6:29 AM| 95570| 18.523|             true|         Engineering|\n",
      "|   Frances|Female|  8/8/2002|        6:51 AM|139852|  7.524|             true|Business Development|\n",
      "|    Louise|Female| 8/12/1980|        9:01 AM| 63241| 15.132|             true|                null|\n",
      "|     Julie|Female|10/26/1997|        3:19 PM|102508| 12.637|             true|               Legal|\n",
      "|   Brandon|  Male| 12/1/1980|        1:08 AM|112807| 17.492|             true|     Human Resources|\n",
      "|      Gary|  Male| 1/27/2008|       11:40 PM|109831|  5.831|            false|               Sales|\n",
      "|  Kimberly|Female| 1/14/1999|        7:13 AM| 41426| 14.543|             true|             Finance|\n",
      "|   Lillian|Female|  6/5/2016|        6:09 AM| 59414|  1.256|            false|             Product|\n",
      "|    Jeremy|  Male| 9/21/2010|        5:56 AM| 90370|  7.369|            false|     Human Resources|\n",
      "|     Shawn|  Male| 12/7/1986|        7:45 PM|111737|  6.414|            false|             Product|\n",
      "|     Diana|Female|10/23/1981|       10:27 AM|132940| 19.082|            false|     Client Services|\n",
      "|     Donna|Female| 7/22/2010|        3:48 AM| 81014|  1.894|            false|             Product|\n",
      "+----------+------+----------+---------------+------+-------+-----------------+--------------------+\n",
      "only showing top 20 rows\n",
      "\n"
     ]
    }
   ],
   "source": [
    "df.show()"
   ]
  },
  {
   "cell_type": "code",
   "execution_count": 26,
   "id": "0c0c59cc",
   "metadata": {},
   "outputs": [],
   "source": [
    "df=df.withColumn(\"yearly_salary\",df.Salary*12)"
   ]
  },
  {
   "cell_type": "code",
   "execution_count": 30,
   "id": "e428b1b3",
   "metadata": {},
   "outputs": [
    {
     "name": "stdout",
     "output_type": "stream",
     "text": [
      "+----------+------+----------+---------------+------+-------+-----------------+--------------------+-------------+\n",
      "|First Name|Gender|Start Date|Last Login Time|Salary|Bonus %|Senior Management|                Team|yearly_salary|\n",
      "+----------+------+----------+---------------+------+-------+-----------------+--------------------+-------------+\n",
      "|   Douglas|  Male|  8/6/1993|       12:42 PM| 97308|  6.945|             true|           Marketing|      1167696|\n",
      "|    Thomas|  Male| 3/31/1996|        6:53 AM| 61933|   4.17|             true|                null|       743196|\n",
      "|     Maria|Female| 4/23/1993|       11:17 AM|130590| 11.858|            false|             Finance|      1567080|\n",
      "|     Jerry|  Male|  3/4/2005|        1:00 PM|138705|   9.34|             true|             Finance|      1664460|\n",
      "|     Larry|  Male| 1/24/1998|        4:47 PM|101004|  1.389|             true|     Client Services|      1212048|\n",
      "|    Dennis|  Male| 4/18/1987|        1:35 AM|115163| 10.125|            false|               Legal|      1381956|\n",
      "|      Ruby|Female| 8/17/1987|        4:20 PM| 65476| 10.012|             true|             Product|       785712|\n",
      "|      null|Female| 7/20/2015|       10:43 AM| 45906| 11.598|             null|             Finance|       550872|\n",
      "|    Angela|Female|11/22/2005|        6:29 AM| 95570| 18.523|             true|         Engineering|      1146840|\n",
      "|   Frances|Female|  8/8/2002|        6:51 AM|139852|  7.524|             true|Business Development|      1678224|\n",
      "|    Louise|Female| 8/12/1980|        9:01 AM| 63241| 15.132|             true|                null|       758892|\n",
      "|     Julie|Female|10/26/1997|        3:19 PM|102508| 12.637|             true|               Legal|      1230096|\n",
      "|   Brandon|  Male| 12/1/1980|        1:08 AM|112807| 17.492|             true|     Human Resources|      1353684|\n",
      "|      Gary|  Male| 1/27/2008|       11:40 PM|109831|  5.831|            false|               Sales|      1317972|\n",
      "|  Kimberly|Female| 1/14/1999|        7:13 AM| 41426| 14.543|             true|             Finance|       497112|\n",
      "|   Lillian|Female|  6/5/2016|        6:09 AM| 59414|  1.256|            false|             Product|       712968|\n",
      "|    Jeremy|  Male| 9/21/2010|        5:56 AM| 90370|  7.369|            false|     Human Resources|      1084440|\n",
      "|     Shawn|  Male| 12/7/1986|        7:45 PM|111737|  6.414|            false|             Product|      1340844|\n",
      "|     Diana|Female|10/23/1981|       10:27 AM|132940| 19.082|            false|     Client Services|      1595280|\n",
      "|     Donna|Female| 7/22/2010|        3:48 AM| 81014|  1.894|            false|             Product|       972168|\n",
      "+----------+------+----------+---------------+------+-------+-----------------+--------------------+-------------+\n",
      "only showing top 20 rows\n",
      "\n"
     ]
    }
   ],
   "source": [
    "df.show()"
   ]
  },
  {
   "cell_type": "markdown",
   "id": "c58f4464",
   "metadata": {},
   "source": [
    "# Cast()"
   ]
  },
  {
   "cell_type": "code",
   "execution_count": 31,
   "id": "4b98db9a",
   "metadata": {},
   "outputs": [
    {
     "name": "stdout",
     "output_type": "stream",
     "text": [
      "+----------+------+----------+---------------+------+-------+-----------------+---------------+-------------+\n",
      "|First Name|Gender|Start Date|Last Login Time|Salary|Bonus %|Senior Management|           Team|yearly_salary|\n",
      "+----------+------+----------+---------------+------+-------+-----------------+---------------+-------------+\n",
      "|   Douglas|  Male|  8/6/1993|       12:42 PM| 97308|  6.945|             true|      Marketing|    1167696.0|\n",
      "|    Thomas|  Male| 3/31/1996|        6:53 AM| 61933|   4.17|             true|           null|     743196.0|\n",
      "|     Maria|Female| 4/23/1993|       11:17 AM|130590| 11.858|            false|        Finance|    1567080.0|\n",
      "|     Jerry|  Male|  3/4/2005|        1:00 PM|138705|   9.34|             true|        Finance|    1664460.0|\n",
      "|     Larry|  Male| 1/24/1998|        4:47 PM|101004|  1.389|             true|Client Services|    1212048.0|\n",
      "+----------+------+----------+---------------+------+-------+-----------------+---------------+-------------+\n",
      "only showing top 5 rows\n",
      "\n"
     ]
    }
   ],
   "source": [
    "df.withColumn(\"yearly_salary\",col(\"yearly_salary\").cast(\"float\")).show(5)"
   ]
  },
  {
   "cell_type": "markdown",
   "id": "b6f7ad0b",
   "metadata": {},
   "source": [
    "# withColumnRenamed()\n",
    "The withColumnRenamed() function"
   ]
  },
  {
   "cell_type": "code",
   "execution_count": 32,
   "id": "c7a6a9d4",
   "metadata": {},
   "outputs": [
    {
     "name": "stdout",
     "output_type": "stream",
     "text": [
      "+-------+------+----------+---------------+------+-------+-----------------+---------------+-------------+\n",
      "|   name|Gender|Start Date|Last Login Time|Salary|Bonus %|Senior Management|           Team|yearly_salary|\n",
      "+-------+------+----------+---------------+------+-------+-----------------+---------------+-------------+\n",
      "|Douglas|  Male|  8/6/1993|       12:42 PM| 97308|  6.945|             true|      Marketing|      1167696|\n",
      "| Thomas|  Male| 3/31/1996|        6:53 AM| 61933|   4.17|             true|           null|       743196|\n",
      "|  Maria|Female| 4/23/1993|       11:17 AM|130590| 11.858|            false|        Finance|      1567080|\n",
      "|  Jerry|  Male|  3/4/2005|        1:00 PM|138705|   9.34|             true|        Finance|      1664460|\n",
      "|  Larry|  Male| 1/24/1998|        4:47 PM|101004|  1.389|             true|Client Services|      1212048|\n",
      "+-------+------+----------+---------------+------+-------+-----------------+---------------+-------------+\n",
      "only showing top 5 rows\n",
      "\n"
     ]
    }
   ],
   "source": [
    "df.withColumnRenamed(\"First Name\",\"name\").show(5)\n"
   ]
  },
  {
   "cell_type": "markdown",
   "id": "868e9538",
   "metadata": {},
   "source": [
    "# toDF()\n",
    "The toDF() function returns a new DataFrame with renaming all columns"
   ]
  },
  {
   "cell_type": "code",
   "execution_count": 33,
   "id": "53188013",
   "metadata": {},
   "outputs": [
    {
     "name": "stdout",
     "output_type": "stream",
     "text": [
      "+----+-------+\n",
      "| age|   name|\n",
      "+----+-------+\n",
      "|null|Michael|\n",
      "|  30|   Andy|\n",
      "|  19| Justin|\n",
      "+----+-------+\n",
      "\n"
     ]
    }
   ],
   "source": [
    "dataframe_json.toDF(\"age\", \"name\").show(5)"
   ]
  },
  {
   "cell_type": "markdown",
   "id": "5c23965e",
   "metadata": {},
   "source": [
    "# drop()\n",
    "The drop() function drops an existing column from DataFrame.\n"
   ]
  },
  {
   "cell_type": "code",
   "execution_count": 34,
   "id": "afc0873e",
   "metadata": {},
   "outputs": [
    {
     "name": "stdout",
     "output_type": "stream",
     "text": [
      "+----------+------+----------+---------------+------+-------+-----------------+---------------+\n",
      "|First Name|Gender|Start Date|Last Login Time|Salary|Bonus %|Senior Management|           Team|\n",
      "+----------+------+----------+---------------+------+-------+-----------------+---------------+\n",
      "|   Douglas|  Male|  8/6/1993|       12:42 PM| 97308|  6.945|             true|      Marketing|\n",
      "|    Thomas|  Male| 3/31/1996|        6:53 AM| 61933|   4.17|             true|           null|\n",
      "|     Maria|Female| 4/23/1993|       11:17 AM|130590| 11.858|            false|        Finance|\n",
      "|     Jerry|  Male|  3/4/2005|        1:00 PM|138705|   9.34|             true|        Finance|\n",
      "|     Larry|  Male| 1/24/1998|        4:47 PM|101004|  1.389|             true|Client Services|\n",
      "+----------+------+----------+---------------+------+-------+-----------------+---------------+\n",
      "only showing top 5 rows\n",
      "\n"
     ]
    }
   ],
   "source": [
    "df.drop(\"yearly_salary\").show(5)"
   ]
  },
  {
   "cell_type": "markdown",
   "id": "32ad01f1",
   "metadata": {},
   "source": [
    "# groupBy()\n",
    "The groupBy() function splits the data into groups based on same values.\n"
   ]
  },
  {
   "cell_type": "code",
   "execution_count": 35,
   "id": "59ad3eec",
   "metadata": {},
   "outputs": [
    {
     "name": "stdout",
     "output_type": "stream",
     "text": [
      "+------+-----+\n",
      "|Gender|count|\n",
      "+------+-----+\n",
      "|  null|  145|\n",
      "|Female|  431|\n",
      "|  Male|  424|\n",
      "+------+-----+\n",
      "\n"
     ]
    }
   ],
   "source": [
    "df.groupBy(\"Gender\").count().show(5)"
   ]
  },
  {
   "cell_type": "markdown",
   "id": "a48d88ff",
   "metadata": {},
   "source": [
    "# Summary Statistics()"
   ]
  },
  {
   "cell_type": "code",
   "execution_count": 36,
   "id": "6d2317a4",
   "metadata": {},
   "outputs": [
    {
     "name": "stderr",
     "output_type": "stream",
     "text": [
      "                                                                                \r"
     ]
    },
    {
     "name": "stdout",
     "output_type": "stream",
     "text": [
      "+-------+----------+------+----------+---------------+------+-------+--------------------+-------------+\n",
      "|summary|First Name|Gender|Start Date|Last Login Time|Salary|Bonus %|                Team|yearly_salary|\n",
      "+-------+----------+------+----------+---------------+------+-------+--------------------+-------------+\n",
      "|  count|       933|   855|      1000|           1000|  1000|   1000|                 957|         1000|\n",
      "|    min|     Aaron|Female|  1/1/2014|       10:00 AM| 35013|  1.015|Business Development|       420156|\n",
      "|    25%|      null|  null|      null|           null| 62454|  5.368|                null|       749448|\n",
      "|    75%|      null|  null|      null|           null|118736| 14.837|                null|      1424832|\n",
      "|    max|    Willie|  Male|  9/9/2006|        9:59 AM|149908| 19.944|               Sales|      1798896|\n",
      "+-------+----------+------+----------+---------------+------+-------+--------------------+-------------+\n",
      "\n"
     ]
    }
   ],
   "source": [
    "df.summary(\"count\", \"min\", \"25%\", \"75%\", \"max\").show()"
   ]
  },
  {
   "cell_type": "markdown",
   "id": "a707fa50",
   "metadata": {},
   "source": [
    "# filter()\n",
    "The filter() function filters the data by asked condition.\n"
   ]
  },
  {
   "cell_type": "code",
   "execution_count": 37,
   "id": "81d9b18f",
   "metadata": {},
   "outputs": [
    {
     "name": "stdout",
     "output_type": "stream",
     "text": [
      "+----------+------+----------+---------------+------+-------+-----------------+---------+-------------+\n",
      "|First Name|Gender|Start Date|Last Login Time|Salary|Bonus %|Senior Management|     Team|yearly_salary|\n",
      "+----------+------+----------+---------------+------+-------+-----------------+---------+-------------+\n",
      "|   Douglas|  Male|  8/6/1993|       12:42 PM| 97308|  6.945|             true|Marketing|      1167696|\n",
      "|   Matthew|  Male|  9/5/1995|        2:12 AM|100612| 13.645|            false|Marketing|      1207344|\n",
      "|     Craig|  Male| 2/27/2000|        7:45 AM| 37598|  7.757|             true|Marketing|       451176|\n",
      "|   Marilyn|Female| 12/7/1980|        3:16 AM| 73524|  5.207|             true|Marketing|       882288|\n",
      "|      null|Female| 6/12/2007|        5:25 PM| 58112| 19.414|             null|Marketing|       697344|\n",
      "+----------+------+----------+---------------+------+-------+-----------------+---------+-------------+\n",
      "only showing top 5 rows\n",
      "\n"
     ]
    }
   ],
   "source": [
    "\n",
    "df.filter((df.Salary>50 )&(df.Team.startswith(\"M\"))).show(5)"
   ]
  },
  {
   "cell_type": "markdown",
   "id": "f1212dc4",
   "metadata": {},
   "source": [
    "# Regex()\n",
    "#Select columns by regular expression"
   ]
  },
  {
   "cell_type": "code",
   "execution_count": null,
   "id": "b4e3eeff",
   "metadata": {},
   "outputs": [],
   "source": [
    "# #\n",
    "# Single characters:\n",
    "# •\t\\d – Identifies numbers between 0 to 9\n",
    "# •\t\\w – Identifies all upper and lower case alphabets and numbers from 0 to 9 [A-Z a-z  0 -9]\n",
    "# •\t\\s – Whitespace\n",
    "# •\t. – Any character\n",
    "\n",
    "# We also have set of quantifiers that guide how many characters to search \n",
    "\n",
    "# Quantifiers:\n",
    "# •\t* - 0 or more characters\n",
    "# •\t+ - 1 or more characters\n",
    "# •\t? – 0 or 1 characters\n",
    "# •\t{min,max}- specify the range, any characters between the range including min, max\n",
    "# •\t{n} – Exactly n characters\n"
   ]
  },
  {
   "cell_type": "code",
   "execution_count": 38,
   "id": "5d737167",
   "metadata": {},
   "outputs": [
    {
     "name": "stdout",
     "output_type": "stream",
     "text": [
      "+----------+\n",
      "|First Name|\n",
      "+----------+\n",
      "|   Douglas|\n",
      "|    Thomas|\n",
      "|     Maria|\n",
      "|     Jerry|\n",
      "|     Larry|\n",
      "|    Dennis|\n",
      "|      Ruby|\n",
      "|      null|\n",
      "|    Angela|\n",
      "|   Frances|\n",
      "|    Louise|\n",
      "|     Julie|\n",
      "|   Brandon|\n",
      "|      Gary|\n",
      "|  Kimberly|\n",
      "|   Lillian|\n",
      "|    Jeremy|\n",
      "|     Shawn|\n",
      "|     Diana|\n",
      "|     Donna|\n",
      "+----------+\n",
      "only showing top 20 rows\n",
      "\n"
     ]
    }
   ],
   "source": [
    "df.select(df.colRegex(\"`^.*name*`\")).show()"
   ]
  },
  {
   "cell_type": "code",
   "execution_count": 39,
   "id": "de102648",
   "metadata": {},
   "outputs": [
    {
     "name": "stdout",
     "output_type": "stream",
     "text": [
      "+----------+------+------+--------------------+\n",
      "|First Name|Gender|Salary|                Team|\n",
      "+----------+------+------+--------------------+\n",
      "|   Douglas|  Male| 97308|           Marketing|\n",
      "|    Thomas|  Male| 61933|                null|\n",
      "|     Maria|Female|130590|             Finance|\n",
      "|     Jerry|  Male|138705|             Finance|\n",
      "|     Larry|  Male|101004|     Client Services|\n",
      "|    Dennis|  Male|115163|               Legal|\n",
      "|      Ruby|Female| 65476|             Product|\n",
      "|      null|Female| 45906|             Finance|\n",
      "|    Angela|Female| 95570|         Engineering|\n",
      "|   Frances|Female|139852|Business Development|\n",
      "|    Louise|Female| 63241|                null|\n",
      "|     Julie|Female|102508|               Legal|\n",
      "|   Brandon|  Male|112807|     Human Resources|\n",
      "|      Gary|  Male|109831|               Sales|\n",
      "|  Kimberly|Female| 41426|             Finance|\n",
      "|   Lillian|Female| 59414|             Product|\n",
      "|    Jeremy|  Male| 90370|     Human Resources|\n",
      "|     Shawn|  Male|111737|             Product|\n",
      "|     Diana|Female|132940|     Client Services|\n",
      "|     Donna|Female| 81014|             Product|\n",
      "+----------+------+------+--------------------+\n",
      "only showing top 20 rows\n",
      "\n"
     ]
    }
   ],
   "source": [
    "# Select All columns from List\n",
    "columns = [\"First Name\",\"Gender\",\"Salary\",\"Team\"]\n",
    "df.select(*columns).show()"
   ]
  },
  {
   "cell_type": "code",
   "execution_count": 40,
   "id": "a77eab33",
   "metadata": {},
   "outputs": [
    {
     "name": "stdout",
     "output_type": "stream",
     "text": [
      "+----------+------+----------+---------------+------+-------+-----------------+--------------------+-------------+\n",
      "|First Name|Gender|Start Date|Last Login Time|Salary|Bonus %|Senior Management|                Team|yearly_salary|\n",
      "+----------+------+----------+---------------+------+-------+-----------------+--------------------+-------------+\n",
      "|   Douglas|  Male|  8/6/1993|       12:42 PM| 97308|  6.945|             true|           Marketing|      1167696|\n",
      "|    Thomas|  Male| 3/31/1996|        6:53 AM| 61933|   4.17|             true|                null|       743196|\n",
      "|     Maria|Female| 4/23/1993|       11:17 AM|130590| 11.858|            false|             Finance|      1567080|\n",
      "|     Jerry|  Male|  3/4/2005|        1:00 PM|138705|   9.34|             true|             Finance|      1664460|\n",
      "|     Larry|  Male| 1/24/1998|        4:47 PM|101004|  1.389|             true|     Client Services|      1212048|\n",
      "|    Dennis|  Male| 4/18/1987|        1:35 AM|115163| 10.125|            false|               Legal|      1381956|\n",
      "|      Ruby|Female| 8/17/1987|        4:20 PM| 65476| 10.012|             true|             Product|       785712|\n",
      "|      null|Female| 7/20/2015|       10:43 AM| 45906| 11.598|             null|             Finance|       550872|\n",
      "|    Angela|Female|11/22/2005|        6:29 AM| 95570| 18.523|             true|         Engineering|      1146840|\n",
      "|   Frances|Female|  8/8/2002|        6:51 AM|139852|  7.524|             true|Business Development|      1678224|\n",
      "|    Louise|Female| 8/12/1980|        9:01 AM| 63241| 15.132|             true|                null|       758892|\n",
      "|     Julie|Female|10/26/1997|        3:19 PM|102508| 12.637|             true|               Legal|      1230096|\n",
      "|   Brandon|  Male| 12/1/1980|        1:08 AM|112807| 17.492|             true|     Human Resources|      1353684|\n",
      "|      Gary|  Male| 1/27/2008|       11:40 PM|109831|  5.831|            false|               Sales|      1317972|\n",
      "|  Kimberly|Female| 1/14/1999|        7:13 AM| 41426| 14.543|             true|             Finance|       497112|\n",
      "|   Lillian|Female|  6/5/2016|        6:09 AM| 59414|  1.256|            false|             Product|       712968|\n",
      "|    Jeremy|  Male| 9/21/2010|        5:56 AM| 90370|  7.369|            false|     Human Resources|      1084440|\n",
      "|     Shawn|  Male| 12/7/1986|        7:45 PM|111737|  6.414|            false|             Product|      1340844|\n",
      "|     Diana|Female|10/23/1981|       10:27 AM|132940| 19.082|            false|     Client Services|      1595280|\n",
      "|     Donna|Female| 7/22/2010|        3:48 AM| 81014|  1.894|            false|             Product|       972168|\n",
      "+----------+------+----------+---------------+------+-------+-----------------+--------------------+-------------+\n",
      "only showing top 20 rows\n",
      "\n",
      "+----------+------+----------+---------------+------+-------+-----------------+--------------------+-------------+\n",
      "|First Name|Gender|Start Date|Last Login Time|Salary|Bonus %|Senior Management|                Team|yearly_salary|\n",
      "+----------+------+----------+---------------+------+-------+-----------------+--------------------+-------------+\n",
      "|   Douglas|  Male|  8/6/1993|       12:42 PM| 97308|  6.945|             true|           Marketing|      1167696|\n",
      "|    Thomas|  Male| 3/31/1996|        6:53 AM| 61933|   4.17|             true|                null|       743196|\n",
      "|     Maria|Female| 4/23/1993|       11:17 AM|130590| 11.858|            false|             Finance|      1567080|\n",
      "|     Jerry|  Male|  3/4/2005|        1:00 PM|138705|   9.34|             true|             Finance|      1664460|\n",
      "|     Larry|  Male| 1/24/1998|        4:47 PM|101004|  1.389|             true|     Client Services|      1212048|\n",
      "|    Dennis|  Male| 4/18/1987|        1:35 AM|115163| 10.125|            false|               Legal|      1381956|\n",
      "|      Ruby|Female| 8/17/1987|        4:20 PM| 65476| 10.012|             true|             Product|       785712|\n",
      "|      null|Female| 7/20/2015|       10:43 AM| 45906| 11.598|             null|             Finance|       550872|\n",
      "|    Angela|Female|11/22/2005|        6:29 AM| 95570| 18.523|             true|         Engineering|      1146840|\n",
      "|   Frances|Female|  8/8/2002|        6:51 AM|139852|  7.524|             true|Business Development|      1678224|\n",
      "|    Louise|Female| 8/12/1980|        9:01 AM| 63241| 15.132|             true|                null|       758892|\n",
      "|     Julie|Female|10/26/1997|        3:19 PM|102508| 12.637|             true|               Legal|      1230096|\n",
      "|   Brandon|  Male| 12/1/1980|        1:08 AM|112807| 17.492|             true|     Human Resources|      1353684|\n",
      "|      Gary|  Male| 1/27/2008|       11:40 PM|109831|  5.831|            false|               Sales|      1317972|\n",
      "|  Kimberly|Female| 1/14/1999|        7:13 AM| 41426| 14.543|             true|             Finance|       497112|\n",
      "|   Lillian|Female|  6/5/2016|        6:09 AM| 59414|  1.256|            false|             Product|       712968|\n",
      "|    Jeremy|  Male| 9/21/2010|        5:56 AM| 90370|  7.369|            false|     Human Resources|      1084440|\n",
      "|     Shawn|  Male| 12/7/1986|        7:45 PM|111737|  6.414|            false|             Product|      1340844|\n",
      "|     Diana|Female|10/23/1981|       10:27 AM|132940| 19.082|            false|     Client Services|      1595280|\n",
      "|     Donna|Female| 7/22/2010|        3:48 AM| 81014|  1.894|            false|             Product|       972168|\n",
      "+----------+------+----------+---------------+------+-------+-----------------+--------------------+-------------+\n",
      "only showing top 20 rows\n",
      "\n"
     ]
    }
   ],
   "source": [
    "# Select All columns\n",
    "df.select([col for col in df.columns]).show()\n",
    "df.select(\"*\").show()"
   ]
  },
  {
   "cell_type": "markdown",
   "id": "e8a8ba14",
   "metadata": {},
   "source": [
    "# groupBy()\n",
    "The groupBy() function splits the data into groups based on same values.\n",
    "\n"
   ]
  },
  {
   "cell_type": "code",
   "execution_count": 42,
   "id": "b21327ec",
   "metadata": {},
   "outputs": [
    {
     "name": "stdout",
     "output_type": "stream",
     "text": [
      "+--------------------+-----+\n",
      "|                Team|count|\n",
      "+--------------------+-----+\n",
      "|               Sales|   94|\n",
      "|         Engineering|   92|\n",
      "|                null|   43|\n",
      "|Business Development|  101|\n",
      "|             Finance|  102|\n",
      "|     Client Services|  106|\n",
      "|        Distribution|   90|\n",
      "|               Legal|   88|\n",
      "|           Marketing|   98|\n",
      "|             Product|   95|\n",
      "|     Human Resources|   91|\n",
      "+--------------------+-----+\n",
      "\n"
     ]
    }
   ],
   "source": [
    "df.groupBy(\"Team\").count().show()"
   ]
  },
  {
   "cell_type": "markdown",
   "id": "1f79287b",
   "metadata": {},
   "source": [
    "# agg()\n",
    "The agg() function computes aggregates and returns the result as a columns of a DataFrame with using functions like sum,avg,max,min,count.\n"
   ]
  },
  {
   "cell_type": "code",
   "execution_count": 43,
   "id": "a146023a",
   "metadata": {},
   "outputs": [
    {
     "name": "stdout",
     "output_type": "stream",
     "text": [
      "+-----------+-----------+-----------+-----------+\n",
      "|min(Salary)|max(Salary)|avg(Salary)|sum(Salary)|\n",
      "+-----------+-----------+-----------+-----------+\n",
      "|      35013|     149908|  90662.181|   90662181|\n",
      "+-----------+-----------+-----------+-----------+\n",
      "\n"
     ]
    }
   ],
   "source": [
    "from pyspark.sql import functions as F\n",
    "df.agg(F.min(df.Salary),F.max(df.Salary),F.avg(df.Salary),F.sum(df.Salary)).show()"
   ]
  },
  {
   "cell_type": "markdown",
   "id": "a9f9fa9a",
   "metadata": {},
   "source": [
    "# sort() & orderBy()\n",
    "The sort() and orderBy() functions sort the data of a column either alphabetic or numeric in ascending or descending order."
   ]
  },
  {
   "cell_type": "code",
   "execution_count": 44,
   "id": "7e5b620a",
   "metadata": {},
   "outputs": [
    {
     "name": "stdout",
     "output_type": "stream",
     "text": [
      "+----------+------+----------+---------------+------+-------+-----------------+---------------+-------------+\n",
      "|First Name|Gender|Start Date|Last Login Time|Salary|Bonus %|Senior Management|           Team|yearly_salary|\n",
      "+----------+------+----------+---------------+------+-------+-----------------+---------------+-------------+\n",
      "|   Michael|  Male| 7/30/1993|        5:35 PM| 35013| 14.879|            false|        Product|       420156|\n",
      "|     Kevin|  Male| 3/25/1982|        7:31 AM| 35061|  5.128|            false|          Legal|       420732|\n",
      "|    Steven|  Male| 3/30/1980|        9:20 PM| 35095|  8.379|             true|Client Services|       421140|\n",
      "|   Matthew|  Male|  1/2/2013|       10:33 PM| 35203|  18.04|            false|Human Resources|       422436|\n",
      "|   Cynthia|Female|  7/5/1986|        1:24 AM| 35381| 11.749|            false|        Finance|       424572|\n",
      "+----------+------+----------+---------------+------+-------+-----------------+---------------+-------------+\n",
      "only showing top 5 rows\n",
      "\n"
     ]
    }
   ],
   "source": [
    "df.sort(\"Salary\").show(5)"
   ]
  },
  {
   "cell_type": "code",
   "execution_count": 45,
   "id": "8860eb32",
   "metadata": {},
   "outputs": [
    {
     "name": "stdout",
     "output_type": "stream",
     "text": [
      "+----------+------+----------+---------------+------+-------+-----------------+---------------+-------------+\n",
      "|First Name|Gender|Start Date|Last Login Time|Salary|Bonus %|Senior Management|           Team|yearly_salary|\n",
      "+----------+------+----------+---------------+------+-------+-----------------+---------------+-------------+\n",
      "| Katherine|Female| 8/13/1996|       12:21 AM|149908| 18.912|            false|        Finance|      1798896|\n",
      "|      Rose|Female| 5/28/2015|        8:40 AM|149903|   5.63|            false|Human Resources|      1798836|\n",
      "|   Cynthia|Female| 7/12/2006|        8:55 AM|149684|  7.864|            false|        Product|      1796208|\n",
      "|      null|Female| 2/23/2005|        9:50 PM|149654|  1.825|             null|          Sales|      1795848|\n",
      "|     Kathy|Female| 3/18/2000|        7:26 PM|149563| 16.991|             true|        Finance|      1794756|\n",
      "+----------+------+----------+---------------+------+-------+-----------------+---------------+-------------+\n",
      "only showing top 5 rows\n",
      "\n"
     ]
    }
   ],
   "source": [
    "df.orderBy(desc(\"Salary\")).show(5)"
   ]
  },
  {
   "cell_type": "markdown",
   "id": "67553f6b",
   "metadata": {},
   "source": [
    "# fillna()\n",
    "The fillna() function replaces null values with one that we desiganted.\n",
    "\n"
   ]
  },
  {
   "cell_type": "code",
   "execution_count": 46,
   "id": "e6f29b85",
   "metadata": {},
   "outputs": [
    {
     "name": "stdout",
     "output_type": "stream",
     "text": [
      "+----------+------+----------+---------------+------+-------+-----------------+---------------+-------------+\n",
      "|First Name|Gender|Start Date|Last Login Time|Salary|Bonus %|Senior Management|           Team|yearly_salary|\n",
      "+----------+------+----------+---------------+------+-------+-----------------+---------------+-------------+\n",
      "|   Douglas|  Male|  8/6/1993|       12:42 PM| 97308|  6.945|             true|      Marketing|      1167696|\n",
      "|    Thomas|  Male| 3/31/1996|        6:53 AM| 61933|   4.17|             true|           null|       743196|\n",
      "|     Maria|Female| 4/23/1993|       11:17 AM|130590| 11.858|            false|        Finance|      1567080|\n",
      "|     Jerry|  Male|  3/4/2005|        1:00 PM|138705|   9.34|             true|        Finance|      1664460|\n",
      "|     Larry|  Male| 1/24/1998|        4:47 PM|101004|  1.389|             true|Client Services|      1212048|\n",
      "+----------+------+----------+---------------+------+-------+-----------------+---------------+-------------+\n",
      "only showing top 5 rows\n",
      "\n"
     ]
    }
   ],
   "source": [
    "df.fillna({\"Senior Management\":\"true\",\"salary\":5000}).show(5)"
   ]
  },
  {
   "cell_type": "markdown",
   "id": "5e023ad6",
   "metadata": {},
   "source": [
    "# join()\n",
    "The join() function joins a DataFrame with another DataFrame by matching specified common column with using the chosen join expression.\n"
   ]
  },
  {
   "cell_type": "code",
   "execution_count": 47,
   "id": "56c71e5e",
   "metadata": {},
   "outputs": [
    {
     "name": "stdout",
     "output_type": "stream",
     "text": [
      "+----------+----------+------+---------------+------+-------+-----------------+--------------------+-------------+----------+------+---------------+------+-------+-----------------+--------------------+-------------+\n",
      "|Start Date|First Name|Gender|Last Login Time|Salary|Bonus %|Senior Management|                Team|yearly_salary|First Name|Gender|Last Login Time|Salary|Bonus %|Senior Management|                Team|yearly_salary|\n",
      "+----------+----------+------+---------------+------+-------+-----------------+--------------------+-------------+----------+------+---------------+------+-------+-----------------+--------------------+-------------+\n",
      "|  8/6/1993|   Douglas|  Male|       12:42 PM| 97308|  6.945|             true|           Marketing|      1167696|   Douglas|  Male|       12:42 PM| 97308|  6.945|             true|           Marketing|      1167696|\n",
      "| 3/31/1996|    Thomas|  Male|        6:53 AM| 61933|   4.17|             true|                null|       743196|     Bobby|  Male|        5:40 PM|112117|  6.338|            false|                null|      1345404|\n",
      "| 3/31/1996|    Thomas|  Male|        6:53 AM| 61933|   4.17|             true|                null|       743196|    Thomas|  Male|        6:53 AM| 61933|   4.17|             true|                null|       743196|\n",
      "| 4/23/1993|     Maria|Female|       11:17 AM|130590| 11.858|            false|             Finance|      1567080|     Maria|Female|       11:17 AM|130590| 11.858|            false|             Finance|      1567080|\n",
      "|  3/4/2005|     Jerry|  Male|        1:00 PM|138705|   9.34|             true|             Finance|      1664460|     Jerry|  Male|        1:00 PM|138705|   9.34|             true|             Finance|      1664460|\n",
      "| 1/24/1998|     Larry|  Male|        4:47 PM|101004|  1.389|             true|     Client Services|      1212048|     Larry|  Male|        4:47 PM|101004|  1.389|             true|     Client Services|      1212048|\n",
      "| 4/18/1987|    Dennis|  Male|        1:35 AM|115163| 10.125|            false|               Legal|      1381956|    Dennis|  Male|        1:35 AM|115163| 10.125|            false|               Legal|      1381956|\n",
      "| 8/17/1987|      Ruby|Female|        4:20 PM| 65476| 10.012|             true|             Product|       785712|      Ruby|Female|        4:20 PM| 65476| 10.012|             true|             Product|       785712|\n",
      "| 7/20/2015|      null|Female|       10:43 AM| 45906| 11.598|             null|             Finance|       550872|      null|Female|       10:43 AM| 45906| 11.598|             null|             Finance|       550872|\n",
      "|11/22/2005|    Angela|Female|        6:29 AM| 95570| 18.523|             true|         Engineering|      1146840|    Angela|Female|        6:29 AM| 95570| 18.523|             true|         Engineering|      1146840|\n",
      "|  8/8/2002|   Frances|Female|        6:51 AM|139852|  7.524|             true|Business Development|      1678224|   Frances|Female|        6:51 AM|139852|  7.524|             true|Business Development|      1678224|\n",
      "| 8/12/1980|    Louise|Female|        9:01 AM| 63241| 15.132|             true|                null|       758892|    Louise|Female|        9:01 AM| 63241| 15.132|             true|                null|       758892|\n",
      "|10/26/1997|     Julie|Female|        3:19 PM|102508| 12.637|             true|               Legal|      1230096|     Julie|Female|        3:19 PM|102508| 12.637|             true|               Legal|      1230096|\n",
      "| 12/1/1980|   Brandon|  Male|        1:08 AM|112807| 17.492|             true|     Human Resources|      1353684|   Brandon|  Male|        1:08 AM|112807| 17.492|             true|     Human Resources|      1353684|\n",
      "| 1/27/2008|      Gary|  Male|       11:40 PM|109831|  5.831|            false|               Sales|      1317972|      Gary|  Male|       11:40 PM|109831|  5.831|            false|               Sales|      1317972|\n",
      "| 1/14/1999|  Kimberly|Female|        7:13 AM| 41426| 14.543|             true|             Finance|       497112|  Kimberly|Female|        7:13 AM| 41426| 14.543|             true|             Finance|       497112|\n",
      "|  6/5/2016|   Lillian|Female|        6:09 AM| 59414|  1.256|            false|             Product|       712968|   Lillian|Female|        6:09 AM| 59414|  1.256|            false|             Product|       712968|\n",
      "| 9/21/2010|    Jeremy|  Male|        5:56 AM| 90370|  7.369|            false|     Human Resources|      1084440|    Jeremy|  Male|        5:56 AM| 90370|  7.369|            false|     Human Resources|      1084440|\n",
      "| 12/7/1986|     Shawn|  Male|        7:45 PM|111737|  6.414|            false|             Product|      1340844|     Shawn|  Male|        7:45 PM|111737|  6.414|            false|             Product|      1340844|\n",
      "|10/23/1981|     Diana|Female|       10:27 AM|132940| 19.082|            false|     Client Services|      1595280|     Diana|Female|       10:27 AM|132940| 19.082|            false|     Client Services|      1595280|\n",
      "+----------+----------+------+---------------+------+-------+-----------------+--------------------+-------------+----------+------+---------------+------+-------+-----------------+--------------------+-------------+\n",
      "only showing top 20 rows\n",
      "\n"
     ]
    }
   ],
   "source": [
    "df2=df\n",
    "df_join=df.join(df2,\"Start Date\",\"inner\").show()"
   ]
  },
  {
   "cell_type": "markdown",
   "id": "a3bfe220",
   "metadata": {},
   "source": [
    "# union()\n",
    "The union() function returns a new DataFrame bonding union of rows in current and another DataFrame.\n"
   ]
  },
  {
   "cell_type": "code",
   "execution_count": 1,
   "id": "01656947",
   "metadata": {},
   "outputs": [
    {
     "ename": "NameError",
     "evalue": "name 'df' is not defined",
     "output_type": "error",
     "traceback": [
      "\u001b[1;31m---------------------------------------------------------------------------\u001b[0m",
      "\u001b[1;31mNameError\u001b[0m                                 Traceback (most recent call last)",
      "Input \u001b[1;32mIn [1]\u001b[0m, in \u001b[0;36m<cell line: 1>\u001b[1;34m()\u001b[0m\n\u001b[1;32m----> 1\u001b[0m \u001b[43mdf\u001b[49m\u001b[38;5;241m.\u001b[39munion(df2)\n",
      "\u001b[1;31mNameError\u001b[0m: name 'df' is not defined"
     ]
    }
   ],
   "source": [
    "\n",
    "df.union(df2)"
   ]
  },
  {
   "cell_type": "markdown",
   "id": "7a85f3db",
   "metadata": {},
   "source": [
    "# alias()\n",
    "The alias() function renames the new DataFrame column while displaying DataFrame."
   ]
  },
  {
   "cell_type": "code",
   "execution_count": 50,
   "id": "18031172",
   "metadata": {},
   "outputs": [
    {
     "name": "stdout",
     "output_type": "stream",
     "text": [
      "+-----+------+\n",
      "|  min|   max|\n",
      "+-----+------+\n",
      "|35013|149908|\n",
      "+-----+------+\n",
      "\n"
     ]
    }
   ],
   "source": [
    "df.agg(F.min(df.Salary).alias(\"min\"),F.max(df.Salary).alias(\"max\")).show(5)"
   ]
  },
  {
   "cell_type": "markdown",
   "id": "4ef5181a",
   "metadata": {},
   "source": [
    "# toJSON()\n",
    "The toJSON() function converts a DataFrame rows into a JSON documents.\n"
   ]
  },
  {
   "cell_type": "code",
   "execution_count": 51,
   "id": "d4f77cf9",
   "metadata": {},
   "outputs": [
    {
     "data": {
      "text/plain": [
       "['{\"First Name\":\"Douglas\",\"Gender\":\"Male\",\"Start Date\":\"8/6/1993\",\"Last Login Time\":\"12:42 PM\",\"Salary\":97308,\"Bonus %\":6.945,\"Senior Management\":true,\"Team\":\"Marketing\",\"yearly_salary\":1167696}',\n",
       " '{\"First Name\":\"Thomas\",\"Gender\":\"Male\",\"Start Date\":\"3/31/1996\",\"Last Login Time\":\"6:53 AM\",\"Salary\":61933,\"Bonus %\":4.17,\"Senior Management\":true,\"yearly_salary\":743196}',\n",
       " '{\"First Name\":\"Maria\",\"Gender\":\"Female\",\"Start Date\":\"4/23/1993\",\"Last Login Time\":\"11:17 AM\",\"Salary\":130590,\"Bonus %\":11.858,\"Senior Management\":false,\"Team\":\"Finance\",\"yearly_salary\":1567080}',\n",
       " '{\"First Name\":\"Jerry\",\"Gender\":\"Male\",\"Start Date\":\"3/4/2005\",\"Last Login Time\":\"1:00 PM\",\"Salary\":138705,\"Bonus %\":9.34,\"Senior Management\":true,\"Team\":\"Finance\",\"yearly_salary\":1664460}',\n",
       " '{\"First Name\":\"Larry\",\"Gender\":\"Male\",\"Start Date\":\"1/24/1998\",\"Last Login Time\":\"4:47 PM\",\"Salary\":101004,\"Bonus %\":1.389,\"Senior Management\":true,\"Team\":\"Client Services\",\"yearly_salary\":1212048}']"
      ]
     },
     "execution_count": 51,
     "metadata": {},
     "output_type": "execute_result"
    }
   ],
   "source": [
    "df.toJSON().take(5)"
   ]
  },
  {
   "cell_type": "markdown",
   "id": "11c768c1",
   "metadata": {},
   "source": [
    "# toPandas()\n",
    "The toPandas() returns the Spark DataFrame into Pandas DataFrame.\n",
    "\n"
   ]
  },
  {
   "cell_type": "code",
   "execution_count": 52,
   "id": "31a97ee4",
   "metadata": {},
   "outputs": [
    {
     "data": {
      "text/html": [
       "<div>\n",
       "<style scoped>\n",
       "    .dataframe tbody tr th:only-of-type {\n",
       "        vertical-align: middle;\n",
       "    }\n",
       "\n",
       "    .dataframe tbody tr th {\n",
       "        vertical-align: top;\n",
       "    }\n",
       "\n",
       "    .dataframe thead th {\n",
       "        text-align: right;\n",
       "    }\n",
       "</style>\n",
       "<table border=\"1\" class=\"dataframe\">\n",
       "  <thead>\n",
       "    <tr style=\"text-align: right;\">\n",
       "      <th></th>\n",
       "      <th>First Name</th>\n",
       "      <th>Gender</th>\n",
       "      <th>Start Date</th>\n",
       "      <th>Last Login Time</th>\n",
       "      <th>Salary</th>\n",
       "      <th>Bonus %</th>\n",
       "      <th>Senior Management</th>\n",
       "      <th>Team</th>\n",
       "      <th>yearly_salary</th>\n",
       "    </tr>\n",
       "  </thead>\n",
       "  <tbody>\n",
       "    <tr>\n",
       "      <th>0</th>\n",
       "      <td>Douglas</td>\n",
       "      <td>Male</td>\n",
       "      <td>8/6/1993</td>\n",
       "      <td>12:42 PM</td>\n",
       "      <td>97308</td>\n",
       "      <td>6.945</td>\n",
       "      <td>True</td>\n",
       "      <td>Marketing</td>\n",
       "      <td>1167696</td>\n",
       "    </tr>\n",
       "    <tr>\n",
       "      <th>1</th>\n",
       "      <td>Thomas</td>\n",
       "      <td>Male</td>\n",
       "      <td>3/31/1996</td>\n",
       "      <td>6:53 AM</td>\n",
       "      <td>61933</td>\n",
       "      <td>4.170</td>\n",
       "      <td>True</td>\n",
       "      <td>None</td>\n",
       "      <td>743196</td>\n",
       "    </tr>\n",
       "    <tr>\n",
       "      <th>2</th>\n",
       "      <td>Maria</td>\n",
       "      <td>Female</td>\n",
       "      <td>4/23/1993</td>\n",
       "      <td>11:17 AM</td>\n",
       "      <td>130590</td>\n",
       "      <td>11.858</td>\n",
       "      <td>False</td>\n",
       "      <td>Finance</td>\n",
       "      <td>1567080</td>\n",
       "    </tr>\n",
       "    <tr>\n",
       "      <th>3</th>\n",
       "      <td>Jerry</td>\n",
       "      <td>Male</td>\n",
       "      <td>3/4/2005</td>\n",
       "      <td>1:00 PM</td>\n",
       "      <td>138705</td>\n",
       "      <td>9.340</td>\n",
       "      <td>True</td>\n",
       "      <td>Finance</td>\n",
       "      <td>1664460</td>\n",
       "    </tr>\n",
       "    <tr>\n",
       "      <th>4</th>\n",
       "      <td>Larry</td>\n",
       "      <td>Male</td>\n",
       "      <td>1/24/1998</td>\n",
       "      <td>4:47 PM</td>\n",
       "      <td>101004</td>\n",
       "      <td>1.389</td>\n",
       "      <td>True</td>\n",
       "      <td>Client Services</td>\n",
       "      <td>1212048</td>\n",
       "    </tr>\n",
       "  </tbody>\n",
       "</table>\n",
       "</div>"
      ],
      "text/plain": [
       "  First Name  Gender Start Date Last Login Time  Salary  Bonus %  \\\n",
       "0    Douglas    Male   8/6/1993        12:42 PM   97308    6.945   \n",
       "1     Thomas    Male  3/31/1996         6:53 AM   61933    4.170   \n",
       "2      Maria  Female  4/23/1993        11:17 AM  130590   11.858   \n",
       "3      Jerry    Male   3/4/2005         1:00 PM  138705    9.340   \n",
       "4      Larry    Male  1/24/1998         4:47 PM  101004    1.389   \n",
       "\n",
       "  Senior Management             Team  yearly_salary  \n",
       "0              True        Marketing        1167696  \n",
       "1              True             None         743196  \n",
       "2             False          Finance        1567080  \n",
       "3              True          Finance        1664460  \n",
       "4              True  Client Services        1212048  "
      ]
     },
     "execution_count": 52,
     "metadata": {},
     "output_type": "execute_result"
    }
   ],
   "source": [
    "df.toPandas().head()"
   ]
  },
  {
   "cell_type": "markdown",
   "id": "e2117cdc",
   "metadata": {},
   "source": [
    "# cache()\n",
    "The cache() function caches the results into an Spark RDD in memory, so that any re-runs of the cached DataFrame there will be significant performance benefit about processing time.\n",
    "\n"
   ]
  },
  {
   "cell_type": "code",
   "execution_count": 53,
   "id": "1525f24a",
   "metadata": {},
   "outputs": [
    {
     "data": {
      "text/plain": [
       "DataFrame[First Name: string, Gender: string, Start Date: string, Last Login Time: string, Salary: int, Bonus %: double, Senior Management: boolean, Team: string, yearly_salary: int]"
      ]
     },
     "execution_count": 53,
     "metadata": {},
     "output_type": "execute_result"
    }
   ],
   "source": [
    "df.cache()"
   ]
  },
  {
   "cell_type": "code",
   "execution_count": 54,
   "id": "2acd3126",
   "metadata": {},
   "outputs": [
    {
     "data": {
      "text/plain": [
       "True"
      ]
     },
     "execution_count": 54,
     "metadata": {},
     "output_type": "execute_result"
    }
   ],
   "source": [
    "df.is_cached"
   ]
  },
  {
   "cell_type": "markdown",
   "id": "0a5da2ca",
   "metadata": {},
   "source": [
    "# rdd\n",
    "The rdd function converts Spark DataFrame into Spark RDD.\n"
   ]
  },
  {
   "cell_type": "code",
   "execution_count": 55,
   "id": "a83c0563",
   "metadata": {},
   "outputs": [
    {
     "data": {
      "text/plain": [
       "[Row(First Name='Douglas', Gender='Male', Start Date='8/6/1993', Last Login Time='12:42 PM', Salary=97308, Bonus %=6.945, Senior Management=True, Team='Marketing', yearly_salary=1167696),\n",
       " Row(First Name='Thomas', Gender='Male', Start Date='3/31/1996', Last Login Time='6:53 AM', Salary=61933, Bonus %=4.17, Senior Management=True, Team=None, yearly_salary=743196),\n",
       " Row(First Name='Maria', Gender='Female', Start Date='4/23/1993', Last Login Time='11:17 AM', Salary=130590, Bonus %=11.858, Senior Management=False, Team='Finance', yearly_salary=1567080),\n",
       " Row(First Name='Jerry', Gender='Male', Start Date='3/4/2005', Last Login Time='1:00 PM', Salary=138705, Bonus %=9.34, Senior Management=True, Team='Finance', yearly_salary=1664460),\n",
       " Row(First Name='Larry', Gender='Male', Start Date='1/24/1998', Last Login Time='4:47 PM', Salary=101004, Bonus %=1.389, Senior Management=True, Team='Client Services', yearly_salary=1212048)]"
      ]
     },
     "execution_count": 55,
     "metadata": {},
     "output_type": "execute_result"
    }
   ],
   "source": [
    "df.rdd.take(5)"
   ]
  },
  {
   "cell_type": "markdown",
   "id": "7246b12b",
   "metadata": {},
   "source": [
    "# columns\n",
    "The columns function returns all column names in a list format.\n",
    "\n"
   ]
  },
  {
   "cell_type": "code",
   "execution_count": null,
   "id": "0f6484dd",
   "metadata": {},
   "outputs": [],
   "source": [
    "df.columns"
   ]
  },
  {
   "cell_type": "markdown",
   "id": "668edc44",
   "metadata": {},
   "source": [
    "# dtypes\n",
    "The dtypes function returns all column names and their data types in a list format.\n"
   ]
  },
  {
   "cell_type": "code",
   "execution_count": 56,
   "id": "f98fd461",
   "metadata": {},
   "outputs": [
    {
     "data": {
      "text/plain": [
       "[('First Name', 'string'),\n",
       " ('Gender', 'string'),\n",
       " ('Start Date', 'string'),\n",
       " ('Last Login Time', 'string'),\n",
       " ('Salary', 'int'),\n",
       " ('Bonus %', 'double'),\n",
       " ('Senior Management', 'boolean'),\n",
       " ('Team', 'string'),\n",
       " ('yearly_salary', 'int')]"
      ]
     },
     "execution_count": 56,
     "metadata": {},
     "output_type": "execute_result"
    }
   ],
   "source": [
    "df.dtypes"
   ]
  },
  {
   "cell_type": "markdown",
   "id": "5e8c78ac",
   "metadata": {},
   "source": [
    "The schema function returns the schema of the DataFrame as a StructType.\n"
   ]
  },
  {
   "cell_type": "code",
   "execution_count": 57,
   "id": "e8af0156",
   "metadata": {},
   "outputs": [
    {
     "data": {
      "text/plain": [
       "StructType([StructField('First Name', StringType(), True), StructField('Gender', StringType(), True), StructField('Start Date', StringType(), True), StructField('Last Login Time', StringType(), True), StructField('Salary', IntegerType(), True), StructField('Bonus %', DoubleType(), True), StructField('Senior Management', BooleanType(), True), StructField('Team', StringType(), True), StructField('yearly_salary', IntegerType(), True)])"
      ]
     },
     "execution_count": 57,
     "metadata": {},
     "output_type": "execute_result"
    }
   ],
   "source": [
    "df.schema"
   ]
  },
  {
   "cell_type": "markdown",
   "id": "b97022b1",
   "metadata": {},
   "source": [
    "# write & save\n",
    "The write and save functions saves the DataFrame into a storage in a specified format.\n"
   ]
  },
  {
   "cell_type": "code",
   "execution_count": 58,
   "id": "98c22c41",
   "metadata": {},
   "outputs": [],
   "source": [
    "df.write.save(\"customers.csv\",format=\"csv\")"
   ]
  },
  {
   "cell_type": "code",
   "execution_count": 59,
   "id": "58986a08",
   "metadata": {},
   "outputs": [],
   "source": [
    "df.select(\"First Name\",\"Team\").write.save(\"customers_sel_fields.csv\",format=\"csv\")"
   ]
  },
  {
   "cell_type": "code",
   "execution_count": 60,
   "id": "d763c6d2",
   "metadata": {},
   "outputs": [
    {
     "name": "stdout",
     "output_type": "stream",
     "text": [
      "+----------+------+----------+---------------+--------+-------+-----------------+--------------------+-------------+---------+----------------+--------------------+\n",
      "|First Name|Gender|Start Date|Last Login Time|  Salary|Bonus %|Senior Management|                Team|yearly_salary|firstname|SeniorManagement|          Department|\n",
      "+----------+------+----------+---------------+--------+-------+-----------------+--------------------+-------------+---------+----------------+--------------------+\n",
      "|   Douglas|  Male|  8/6/1993|       12:42 PM| 97308.0|  6.945|             true|           Marketing|      1167696|  Douglas|            true|           marketing|\n",
      "|    Thomas|  Male| 3/31/1996|        6:53 AM| 61933.0|   4.17|             true|                null|       743196|   Thomas|            true|             unknown|\n",
      "|     Maria|Female| 4/23/1993|       11:17 AM|130590.0| 11.858|            false|             Finance|      1567080|    Maria|           false|             finance|\n",
      "|     Jerry|  Male|  3/4/2005|        1:00 PM|138705.0|   9.34|             true|             Finance|      1664460|    Jerry|            true|             finance|\n",
      "|     Larry|  Male| 1/24/1998|        4:47 PM|101004.0|  1.389|             true|     Client Services|      1212048|    Larry|            true|     client services|\n",
      "|    Dennis|  Male| 4/18/1987|        1:35 AM|115163.0| 10.125|            false|               Legal|      1381956|   Dennis|           false|               legal|\n",
      "|      Ruby|Female| 8/17/1987|        4:20 PM| 65476.0| 10.012|             true|             Product|       785712|     Ruby|            true|             product|\n",
      "|      null|Female| 7/20/2015|       10:43 AM| 45906.0| 11.598|             null|             Finance|       550872|     null|            null|             finance|\n",
      "|    Angela|Female|11/22/2005|        6:29 AM| 95570.0| 18.523|             true|         Engineering|      1146840|   Angela|            true|         engineering|\n",
      "|   Frances|Female|  8/8/2002|        6:51 AM|139852.0|  7.524|             true|Business Development|      1678224|  Frances|            true|business development|\n",
      "+----------+------+----------+---------------+--------+-------+-----------------+--------------------+-------------+---------+----------------+--------------------+\n",
      "only showing top 10 rows\n",
      "\n"
     ]
    }
   ],
   "source": [
    "from pyspark.sql.functions import trim,initcap,lower,avg,round\n",
    "\n",
    "\n",
    "df.withColumn(\"firstname\",trim(initcap(\"First Name\")))\\\n",
    ".withColumn(\"SeniorManagement\",trim(\"Senior Management\"))\\\n",
    ".withColumn(\"Department\",lower(when(df.Team.isNull(),\"unknown\")\\\n",
    ".otherwise(df.Team)))\\\n",
    ".withColumn(\"Salary\",when(df.Salary.isNull(),df.agg(round(avg(\"Salary\"))).head()[0])\\\n",
    ".otherwise(df.Salary).cast(\"float\")).show(10)"
   ]
  },
  {
   "cell_type": "code",
   "execution_count": null,
   "id": "288e27c3",
   "metadata": {},
   "outputs": [],
   "source": []
  }
 ],
 "metadata": {
  "kernelspec": {
   "display_name": "Python 3 (ipykernel)",
   "language": "python",
   "name": "python3"
  },
  "language_info": {
   "codemirror_mode": {
    "name": "ipython",
    "version": 3
   },
   "file_extension": ".py",
   "mimetype": "text/x-python",
   "name": "python",
   "nbconvert_exporter": "python",
   "pygments_lexer": "ipython3",
   "version": "3.9.12"
  }
 },
 "nbformat": 4,
 "nbformat_minor": 5
}
