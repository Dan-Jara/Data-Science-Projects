{
 "cells": [
  {
   "cell_type": "code",
   "execution_count": 43,
   "id": "1dc94740",
   "metadata": {},
   "outputs": [
    {
     "data": {
      "text/plain": [
       "\"TOKYO -- A documentary film honing in on a 1943 incident where Japanese immigrants were forced to leave the port city Santos in Brazil's Sao Paulo -- a history that had been veiled for years -- premiered Aug. 7 in Tokyo and Osaka.Yoju Matsubayashi, 42, director of the film 'Okinawa/Santos' discovered a register including the names of immigrants who were subject to the displacement, and 60% of them appeared to be from Japan's southernmost prefecture of Okinawa. The incident had been considered a taboo subject for a long time even after World War II.Japanese immigration to Brazil began in 1908, as immigrant ships first arrived in Santos located in southeastern Brazil. After Japan and the United States went to battle in 1941 during World War II, Brazil sided with the Allied powers, and broke off diplomatic relations with the Axis powers including Japan. Discrimination and prejudice against Japanese people became more severe thereafter. The Brazilian government ordered the abolishment of Japanese-language newspapers and the closure of Japanese schools, and enforced a ban on speaking Japanese in public spaces -- targeting the about 200,000 Japanese immigrants apparently living in the country at the time.\""
      ]
     },
     "execution_count": 43,
     "metadata": {},
     "output_type": "execute_result"
    }
   ],
   "source": [
    "html1 = r\"TOKYO -- A documentary film honing in on a 1943 incident where Japanese immigrants were forced to leave the port city Santos in Brazil's Sao Paulo -- a history that had been veiled for years -- premiered Aug. 7 in Tokyo and Osaka.\"\n",
    "html2 = r\"Yoju Matsubayashi, 42, director of the film 'Okinawa/Santos' discovered a register including the names of immigrants who were subject to the displacement, and 60% of them appeared to be from Japan's southernmost prefecture of Okinawa. The incident had been considered a taboo subject for a long time even after World War II.\"\n",
    "html3 = r\"Japanese immigration to Brazil began in 1908, as immigrant ships first arrived in Santos located in southeastern Brazil. After Japan and the United States went to battle in 1941 during World War II, Brazil sided with the Allied powers, and broke off diplomatic relations with the Axis powers including Japan. Discrimination and prejudice against Japanese people became more severe thereafter. The Brazilian government ordered the abolishment of Japanese-language newspapers and the closure of Japanese schools, and enforced a ban on speaking Japanese in public spaces -- targeting the about 200,000 Japanese immigrants apparently living in the country at the time.\"\n",
    "html_string = html1+html2+html3\n",
    "html_string"
   ]
  },
  {
   "cell_type": "code",
   "execution_count": 2,
   "id": "d3179a5e",
   "metadata": {},
   "outputs": [],
   "source": [
    "def regex_japan(str):\n",
    "    import regex\n",
    "    # Find all terms for Japan, Japan's, and Japanese using a single regular expression.\n",
    "    japan_match = regex.findall(\"Japan's|Japanese|Japan\", html_string)\n",
    "    return japan_match"
   ]
  },
  {
   "cell_type": "code",
   "execution_count": 3,
   "id": "2e0597d5",
   "metadata": {},
   "outputs": [
    {
     "data": {
      "text/plain": [
       "['Japanese',\n",
       " \"Japan's\",\n",
       " 'Japanese',\n",
       " 'Japan',\n",
       " 'Japan',\n",
       " 'Japanese',\n",
       " 'Japanese',\n",
       " 'Japanese',\n",
       " 'Japanese',\n",
       " 'Japanese']"
      ]
     },
     "execution_count": 3,
     "metadata": {},
     "output_type": "execute_result"
    }
   ],
   "source": [
    "regex_japan(html_string)"
   ]
  },
  {
   "cell_type": "code",
   "execution_count": 4,
   "id": "e2b2cab0",
   "metadata": {},
   "outputs": [],
   "source": [
    "def regex_brazil(str):\n",
    "    import regex\n",
    "    # Find all terms for Brazil and Brazilian using a single regex.\n",
    "    brazil_match = regex.findall(\"Brazilian|Brazil\", html_string)\n",
    "    return brazil_match"
   ]
  },
  {
   "cell_type": "code",
   "execution_count": 5,
   "id": "53f2223e",
   "metadata": {},
   "outputs": [
    {
     "data": {
      "text/plain": [
       "['Brazil', 'Brazil', 'Brazil', 'Brazil', 'Brazilian']"
      ]
     },
     "execution_count": 5,
     "metadata": {},
     "output_type": "execute_result"
    }
   ],
   "source": [
    "regex_brazil(html_string)"
   ]
  },
  {
   "cell_type": "code",
   "execution_count": 6,
   "id": "6c822e9f",
   "metadata": {},
   "outputs": [],
   "source": [
    "def regex_num(str):\n",
    "    import regex\n",
    "    # Pull out the number 200,000.\n",
    "    num_match = regex.findall(\"200,000\", html_string)\n",
    "    return num_match"
   ]
  },
  {
   "cell_type": "code",
   "execution_count": 7,
   "id": "83ca57ed",
   "metadata": {},
   "outputs": [
    {
     "data": {
      "text/plain": [
       "['200,000']"
      ]
     },
     "execution_count": 7,
     "metadata": {},
     "output_type": "execute_result"
    }
   ],
   "source": [
    "regex_num(html_string)"
   ]
  },
  {
   "cell_type": "code",
   "execution_count": 8,
   "id": "058d0040",
   "metadata": {},
   "outputs": [],
   "source": [
    "def regex_name(str):\n",
    "    import regex\n",
    "    # Obtain the name of the director from the first paragraph of text.\n",
    "    name_match = regex.findall(\"Yoju Matsubayashi\", html_string)\n",
    "    return name_match"
   ]
  },
  {
   "cell_type": "code",
   "execution_count": 9,
   "id": "4171d015",
   "metadata": {},
   "outputs": [
    {
     "data": {
      "text/plain": [
       "['Yoju Matsubayashi']"
      ]
     },
     "execution_count": 9,
     "metadata": {},
     "output_type": "execute_result"
    }
   ],
   "source": [
    "regex_name(html_string)"
   ]
  },
  {
   "cell_type": "code",
   "execution_count": 40,
   "id": "709db488",
   "metadata": {},
   "outputs": [],
   "source": [
    "def regex_japan2(str):\n",
    "    import regex\n",
    "    # For all the words with the root Japan, pull that word and the preceeding word as \n",
    "    # well as the word that follows. For example, in the first paragraph you would obtain \n",
    "    # where Japanese immigrants; from the second paragraph from Japan's southernmost.\n",
    "    japan_match2 = regex.findall(\"(\\w+\\s*)(Japanese|Japan's|Japanese-|Japan)(\\s*\\w+)\", html_string)\n",
    "    return japan_match2"
   ]
  },
  {
   "cell_type": "code",
   "execution_count": 41,
   "id": "84a83672",
   "metadata": {},
   "outputs": [
    {
     "data": {
      "text/plain": [
       "[('where ', 'Japanese', ' immigrants'),\n",
       " ('from ', \"Japan's\", ' southernmost'),\n",
       " ('After ', 'Japan', ' and'),\n",
       " ('against ', 'Japanese', ' people'),\n",
       " ('of ', 'Japanese-', 'language'),\n",
       " ('of ', 'Japanese', ' schools'),\n",
       " ('speaking ', 'Japanese', ' in'),\n",
       " ('000 ', 'Japanese', ' immigrants')]"
      ]
     },
     "execution_count": 41,
     "metadata": {},
     "output_type": "execute_result"
    }
   ],
   "source": [
    "regex_japan2(html_string)"
   ]
  },
  {
   "cell_type": "code",
   "execution_count": 45,
   "id": "56497687",
   "metadata": {},
   "outputs": [],
   "source": [
    "import regex"
   ]
  }
 ],
 "metadata": {
  "kernelspec": {
   "display_name": "Python 3 (ipykernel)",
   "language": "python",
   "name": "python3"
  },
  "language_info": {
   "codemirror_mode": {
    "name": "ipython",
    "version": 3
   },
   "file_extension": ".py",
   "mimetype": "text/x-python",
   "name": "python",
   "nbconvert_exporter": "python",
   "pygments_lexer": "ipython3",
   "version": "3.9.12"
  }
 },
 "nbformat": 4,
 "nbformat_minor": 5
}
