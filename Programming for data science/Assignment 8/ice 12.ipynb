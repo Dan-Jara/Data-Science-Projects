{
 "cells": [
  {
   "cell_type": "code",
   "execution_count": 1,
   "id": "d1f6ee3f",
   "metadata": {},
   "outputs": [],
   "source": [
    "import os\n",
    "import pandas as pd\n",
    "import matplotlib.pyplot as plt"
   ]
  },
  {
   "cell_type": "code",
   "execution_count": 2,
   "id": "dbf7ab99",
   "metadata": {},
   "outputs": [],
   "source": [
    "data = pd.read_table('taxonomy.txt')"
   ]
  },
  {
   "cell_type": "code",
   "execution_count": 3,
   "id": "71ab3f26",
   "metadata": {
    "scrolled": true
   },
   "outputs": [
    {
     "data": {
      "text/html": [
       "<div>\n",
       "<style scoped>\n",
       "    .dataframe tbody tr th:only-of-type {\n",
       "        vertical-align: middle;\n",
       "    }\n",
       "\n",
       "    .dataframe tbody tr th {\n",
       "        vertical-align: top;\n",
       "    }\n",
       "\n",
       "    .dataframe thead th {\n",
       "        text-align: right;\n",
       "    }\n",
       "</style>\n",
       "<table border=\"1\" class=\"dataframe\">\n",
       "  <thead>\n",
       "    <tr style=\"text-align: right;\">\n",
       "      <th></th>\n",
       "      <th>Taxon</th>\n",
       "      <th>Petals</th>\n",
       "      <th>Internode</th>\n",
       "      <th>Sepal</th>\n",
       "      <th>Bract</th>\n",
       "      <th>Petiole</th>\n",
       "      <th>Leaf</th>\n",
       "      <th>Fruit</th>\n",
       "    </tr>\n",
       "  </thead>\n",
       "  <tbody>\n",
       "    <tr>\n",
       "      <th>0</th>\n",
       "      <td>I</td>\n",
       "      <td>5.621498</td>\n",
       "      <td>29.480596</td>\n",
       "      <td>2.462107</td>\n",
       "      <td>18.203409</td>\n",
       "      <td>11.279097</td>\n",
       "      <td>1.128033</td>\n",
       "      <td>7.876151</td>\n",
       "    </tr>\n",
       "    <tr>\n",
       "      <th>1</th>\n",
       "      <td>I</td>\n",
       "      <td>4.994617</td>\n",
       "      <td>28.360247</td>\n",
       "      <td>2.429321</td>\n",
       "      <td>17.652049</td>\n",
       "      <td>11.040838</td>\n",
       "      <td>1.197617</td>\n",
       "      <td>7.025416</td>\n",
       "    </tr>\n",
       "    <tr>\n",
       "      <th>2</th>\n",
       "      <td>I</td>\n",
       "      <td>4.767505</td>\n",
       "      <td>27.254318</td>\n",
       "      <td>2.570497</td>\n",
       "      <td>19.408385</td>\n",
       "      <td>10.490722</td>\n",
       "      <td>1.003808</td>\n",
       "      <td>7.817479</td>\n",
       "    </tr>\n",
       "    <tr>\n",
       "      <th>3</th>\n",
       "      <td>I</td>\n",
       "      <td>6.299446</td>\n",
       "      <td>25.924238</td>\n",
       "      <td>2.066051</td>\n",
       "      <td>18.379155</td>\n",
       "      <td>11.801823</td>\n",
       "      <td>1.614052</td>\n",
       "      <td>7.672492</td>\n",
       "    </tr>\n",
       "    <tr>\n",
       "      <th>4</th>\n",
       "      <td>I</td>\n",
       "      <td>6.489375</td>\n",
       "      <td>25.211308</td>\n",
       "      <td>2.901583</td>\n",
       "      <td>17.313047</td>\n",
       "      <td>10.121590</td>\n",
       "      <td>1.813333</td>\n",
       "      <td>7.758443</td>\n",
       "    </tr>\n",
       "  </tbody>\n",
       "</table>\n",
       "</div>"
      ],
      "text/plain": [
       "  Taxon    Petals  Internode     Sepal      Bract    Petiole      Leaf  \\\n",
       "0     I  5.621498  29.480596  2.462107  18.203409  11.279097  1.128033   \n",
       "1     I  4.994617  28.360247  2.429321  17.652049  11.040838  1.197617   \n",
       "2     I  4.767505  27.254318  2.570497  19.408385  10.490722  1.003808   \n",
       "3     I  6.299446  25.924238  2.066051  18.379155  11.801823  1.614052   \n",
       "4     I  6.489375  25.211308  2.901583  17.313047  10.121590  1.813333   \n",
       "\n",
       "      Fruit  \n",
       "0  7.876151  \n",
       "1  7.025416  \n",
       "2  7.817479  \n",
       "3  7.672492  \n",
       "4  7.758443  "
      ]
     },
     "execution_count": 3,
     "metadata": {},
     "output_type": "execute_result"
    }
   ],
   "source": [
    "data.head()"
   ]
  },
  {
   "cell_type": "markdown",
   "id": "190571a3",
   "metadata": {},
   "source": [
    "Plot Petals, Internode, and Sepal against Fruit. What relationships do you observe? (2 pts.)"
   ]
  },
  {
   "cell_type": "code",
   "execution_count": 4,
   "id": "72af690e",
   "metadata": {},
   "outputs": [
    {
     "data": {
      "text/plain": [
       "<AxesSubplot:xlabel='Petals', ylabel='Fruit'>"
      ]
     },
     "execution_count": 4,
     "metadata": {},
     "output_type": "execute_result"
    },
    {
     "data": {
      "image/png": "[encoded data removed]",
      "text/plain": [
       "<Figure size 432x288 with 1 Axes>"
      ]
     },
     "metadata": {
      "needs_background": "light"
     },
     "output_type": "display_data"
    }
   ],
   "source": [
    "data.plot.scatter(x='Petals', y='Fruit')"
   ]
  },
  {
   "cell_type": "code",
   "execution_count": 5,
   "id": "19bc2785",
   "metadata": {},
   "outputs": [
    {
     "data": {
      "text/plain": [
       "<AxesSubplot:xlabel='Internode', ylabel='Fruit'>"
      ]
     },
     "execution_count": 5,
     "metadata": {},
     "output_type": "execute_result"
    },
    {
     "data": {
      "image/png": "[encoded data removed]",
      "text/plain": [
       "<Figure size 432x288 with 1 Axes>"
      ]
     },
     "metadata": {
      "needs_background": "light"
     },
     "output_type": "display_data"
    }
   ],
   "source": [
    "data.plot.scatter(x='Internode', y='Fruit')"
   ]
  },
  {
   "cell_type": "code",
   "execution_count": 6,
   "id": "0a5e4c70",
   "metadata": {},
   "outputs": [
    {
     "data": {
      "text/plain": [
       "<AxesSubplot:xlabel='Sepal', ylabel='Fruit'>"
      ]
     },
     "execution_count": 6,
     "metadata": {},
     "output_type": "execute_result"
    },
    {
     "data": {
      "image/png": "[encoded data removed]",
      "text/plain": [
       "<Figure size 432x288 with 1 Axes>"
      ]
     },
     "metadata": {
      "needs_background": "light"
     },
     "output_type": "display_data"
    }
   ],
   "source": [
    "data.plot.scatter(x='Sepal', y='Fruit')"
   ]
  },
  {
   "cell_type": "markdown",
   "id": "b000ee61",
   "metadata": {},
   "source": [
    "Generate histograms for Petals, Internode, Sepal, and Fruit. Describe the distribution of each variable. Are they skewed to a side; if so, which side? Do they exhibit a normal distribution? If not, what do they look like? (2 pts.)"
   ]
  },
  {
   "cell_type": "code",
   "execution_count": 7,
   "id": "681d43d2",
   "metadata": {},
   "outputs": [
    {
     "data": {
      "text/plain": [
       "<AxesSubplot:ylabel='Frequency'>"
      ]
     },
     "execution_count": 7,
     "metadata": {},
     "output_type": "execute_result"
    },
    {
     "data": {
      "image/png": "[encoded data removed]",
      "text/plain": [
       "<Figure size 432x288 with 1 Axes>"
      ]
     },
     "metadata": {
      "needs_background": "light"
     },
     "output_type": "display_data"
    }
   ],
   "source": [
    "data['Petals'].plot.hist(alpha=1)"
   ]
  },
  {
   "cell_type": "code",
   "execution_count": 8,
   "id": "d30d3942",
   "metadata": {},
   "outputs": [
    {
     "data": {
      "text/plain": [
       "<AxesSubplot:ylabel='Frequency'>"
      ]
     },
     "execution_count": 8,
     "metadata": {},
     "output_type": "execute_result"
    },
    {
     "data": {
      "image/png": "[encoded data removed]",
      "text/plain": [
       "<Figure size 432x288 with 1 Axes>"
      ]
     },
     "metadata": {
      "needs_background": "light"
     },
     "output_type": "display_data"
    }
   ],
   "source": [
    "data['Internode'].plot.hist(alpha=1)"
   ]
  },
  {
   "cell_type": "code",
   "execution_count": 9,
   "id": "020bf6f7",
   "metadata": {},
   "outputs": [
    {
     "data": {
      "text/plain": [
       "<AxesSubplot:ylabel='Frequency'>"
      ]
     },
     "execution_count": 9,
     "metadata": {},
     "output_type": "execute_result"
    },
    {
     "data": {
      "image/png": "[encoded data removed]",
      "text/plain": [
       "<Figure size 432x288 with 1 Axes>"
      ]
     },
     "metadata": {
      "needs_background": "light"
     },
     "output_type": "display_data"
    }
   ],
   "source": [
    "data['Sepal'].plot.hist(alpha=1)"
   ]
  },
  {
   "cell_type": "code",
   "execution_count": 10,
   "id": "b067f44c",
   "metadata": {},
   "outputs": [
    {
     "data": {
      "text/plain": [
       "<AxesSubplot:ylabel='Frequency'>"
      ]
     },
     "execution_count": 10,
     "metadata": {},
     "output_type": "execute_result"
    },
    {
     "data": {
      "image/png": "[encoded data removed]",
      "text/plain": [
       "<Figure size 432x288 with 1 Axes>"
      ]
     },
     "metadata": {
      "needs_background": "light"
     },
     "output_type": "display_data"
    }
   ],
   "source": [
    "data['Fruit'].plot.hist(alpha=1)"
   ]
  },
  {
   "cell_type": "markdown",
   "id": "d31a37a7",
   "metadata": {},
   "source": [
    "The next graph you need to create is a boxplot of Bract against Fruit. Bin the values of Bract. Base the binning by mean, not count. Name each bin with a roman numeral: BractI, BractII, BractIII, etc. Name the new column of data Bract_Cat. (2 pts.)"
   ]
  },
  {
   "cell_type": "code",
   "execution_count": 11,
   "id": "5d5b97c7",
   "metadata": {},
   "outputs": [],
   "source": [
    "from scipy.stats import binned_statistic"
   ]
  },
  {
   "cell_type": "code",
   "execution_count": 12,
   "id": "b1bac7e1",
   "metadata": {},
   "outputs": [
    {
     "data": {
      "text/plain": [
       "19.99634132"
      ]
     },
     "execution_count": 12,
     "metadata": {},
     "output_type": "execute_result"
    }
   ],
   "source": [
    "data['Bract'].max()"
   ]
  },
  {
   "cell_type": "code",
   "execution_count": 13,
   "id": "62bbf406",
   "metadata": {},
   "outputs": [
    {
     "data": {
      "text/plain": [
       "17.04141579"
      ]
     },
     "execution_count": 13,
     "metadata": {},
     "output_type": "execute_result"
    }
   ],
   "source": [
    "data['Bract'].min()"
   ]
  },
  {
   "cell_type": "code",
   "execution_count": 14,
   "id": "d2f677ec",
   "metadata": {},
   "outputs": [],
   "source": [
    "bin_counts,bin_edges,binnum = binned_statistic(data['Bract'], \n",
    "                                               data['Bract'], \n",
    "                                               statistic='mean', \n",
    "                                               bins=5)"
   ]
  },
  {
   "cell_type": "code",
   "execution_count": 15,
   "id": "5c0a2226",
   "metadata": {},
   "outputs": [
    {
     "data": {
      "text/plain": [
       "array([17.04141579, 17.6324009 , 18.223386  , 18.81437111, 19.40535621,\n",
       "       19.99634132])"
      ]
     },
     "execution_count": 15,
     "metadata": {},
     "output_type": "execute_result"
    }
   ],
   "source": [
    "bin_edges"
   ]
  },
  {
   "cell_type": "code",
   "execution_count": 16,
   "id": "42a27c74",
   "metadata": {},
   "outputs": [],
   "source": [
    "bin_interval = [17.04, 17.63, 18.22, 18.81, 19.41, 20]\n",
    "\n",
    "binlabels = ['BractI', 'BractII', 'BractIII', 'BractIV', 'BractV']\n",
    "\n",
    "Bract_Cat = pd.cut(data['Bract'], bin_interval, right=False, retbins=False, labels=binlabels)"
   ]
  },
  {
   "cell_type": "code",
   "execution_count": 17,
   "id": "5da1034c",
   "metadata": {},
   "outputs": [],
   "source": [
    "Bract_Cat.name = 'Bract_Cat'"
   ]
  },
  {
   "cell_type": "code",
   "execution_count": 18,
   "id": "68d79f5b",
   "metadata": {},
   "outputs": [],
   "source": [
    "data = data.join(pd.DataFrame(Bract_Cat))"
   ]
  },
  {
   "cell_type": "code",
   "execution_count": 19,
   "id": "bba7d1a8",
   "metadata": {
    "scrolled": true
   },
   "outputs": [
    {
     "data": {
      "text/html": [
       "<div>\n",
       "<style scoped>\n",
       "    .dataframe tbody tr th:only-of-type {\n",
       "        vertical-align: middle;\n",
       "    }\n",
       "\n",
       "    .dataframe tbody tr th {\n",
       "        vertical-align: top;\n",
       "    }\n",
       "\n",
       "    .dataframe thead th {\n",
       "        text-align: right;\n",
       "    }\n",
       "</style>\n",
       "<table border=\"1\" class=\"dataframe\">\n",
       "  <thead>\n",
       "    <tr style=\"text-align: right;\">\n",
       "      <th></th>\n",
       "      <th>Bract</th>\n",
       "      <th>Bract_Cat</th>\n",
       "    </tr>\n",
       "  </thead>\n",
       "  <tbody>\n",
       "    <tr>\n",
       "      <th>75</th>\n",
       "      <td>17.041416</td>\n",
       "      <td>BractI</td>\n",
       "    </tr>\n",
       "    <tr>\n",
       "      <th>113</th>\n",
       "      <td>17.042944</td>\n",
       "      <td>BractI</td>\n",
       "    </tr>\n",
       "    <tr>\n",
       "      <th>5</th>\n",
       "      <td>17.072157</td>\n",
       "      <td>BractI</td>\n",
       "    </tr>\n",
       "    <tr>\n",
       "      <th>110</th>\n",
       "      <td>17.073279</td>\n",
       "      <td>BractI</td>\n",
       "    </tr>\n",
       "    <tr>\n",
       "      <th>40</th>\n",
       "      <td>17.084171</td>\n",
       "      <td>BractI</td>\n",
       "    </tr>\n",
       "    <tr>\n",
       "      <th>...</th>\n",
       "      <td>...</td>\n",
       "      <td>...</td>\n",
       "    </tr>\n",
       "    <tr>\n",
       "      <th>7</th>\n",
       "      <td>19.873762</td>\n",
       "      <td>BractV</td>\n",
       "    </tr>\n",
       "    <tr>\n",
       "      <th>91</th>\n",
       "      <td>19.911665</td>\n",
       "      <td>BractV</td>\n",
       "    </tr>\n",
       "    <tr>\n",
       "      <th>109</th>\n",
       "      <td>19.984975</td>\n",
       "      <td>BractV</td>\n",
       "    </tr>\n",
       "    <tr>\n",
       "      <th>21</th>\n",
       "      <td>19.995021</td>\n",
       "      <td>BractV</td>\n",
       "    </tr>\n",
       "    <tr>\n",
       "      <th>102</th>\n",
       "      <td>19.996341</td>\n",
       "      <td>BractV</td>\n",
       "    </tr>\n",
       "  </tbody>\n",
       "</table>\n",
       "<p>120 rows × 2 columns</p>\n",
       "</div>"
      ],
      "text/plain": [
       "         Bract Bract_Cat\n",
       "75   17.041416    BractI\n",
       "113  17.042944    BractI\n",
       "5    17.072157    BractI\n",
       "110  17.073279    BractI\n",
       "40   17.084171    BractI\n",
       "..         ...       ...\n",
       "7    19.873762    BractV\n",
       "91   19.911665    BractV\n",
       "109  19.984975    BractV\n",
       "21   19.995021    BractV\n",
       "102  19.996341    BractV\n",
       "\n",
       "[120 rows x 2 columns]"
      ]
     },
     "execution_count": 19,
     "metadata": {},
     "output_type": "execute_result"
    }
   ],
   "source": [
    "data[['Bract', 'Bract_Cat']].sort_values(by='Bract')"
   ]
  },
  {
   "cell_type": "code",
   "execution_count": 20,
   "id": "957cc325",
   "metadata": {},
   "outputs": [
    {
     "data": {
      "text/plain": [
       "<AxesSubplot:title={'center':'Fruit'}, xlabel='Bract_Cat'>"
      ]
     },
     "execution_count": 20,
     "metadata": {},
     "output_type": "execute_result"
    },
    {
     "data": {
      "image/png": "[encoded data removed]",
      "text/plain": [
       "<Figure size 432x288 with 1 Axes>"
      ]
     },
     "metadata": {
      "needs_background": "light"
     },
     "output_type": "display_data"
    }
   ],
   "source": [
    "data.boxplot(column='Fruit', by='Bract_Cat')"
   ]
  },
  {
   "cell_type": "markdown",
   "id": "450a5374",
   "metadata": {},
   "source": [
    "Generate a bar chart for Taxon and Fruit. Select 4 rows of data, one with Taxon of I, one with II, one with III, and one with IV. Do the same with Bract_Cat, except select 4 rows of data. The criteria for the selection is entirely up to. Order the categories with BractI first and BractV last (see example below); same with Taxon (see example below)"
   ]
  },
  {
   "cell_type": "code",
   "execution_count": 57,
   "id": "ba9f3e56",
   "metadata": {},
   "outputs": [],
   "source": [
    "I_df = data[data['Taxon'] == 'I'] \n",
    "II_df = data[data['Taxon'] == 'II'] \n",
    "III_df = data[data['Taxon'] == 'III'] \n",
    "IV_df = data[data['Taxon'] == 'IV'] "
   ]
  },
  {
   "cell_type": "code",
   "execution_count": 67,
   "id": "7053228c",
   "metadata": {},
   "outputs": [
    {
     "data": {
      "text/html": [
       "<div>\n",
       "<style scoped>\n",
       "    .dataframe tbody tr th:only-of-type {\n",
       "        vertical-align: middle;\n",
       "    }\n",
       "\n",
       "    .dataframe tbody tr th {\n",
       "        vertical-align: top;\n",
       "    }\n",
       "\n",
       "    .dataframe thead th {\n",
       "        text-align: right;\n",
       "    }\n",
       "</style>\n",
       "<table border=\"1\" class=\"dataframe\">\n",
       "  <thead>\n",
       "    <tr style=\"text-align: right;\">\n",
       "      <th></th>\n",
       "      <th>Taxon</th>\n",
       "      <th>Petals</th>\n",
       "      <th>Internode</th>\n",
       "      <th>Sepal</th>\n",
       "      <th>Bract</th>\n",
       "      <th>Petiole</th>\n",
       "      <th>Leaf</th>\n",
       "      <th>Fruit</th>\n",
       "      <th>Bract_Cat</th>\n",
       "    </tr>\n",
       "  </thead>\n",
       "  <tbody>\n",
       "    <tr>\n",
       "      <th>1</th>\n",
       "      <td>I</td>\n",
       "      <td>4.994617</td>\n",
       "      <td>28.360247</td>\n",
       "      <td>2.429321</td>\n",
       "      <td>17.652049</td>\n",
       "      <td>11.040838</td>\n",
       "      <td>1.197617</td>\n",
       "      <td>7.025416</td>\n",
       "      <td>BractII</td>\n",
       "    </tr>\n",
       "    <tr>\n",
       "      <th>43</th>\n",
       "      <td>II</td>\n",
       "      <td>8.445347</td>\n",
       "      <td>28.391867</td>\n",
       "      <td>2.820234</td>\n",
       "      <td>19.831098</td>\n",
       "      <td>7.806911</td>\n",
       "      <td>1.875240</td>\n",
       "      <td>7.971315</td>\n",
       "      <td>BractV</td>\n",
       "    </tr>\n",
       "    <tr>\n",
       "      <th>82</th>\n",
       "      <td>III</td>\n",
       "      <td>6.948655</td>\n",
       "      <td>25.786918</td>\n",
       "      <td>2.827683</td>\n",
       "      <td>18.457777</td>\n",
       "      <td>9.452671</td>\n",
       "      <td>2.720343</td>\n",
       "      <td>7.396404</td>\n",
       "      <td>BractIII</td>\n",
       "    </tr>\n",
       "    <tr>\n",
       "      <th>93</th>\n",
       "      <td>IV</td>\n",
       "      <td>6.425556</td>\n",
       "      <td>30.580796</td>\n",
       "      <td>4.607472</td>\n",
       "      <td>19.428635</td>\n",
       "      <td>9.852476</td>\n",
       "      <td>1.579892</td>\n",
       "      <td>7.985552</td>\n",
       "      <td>BractV</td>\n",
       "    </tr>\n",
       "  </tbody>\n",
       "</table>\n",
       "</div>"
      ],
      "text/plain": [
       "   Taxon    Petals  Internode     Sepal      Bract    Petiole      Leaf  \\\n",
       "1      I  4.994617  28.360247  2.429321  17.652049  11.040838  1.197617   \n",
       "43    II  8.445347  28.391867  2.820234  19.831098   7.806911  1.875240   \n",
       "82   III  6.948655  25.786918  2.827683  18.457777   9.452671  2.720343   \n",
       "93    IV  6.425556  30.580796  4.607472  19.428635   9.852476  1.579892   \n",
       "\n",
       "       Fruit Bract_Cat  \n",
       "1   7.025416   BractII  \n",
       "43  7.971315    BractV  \n",
       "82  7.396404  BractIII  \n",
       "93  7.985552    BractV  "
      ]
     },
     "execution_count": 67,
     "metadata": {},
     "output_type": "execute_result"
    }
   ],
   "source": [
    "row1 = I_df.sample(n = 1)\n",
    "row2 = II_df.sample(n = 1)\n",
    "row3 = III_df.sample(n = 1)\n",
    "row4 = IV_df.sample(n = 1)\n",
    "selected_df = [row1, row2, row3, row4]\n",
    "selected_df = pd.concat(selected_df)\n",
    "selected_df"
   ]
  },
  {
   "cell_type": "code",
   "execution_count": 68,
   "id": "3f8c3976",
   "metadata": {},
   "outputs": [
    {
     "data": {
      "text/plain": [
       "<AxesSubplot:xlabel='Taxon'>"
      ]
     },
     "execution_count": 68,
     "metadata": {},
     "output_type": "execute_result"
    },
    {
     "data": {
      "image/png": "[encoded data removed]",
      "text/plain": [
       "<Figure size 432x288 with 1 Axes>"
      ]
     },
     "metadata": {
      "needs_background": "light"
     },
     "output_type": "display_data"
    }
   ],
   "source": [
    "selected_df.plot.bar(x='Taxon', y='Fruit')"
   ]
  },
  {
   "cell_type": "code",
   "execution_count": 70,
   "id": "751c59e4",
   "metadata": {},
   "outputs": [],
   "source": [
    "I2_df = data[data['Bract_Cat'] == 'BractI'] \n",
    "II2_df = data[data['Bract_Cat'] == 'BractII'] \n",
    "III2_df = data[data['Bract_Cat'] == 'BractIII'] \n",
    "IV2_df = data[data['Bract_Cat'] == 'BractIV'] "
   ]
  },
  {
   "cell_type": "code",
   "execution_count": 73,
   "id": "747ba439",
   "metadata": {},
   "outputs": [
    {
     "data": {
      "text/html": [
       "<div>\n",
       "<style scoped>\n",
       "    .dataframe tbody tr th:only-of-type {\n",
       "        vertical-align: middle;\n",
       "    }\n",
       "\n",
       "    .dataframe tbody tr th {\n",
       "        vertical-align: top;\n",
       "    }\n",
       "\n",
       "    .dataframe thead th {\n",
       "        text-align: right;\n",
       "    }\n",
       "</style>\n",
       "<table border=\"1\" class=\"dataframe\">\n",
       "  <thead>\n",
       "    <tr style=\"text-align: right;\">\n",
       "      <th></th>\n",
       "      <th>Taxon</th>\n",
       "      <th>Petals</th>\n",
       "      <th>Internode</th>\n",
       "      <th>Sepal</th>\n",
       "      <th>Bract</th>\n",
       "      <th>Petiole</th>\n",
       "      <th>Leaf</th>\n",
       "      <th>Fruit</th>\n",
       "      <th>Bract_Cat</th>\n",
       "    </tr>\n",
       "  </thead>\n",
       "  <tbody>\n",
       "    <tr>\n",
       "      <th>92</th>\n",
       "      <td>IV</td>\n",
       "      <td>7.931554</td>\n",
       "      <td>27.906661</td>\n",
       "      <td>4.985480</td>\n",
       "      <td>17.099765</td>\n",
       "      <td>10.934674</td>\n",
       "      <td>1.788450</td>\n",
       "      <td>7.180509</td>\n",
       "      <td>BractI</td>\n",
       "    </tr>\n",
       "    <tr>\n",
       "      <th>106</th>\n",
       "      <td>IV</td>\n",
       "      <td>5.965560</td>\n",
       "      <td>25.320880</td>\n",
       "      <td>4.771112</td>\n",
       "      <td>17.333232</td>\n",
       "      <td>9.313900</td>\n",
       "      <td>1.926746</td>\n",
       "      <td>7.499035</td>\n",
       "      <td>BractI</td>\n",
       "    </tr>\n",
       "    <tr>\n",
       "      <th>38</th>\n",
       "      <td>II</td>\n",
       "      <td>7.239731</td>\n",
       "      <td>27.660798</td>\n",
       "      <td>2.446001</td>\n",
       "      <td>17.198259</td>\n",
       "      <td>9.118367</td>\n",
       "      <td>1.177664</td>\n",
       "      <td>7.494689</td>\n",
       "      <td>BractI</td>\n",
       "    </tr>\n",
       "    <tr>\n",
       "      <th>40</th>\n",
       "      <td>II</td>\n",
       "      <td>6.482875</td>\n",
       "      <td>30.142021</td>\n",
       "      <td>2.868524</td>\n",
       "      <td>17.084171</td>\n",
       "      <td>9.807589</td>\n",
       "      <td>1.699837</td>\n",
       "      <td>7.019452</td>\n",
       "      <td>BractI</td>\n",
       "    </tr>\n",
       "    <tr>\n",
       "      <th>99</th>\n",
       "      <td>IV</td>\n",
       "      <td>5.714140</td>\n",
       "      <td>25.651698</td>\n",
       "      <td>4.597587</td>\n",
       "      <td>18.008405</td>\n",
       "      <td>9.642151</td>\n",
       "      <td>1.391719</td>\n",
       "      <td>7.079658</td>\n",
       "      <td>BractII</td>\n",
       "    </tr>\n",
       "    <tr>\n",
       "      <th>118</th>\n",
       "      <td>IV</td>\n",
       "      <td>6.957973</td>\n",
       "      <td>29.603806</td>\n",
       "      <td>4.075159</td>\n",
       "      <td>17.979469</td>\n",
       "      <td>10.603912</td>\n",
       "      <td>1.707471</td>\n",
       "      <td>7.097120</td>\n",
       "      <td>BractII</td>\n",
       "    </tr>\n",
       "    <tr>\n",
       "      <th>46</th>\n",
       "      <td>II</td>\n",
       "      <td>7.879811</td>\n",
       "      <td>27.758264</td>\n",
       "      <td>2.495427</td>\n",
       "      <td>18.101190</td>\n",
       "      <td>7.566014</td>\n",
       "      <td>1.027404</td>\n",
       "      <td>7.670108</td>\n",
       "      <td>BractII</td>\n",
       "    </tr>\n",
       "    <tr>\n",
       "      <th>26</th>\n",
       "      <td>I</td>\n",
       "      <td>5.006043</td>\n",
       "      <td>27.923463</td>\n",
       "      <td>2.054945</td>\n",
       "      <td>17.893958</td>\n",
       "      <td>10.292855</td>\n",
       "      <td>1.231613</td>\n",
       "      <td>7.948527</td>\n",
       "      <td>BractII</td>\n",
       "    </tr>\n",
       "    <tr>\n",
       "      <th>49</th>\n",
       "      <td>II</td>\n",
       "      <td>6.338347</td>\n",
       "      <td>25.921477</td>\n",
       "      <td>2.306363</td>\n",
       "      <td>18.563446</td>\n",
       "      <td>7.031612</td>\n",
       "      <td>1.935156</td>\n",
       "      <td>7.124514</td>\n",
       "      <td>BractIII</td>\n",
       "    </tr>\n",
       "    <tr>\n",
       "      <th>55</th>\n",
       "      <td>II</td>\n",
       "      <td>7.976802</td>\n",
       "      <td>26.594929</td>\n",
       "      <td>2.638240</td>\n",
       "      <td>18.352939</td>\n",
       "      <td>9.482006</td>\n",
       "      <td>1.791931</td>\n",
       "      <td>7.245717</td>\n",
       "      <td>BractIII</td>\n",
       "    </tr>\n",
       "    <tr>\n",
       "      <th>104</th>\n",
       "      <td>IV</td>\n",
       "      <td>6.186925</td>\n",
       "      <td>30.973266</td>\n",
       "      <td>4.686652</td>\n",
       "      <td>18.784283</td>\n",
       "      <td>9.802241</td>\n",
       "      <td>1.978471</td>\n",
       "      <td>7.627336</td>\n",
       "      <td>BractIII</td>\n",
       "    </tr>\n",
       "    <tr>\n",
       "      <th>74</th>\n",
       "      <td>III</td>\n",
       "      <td>6.042782</td>\n",
       "      <td>27.850120</td>\n",
       "      <td>2.072082</td>\n",
       "      <td>18.697730</td>\n",
       "      <td>9.077366</td>\n",
       "      <td>2.080137</td>\n",
       "      <td>7.548230</td>\n",
       "      <td>BractIII</td>\n",
       "    </tr>\n",
       "    <tr>\n",
       "      <th>94</th>\n",
       "      <td>IV</td>\n",
       "      <td>6.015484</td>\n",
       "      <td>25.269015</td>\n",
       "      <td>4.192565</td>\n",
       "      <td>19.258851</td>\n",
       "      <td>9.587827</td>\n",
       "      <td>1.333910</td>\n",
       "      <td>7.321696</td>\n",
       "      <td>BractIV</td>\n",
       "    </tr>\n",
       "    <tr>\n",
       "      <th>114</th>\n",
       "      <td>IV</td>\n",
       "      <td>7.577758</td>\n",
       "      <td>26.678927</td>\n",
       "      <td>4.277027</td>\n",
       "      <td>19.389634</td>\n",
       "      <td>10.613988</td>\n",
       "      <td>2.006028</td>\n",
       "      <td>7.941714</td>\n",
       "      <td>BractIV</td>\n",
       "    </tr>\n",
       "    <tr>\n",
       "      <th>73</th>\n",
       "      <td>III</td>\n",
       "      <td>7.342573</td>\n",
       "      <td>26.884287</td>\n",
       "      <td>2.192125</td>\n",
       "      <td>19.215972</td>\n",
       "      <td>9.852831</td>\n",
       "      <td>2.015056</td>\n",
       "      <td>7.403354</td>\n",
       "      <td>BractIV</td>\n",
       "    </tr>\n",
       "    <tr>\n",
       "      <th>37</th>\n",
       "      <td>II</td>\n",
       "      <td>6.259200</td>\n",
       "      <td>25.652621</td>\n",
       "      <td>2.369233</td>\n",
       "      <td>18.927763</td>\n",
       "      <td>9.574329</td>\n",
       "      <td>1.885650</td>\n",
       "      <td>7.211005</td>\n",
       "      <td>BractIV</td>\n",
       "    </tr>\n",
       "  </tbody>\n",
       "</table>\n",
       "</div>"
      ],
      "text/plain": [
       "    Taxon    Petals  Internode     Sepal      Bract    Petiole      Leaf  \\\n",
       "92     IV  7.931554  27.906661  4.985480  17.099765  10.934674  1.788450   \n",
       "106    IV  5.965560  25.320880  4.771112  17.333232   9.313900  1.926746   \n",
       "38     II  7.239731  27.660798  2.446001  17.198259   9.118367  1.177664   \n",
       "40     II  6.482875  30.142021  2.868524  17.084171   9.807589  1.699837   \n",
       "99     IV  5.714140  25.651698  4.597587  18.008405   9.642151  1.391719   \n",
       "118    IV  6.957973  29.603806  4.075159  17.979469  10.603912  1.707471   \n",
       "46     II  7.879811  27.758264  2.495427  18.101190   7.566014  1.027404   \n",
       "26      I  5.006043  27.923463  2.054945  17.893958  10.292855  1.231613   \n",
       "49     II  6.338347  25.921477  2.306363  18.563446   7.031612  1.935156   \n",
       "55     II  7.976802  26.594929  2.638240  18.352939   9.482006  1.791931   \n",
       "104    IV  6.186925  30.973266  4.686652  18.784283   9.802241  1.978471   \n",
       "74    III  6.042782  27.850120  2.072082  18.697730   9.077366  2.080137   \n",
       "94     IV  6.015484  25.269015  4.192565  19.258851   9.587827  1.333910   \n",
       "114    IV  7.577758  26.678927  4.277027  19.389634  10.613988  2.006028   \n",
       "73    III  7.342573  26.884287  2.192125  19.215972   9.852831  2.015056   \n",
       "37     II  6.259200  25.652621  2.369233  18.927763   9.574329  1.885650   \n",
       "\n",
       "        Fruit Bract_Cat  \n",
       "92   7.180509    BractI  \n",
       "106  7.499035    BractI  \n",
       "38   7.494689    BractI  \n",
       "40   7.019452    BractI  \n",
       "99   7.079658   BractII  \n",
       "118  7.097120   BractII  \n",
       "46   7.670108   BractII  \n",
       "26   7.948527   BractII  \n",
       "49   7.124514  BractIII  \n",
       "55   7.245717  BractIII  \n",
       "104  7.627336  BractIII  \n",
       "74   7.548230  BractIII  \n",
       "94   7.321696   BractIV  \n",
       "114  7.941714   BractIV  \n",
       "73   7.403354   BractIV  \n",
       "37   7.211005   BractIV  "
      ]
     },
     "execution_count": 73,
     "metadata": {},
     "output_type": "execute_result"
    }
   ],
   "source": [
    "row1_2 = I2_df.sample(n = 4)\n",
    "row2_2 = II2_df.sample(n = 4)\n",
    "row3_2 = III2_df.sample(n = 4)\n",
    "row4_2 = IV2_df.sample(n = 4)\n",
    "selected_df2 = [row1_2, row2_2, row3_2, row4_2]\n",
    "selected_df2 = pd.concat(selected_df2)\n",
    "selected_df2"
   ]
  },
  {
   "cell_type": "code",
   "execution_count": 74,
   "id": "fae8728c",
   "metadata": {},
   "outputs": [
    {
     "data": {
      "text/plain": [
       "<AxesSubplot:xlabel='Bract_Cat'>"
      ]
     },
     "execution_count": 74,
     "metadata": {},
     "output_type": "execute_result"
    },
    {
     "data": {
      "image/png": "[encoded data removed]",
      "text/plain": [
       "<Figure size 432x288 with 1 Axes>"
      ]
     },
     "metadata": {
      "needs_background": "light"
     },
     "output_type": "display_data"
    }
   ],
   "source": [
    "selected_df2.plot.bar(x='Bract_Cat', y='Fruit')"
   ]
  }
 ],
 "metadata": {
  "kernelspec": {
   "display_name": "Python 3 (ipykernel)",
   "language": "python",
   "name": "python3"
  },
  "language_info": {
   "codemirror_mode": {
    "name": "ipython",
    "version": 3
   },
   "file_extension": ".py",
   "mimetype": "text/x-python",
   "name": "python",
   "nbconvert_exporter": "python",
   "pygments_lexer": "ipython3",
   "version": "3.9.12"
  }
 },
 "nbformat": 4,
 "nbformat_minor": 5
}
