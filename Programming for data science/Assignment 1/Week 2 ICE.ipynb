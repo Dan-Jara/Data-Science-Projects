{
 "cells": [
  {
   "cell_type": "code",
   "execution_count": 1,
   "id": "74a36929",
   "metadata": {},
   "outputs": [
    {
     "name": "stdout",
     "output_type": "stream",
     "text": [
      "15\n"
     ]
    }
   ],
   "source": [
    "### Python Exercises: Variables (3 pts.)\n",
    "def python_variables():\n",
    "    hometown = 'Puebla'\n",
    "    # Place other variables here\n",
    "    x = 298784\n",
    "    j = 5\n",
    "    l = 10\n",
    "    z = j + l\n",
    "    print(z) \n",
    "    t, q, r, s = \"education\", \"education\", \"education\", \"education\"\n",
    "\n",
    "python_variables()"
   ]
  },
  {
   "cell_type": "code",
   "execution_count": 2,
   "id": "224f62c5",
   "metadata": {},
   "outputs": [
    {
     "name": "stdout",
     "output_type": "stream",
     "text": [
      "<class 'list'>\n",
      "<class 'tuple'>\n",
      "<class 'bool'>\n",
      "<class 'str'>\n",
      "<class 'int'>\n"
     ]
    }
   ],
   "source": [
    "### Python Exercises: Data Types (2 pts.)\n",
    "def data_types():\n",
    "    a = [\"apple\", \"banana\", \"cherry\"]\n",
    "    print(type(a)) \n",
    "    b = (\"apple\", \"banana\", \"cherry\")\n",
    "    print(type(b))\n",
    "    c = False\n",
    "    print(type(c))\n",
    "    d = 'covid-19'\n",
    "    print(type(d))\n",
    "    e = int(487)\n",
    "    print(type(e))\n",
    "\n",
    "data_types()"
   ]
  },
  {
   "cell_type": "code",
   "execution_count": 3,
   "id": "0c660b5d",
   "metadata": {},
   "outputs": [
    {
     "name": "stdout",
     "output_type": "stream",
     "text": [
      "<class 'list'> \n",
      " <class 'tuple'> \n",
      " <class 'bool'> \n",
      " <class 'str'> \n",
      " <class 'int'>\n"
     ]
    }
   ],
   "source": [
    "### Python Exercises: Data Types 2 (3 pts.)\n",
    "def data_types2():\n",
    "    a = [\"apple\", \"banana\", \"cherry\"]\n",
    "    b = (\"apple\", \"banana\", \"cherry\")\n",
    "    c = False\n",
    "    d = 'covid-19'\n",
    "    e = int(487)\n",
    "    # Use a single print statement to output data types\n",
    "    print(type(a),\"\\n\",type(b),\"\\n\",type(c),\"\\n\",type(d),\"\\n\",type(e))\n",
    "\n",
    "data_types2()"
   ]
  },
  {
   "cell_type": "code",
   "execution_count": 4,
   "id": "7172d27b",
   "metadata": {},
   "outputs": [
    {
     "name": "stdout",
     "output_type": "stream",
     "text": [
      "burger\n",
      "apple\n",
      "soba\n"
     ]
    }
   ],
   "source": [
    "### Python Exercises: Iteration (2 pts.)\n",
    "def food_loop():\n",
    "    lunches = ['burger','apple','soba','chahan']\n",
    "    #for loop goes here\n",
    "    for food in lunches:  \n",
    "           print(food)\n",
    "           if food=='soba':\n",
    "            break\n",
    "food_loop()"
   ]
  },
  {
   "cell_type": "code",
   "execution_count": null,
   "id": "ddad1d32",
   "metadata": {},
   "outputs": [],
   "source": []
  }
 ],
 "metadata": {
  "kernelspec": {
   "display_name": "Python 3",
   "language": "python",
   "name": "python3"
  },
  "language_info": {
   "codemirror_mode": {
    "name": "ipython",
    "version": 3
   },
   "file_extension": ".py",
   "mimetype": "text/x-python",
   "name": "python",
   "nbconvert_exporter": "python",
   "pygments_lexer": "ipython3",
   "version": "3.8.8"
  }
 },
 "nbformat": 4,
 "nbformat_minor": 5
}
