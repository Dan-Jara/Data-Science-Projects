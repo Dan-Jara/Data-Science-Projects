{
 "cells": [
  {
   "cell_type": "code",
   "execution_count": 4,
   "id": "9bfa2bb8",
   "metadata": {},
   "outputs": [
    {
     "name": "stdout",
     "output_type": "stream",
     "text": [
      "Printing the value  1\n",
      "Printing the value  5\n",
      "Printing the value  7\n",
      "Printing the value  9\n",
      "Printing the value  13\n",
      "Printing the value  15\n"
     ]
    }
   ],
   "source": [
    "#### Iteration and Math with While \n",
    "def iteration_math():\n",
    "    num_list = [1, 2, 4, 5, 6, 7, 9, 10, 13, 14, 15, 16]\n",
    "    # while loop goes here\n",
    "    i = 0\n",
    "    while i < len(num_list):\n",
    "        number = num_list[i]\n",
    "        if number % 2 != 0: \n",
    "            print(\"Printing the value \", int(number))\n",
    "        i += 1\n",
    "\n",
    "iteration_math()  "
   ]
  },
  {
   "cell_type": "code",
   "execution_count": 2,
   "id": "0b7c1806",
   "metadata": {},
   "outputs": [
    {
     "name": "stdout",
     "output_type": "stream",
     "text": [
      "Unequal lengths\n",
      "Math is fun:  17\n"
     ]
    },
    {
     "data": {
      "text/plain": [
       "17"
      ]
     },
     "execution_count": 2,
     "metadata": {},
     "output_type": "execute_result"
    }
   ],
   "source": [
    "#### Functions and Parameters\n",
    "def my_function(str1, str2, int1):\n",
    "    # if-else statement here\n",
    "    if len(str1) != len(str2): \n",
    "        print(\"Unequal lengths\") \n",
    "    else: \n",
    "        print(\"Equal lengths\") \n",
    "    # math equation here\n",
    "    math1 = len(str2) + int1 \n",
    "    # print statement here\n",
    "    print(\"Math is fun: \", int(math1))\n",
    "    # return the variable math1\n",
    "    return math1\n",
    "\n",
    "numero = 13\n",
    "string1 = 'Oklahoma'\n",
    "string2 = 'hats'\n",
    "\n",
    "my_function(string1,string2,numero)"
   ]
  },
  {
   "cell_type": "code",
   "execution_count": 3,
   "id": "af810bd1",
   "metadata": {},
   "outputs": [
    {
     "name": "stdout",
     "output_type": "stream",
     "text": [
      "-1\n"
     ]
    }
   ],
   "source": [
    "#### Lambda Function\n",
    "def my_lambda(str1,str2,int1):\n",
    "    # lambda function here\n",
    "    t = lambda str1, str2, int1: len(str1) + len(str2) - int1 \n",
    "    # print statement here\n",
    "    print(t(str1,str2,int1))\n",
    "\n",
    "my_lambda(string1,string2,numero)"
   ]
  },
  {
   "cell_type": "code",
   "execution_count": null,
   "id": "f3c7ec83",
   "metadata": {},
   "outputs": [],
   "source": []
  }
 ],
 "metadata": {
  "kernelspec": {
   "display_name": "Python 3",
   "language": "python",
   "name": "python3"
  },
  "language_info": {
   "codemirror_mode": {
    "name": "ipython",
    "version": 3
   },
   "file_extension": ".py",
   "mimetype": "text/x-python",
   "name": "python",
   "nbconvert_exporter": "python",
   "pygments_lexer": "ipython3",
   "version": "3.8.8"
  }
 },
 "nbformat": 4,
 "nbformat_minor": 5
}
