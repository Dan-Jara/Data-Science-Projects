{
 "cells": [
  {
   "cell_type": "code",
   "execution_count": 1,
   "id": "61ed7552",
   "metadata": {},
   "outputs": [
    {
     "name": "stderr",
     "output_type": "stream",
     "text": [
      "C:\\Users\\Usuario\\AppData\\Local\\Temp\\ipykernel_10568\\3840048794.py:6: DeprecationWarning: executable_path has been deprecated, please pass in a Service object\n",
      "  driver = webdriver.Firefox(executable_path=r'C:\\Users\\Usuario\\Documents\\geckodriver.exe')\n"
     ]
    }
   ],
   "source": [
    "from selenium import webdriver\n",
    "from selenium.webdriver.common.keys import Keys\n",
    "from selenium.webdriver.support.ui import WebDriverWait\n",
    "import pandas as pd\n",
    "driver = webdriver.Firefox(executable_path=r'C:\\Users\\Usuario\\Documents\\geckodriver.exe')"
   ]
  },
  {
   "cell_type": "code",
   "execution_count": 4,
   "id": "10a5994f",
   "metadata": {},
   "outputs": [
    {
     "ename": "SyntaxError",
     "evalue": "invalid syntax (3377971611.py, line 5)",
     "output_type": "error",
     "traceback": [
      "\u001b[1;36m  Input \u001b[1;32mIn [4]\u001b[1;36m\u001b[0m\n\u001b[1;33m    url_list = remDr$findElements(using='xpath', url_list_xpath)\u001b[0m\n\u001b[1;37m                    ^\u001b[0m\n\u001b[1;31mSyntaxError\u001b[0m\u001b[1;31m:\u001b[0m invalid syntax\n"
     ]
    }
   ],
   "source": [
    "# Xpath for video card urls\n",
    "url_list_xpath <- '//ul[@class=\"chartlist\"]/li/a'\n",
    "\n",
    "# Obtain HTML elements for the anchor tags\n",
    "url_list = remDr$findElements(using='xpath', url_list_xpath)\n",
    "\n",
    "# Create a vector containing all the urls\n",
    "vid_urls = vector()\n",
    "for(i in url_list) {\n",
    "    vid_urls <- append(vid_urls, i$getElementAttribute('href')[[1]])\n",
    "}\n",
    "\n",
    "# Create empty lists for all the data.\n",
    "# These will become the columns in the\n",
    "# data frame below.\n",
    "cardname = vector()\n",
    "businterf = vector()\n",
    "maxmem = vector()\n",
    "coreclock = vector()\n",
    "memclock = vector()\n",
    "vidcat = vector()\n",
    "price = vector()\n",
    "avgg3dmark = vector()\n",
    "\n",
    "# Xpath selectors for card attributes\n",
    "# found on each individual webpage.\n",
    "# The xpath for the card's name and the\n",
    "# AVGG3D intentionally left blank for\n",
    "# you to fill out.\n",
    "cardname_xp <- ''\n",
    "card_attrib_xp <- '//em[@class=\"left-desc-cpu\"]'\n",
    "card_foot_xp <- '//div[@class=\"desc-foot\"]'\n",
    "avgg3d_xp <- ''\n",
    "\n",
    "# Regex patterns for the attributes.\n",
    "# Some patterns are blank intentionally\n",
    "# for you to fill out.\n",
    "businterf_patt = 'Bus Interface: '\n",
    "maxmem_patt = 'Max Memory Size: '\n",
    "coreclock_patt = 'Core Clock(s): '\n",
    "memclock_patt = ''\n",
    "vidcat_patt = ''\n",
    "price_patt = ''\n",
    "dollar_patt = ''"
   ]
  },
  {
   "cell_type": "code",
   "execution_count": null,
   "id": "60741ce7",
   "metadata": {},
   "outputs": [],
   "source": [
    "# A function used to scrape the data from\n",
    "# each video card webpage.\n",
    "rip_card = function(html_em, html_foot) {\n",
    "    # Determine if the attribute exists on the webpage.\n",
    "    # Not every video card webpage contains all the\n",
    "    # attributes. Defaults to \"no\".\n",
    "    businterf_exist = 0\n",
    "    maxmem_exist = 0\n",
    "    coreclock_exist = 0\n",
    "    memclock_exist = 0\n",
    "    vidcat_exist = 0\n",
    "    price_exist = 0\n",
    "    # Create a string with all the <em> attributes; separated by \\n\n",
    "    # This is the first \"block\" of attributes.\n",
    "    attribs_em = unlist(sapply(html_em, function(x) {x$getElementText()}))\n",
    "    # Split the string by \\n and save as list\n",
    "    attribs_list = str_split(attribs_em, '\\n')\n",
    "    # Loop over attribs_list\n",
    "    for(j in attribs_list[[1]]) {\n",
    "        # Detect if Business Interface exists\n",
    "        if(str_detect(j, businterf_patt)) {\n",
    "            businterf = str_split(j,businterf_patt)[[1]][2]\n",
    "            businterf_exist = 1\n",
    "        }\n",
    "        # Detect if Maxmem exists\n",
    "        if(str_detect(j, maxmem_patt)) {\n",
    "            maxmem = str_split(j,maxmem_patt)[[1]][2]\n",
    "            maxmem_exist = 1\n",
    "        }\n",
    "        # Detect if Coreclock exists\n",
    "        if(str_detect(j, coreclock_patt)) {\n",
    "            coreclock = str_split(j,coreclock_patt)[[1]][2]\n",
    "            coreclock_exist = 1\n",
    "        }\n",
    "        # Detect if Memory Clock exists\n",
    "        if(str_detect(j, memclock_patt)) {\n",
    "            memclock = str_split(j,memclock_patt)[[1]][2]\n",
    "            memclock_exist = 1\n",
    "        }\n",
    "    }\n",
    "    # Create a string with all the <div> attributes, separated by \\n.\n",
    "    # This is the second block of attributes.\n",
    "    attribs_div = unlist(sapply(html_foot, function(x) {x$getElementText()}))\n",
    "    # Split the string by \\n and save as list\n",
    "    attribs_div_list = str_split(attribs_div, '\\n')\n",
    "    # Loop over attribs_div_list\n",
    "    for(l in attribs_div_list[[1]]) {\n",
    "        # Detect if Videocard Category exists\n",
    "        if(str_detect(l, vidcat_patt)) {\n",
    "            vidcat = str_split(l,vidcat_patt)[[1]][2]\n",
    "            vidcat_exist = 1\n",
    "        }\n",
    "        # Detect if Last Price Change exists\n",
    "        if(str_detect(l, price_patt)) {\n",
    "            price = str_extract(l,dollar_patt)\n",
    "            price_exist = 1\n",
    "        }\n",
    "    }\n",
    "    # If values were missing, create a null value\n",
    "    if(businterf_exist == 0) businterf <- NA\n",
    "    if(maxmem_exist == 0) maxmem <- NA\n",
    "    if(coreclock_exist == 0) coreclock <- NA\n",
    "    if(memclock_exist == 0) memclock <- NA\n",
    "    if(vidcat_exist == 0) vidcat <- NA\n",
    "    if(price_exist == 0) price <- NA\n",
    "    # Return the values back out the function    \n",
    "    return (c(businterf, maxmem, coreclock, memclock, vidcat, price))\n",
    "}"
   ]
  },
  {
   "cell_type": "code",
   "execution_count": null,
   "id": "3cc3365a",
   "metadata": {},
   "outputs": [],
   "source": [
    "# Loop over the urls pulled from the landing page\n",
    "for(k in vid_urls) {\n",
    "    # Navigate to a video card webpage.\n",
    "    remDr$navigate(k)\n",
    "    # Wait for the webpage to load.\n",
    "    WebDriverWait(driver, timeout=10).until(lambda d: d.find_element_by_xpath(f))\n",
    "    # Scrape the card name from the page\n",
    "    #### Insert code here for card name\n",
    "    # Scrape the attributes using the function\n",
    "    first_attrib = remDr$findElements(using='xpath', card_attrib_xp)\n",
    "    second_attrib = remDr$findElements(using='xpath', card_foot_xp)\n",
    "    results = rip_card(first_attrib, second_attrib)\n",
    "    # Take the results from the function and append to the lists\n",
    "    #### Insert your code here.\n",
    "}\n",
    "\n",
    "remDr$close()\n",
    "rD$server$stop()"
   ]
  },
  {
   "cell_type": "code",
   "execution_count": null,
   "id": "9c930fcc",
   "metadata": {},
   "outputs": [],
   "source": []
  },
  {
   "cell_type": "code",
   "execution_count": null,
   "id": "abce8378",
   "metadata": {},
   "outputs": [],
   "source": []
  },
  {
   "cell_type": "code",
   "execution_count": null,
   "id": "57bdc820",
   "metadata": {},
   "outputs": [],
   "source": []
  },
  {
   "cell_type": "code",
   "execution_count": null,
   "id": "f3b40710",
   "metadata": {},
   "outputs": [],
   "source": []
  },
  {
   "cell_type": "code",
   "execution_count": 2,
   "id": "206e4719",
   "metadata": {},
   "outputs": [
    {
     "data": {
      "text/plain": [
       "<selenium.webdriver.remote.webelement.WebElement (session=\"3844bf01-5ddb-4704-ad85-11f6369838cf\", element=\"a466001c-66be-433c-97d2-373ccff75afb\")>"
      ]
     },
     "execution_count": 2,
     "metadata": {},
     "output_type": "execute_result"
    }
   ],
   "source": [
    "vc_url = 'https://www.videocardbenchmark.net/high_end_gpus.html'\n",
    "driver.get(vc_url)\n",
    "\n",
    "WebDriverWait(driver, timeout=10).until(lambda d: d.find_element('css selector','span.prdname'))"
   ]
  },
  {
   "cell_type": "code",
   "execution_count": 4,
   "id": "0990f156",
   "metadata": {},
   "outputs": [],
   "source": [
    "card_select = driver.find_element('css selector','span.prdname')"
   ]
  },
  {
   "cell_type": "code",
   "execution_count": 6,
   "id": "290b725f",
   "metadata": {},
   "outputs": [],
   "source": [
    "card_select.click()"
   ]
  },
  {
   "cell_type": "code",
   "execution_count": 7,
   "id": "4f5a4557",
   "metadata": {},
   "outputs": [
    {
     "name": "stdout",
     "output_type": "stream",
     "text": [
      "['GeForce RTX 4090']\n"
     ]
    }
   ],
   "source": [
    "names_elem = driver.find_elements('css selector','.cpuname')\n",
    "card_name = list()\n",
    "for names in names_elem:\n",
    "    card_name.append(names.text)\n",
    "print(card_name)"
   ]
  },
  {
   "cell_type": "code",
   "execution_count": 8,
   "id": "bd9e3686",
   "metadata": {},
   "outputs": [
    {
     "name": "stdout",
     "output_type": "stream",
     "text": [
      "['Bus Interface: PCIe 4.0 x16']\n"
     ]
    }
   ],
   "source": [
    "bus_interf = driver.find_elements('css selector','p.bg-table-row:nth-child(1)')\n",
    "businterf = list()\n",
    "for names in bus_interf:\n",
    "    businterf.append(names.text)\n",
    "print(businterf)"
   ]
  },
  {
   "cell_type": "code",
   "execution_count": 9,
   "id": "fba5f8f0",
   "metadata": {},
   "outputs": [
    {
     "name": "stdout",
     "output_type": "stream",
     "text": [
      "['Max Memory Size: 24576 MB']\n"
     ]
    }
   ],
   "source": [
    "memory = driver.find_elements('css selector','.left-desc-cpu > p:nth-child(2)')\n",
    "maxmem = list()\n",
    "for names in memory:\n",
    "    maxmem.append(names.text)\n",
    "print(maxmem)"
   ]
  },
  {
   "cell_type": "code",
   "execution_count": 10,
   "id": "e388be74",
   "metadata": {},
   "outputs": [
    {
     "name": "stdout",
     "output_type": "stream",
     "text": [
      "['Core Clock(s): 2230 MHz']\n"
     ]
    }
   ],
   "source": [
    "clock = driver.find_elements('css selector','p.bg-table-row:nth-child(3)')\n",
    "coreclock = list()\n",
    "for names in clock:\n",
    "    coreclock.append(names.text)\n",
    "print(coreclock)"
   ]
  },
  {
   "cell_type": "code",
   "execution_count": 11,
   "id": "1cedd38b",
   "metadata": {},
   "outputs": [
    {
     "name": "stdout",
     "output_type": "stream",
     "text": [
      "['Core Clock(s): 2230 MHz']\n"
     ]
    }
   ],
   "source": [
    "memorycl = driver.find_elements('css selector','')\n",
    "memclock = list()\n",
    "for names in memorycl:\n",
    "    memclock.append(names.text)\n",
    "print(memclock)"
   ]
  },
  {
   "cell_type": "code",
   "execution_count": null,
   "id": "376a2b32",
   "metadata": {},
   "outputs": [],
   "source": []
  }
 ],
 "metadata": {
  "kernelspec": {
   "display_name": "Python 3 (ipykernel)",
   "language": "python",
   "name": "python3"
  },
  "language_info": {
   "codemirror_mode": {
    "name": "ipython",
    "version": 3
   },
   "file_extension": ".py",
   "mimetype": "text/x-python",
   "name": "python",
   "nbconvert_exporter": "python",
   "pygments_lexer": "ipython3",
   "version": "3.9.12"
  }
 },
 "nbformat": 4,
 "nbformat_minor": 5
}
