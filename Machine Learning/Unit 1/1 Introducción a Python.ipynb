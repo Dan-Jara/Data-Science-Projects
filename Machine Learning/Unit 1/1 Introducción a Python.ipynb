{
 "cells": [
  {
   "cell_type": "markdown",
   "metadata": {},
   "source": [
    "# Enlaces utiles\n",
    "<br>https://www.python.org/\n",
    "<br>https://docs.python.org/3/tutorial/index.html\n",
    "<br>https://entrenamiento-python-basico.readthedocs.io/es/latest/index.html\n",
    "<br>https://www.learnpython.org/es/"
   ]
  },
  {
   "cell_type": "markdown",
   "metadata": {},
   "source": [
    "# Descripción de los tipos de variables"
   ]
  },
  {
   "cell_type": "markdown",
   "metadata": {},
   "source": [
    "<center><img src=\"img/Tipos_Datos.png\" width = \"80%\"></center>\n",
    "<br>\n",
    "Documentación: \n",
    "<br>https://entrenamiento-python-basico.readthedocs.io/es/latest/leccion3/tipos.html#clasificacion"
   ]
  },
  {
   "cell_type": "markdown",
   "metadata": {},
   "source": [
    "En la siguiente sección se probaran diferentes tipos de datos asignados en la misma variable para ver el comportamiento. La estructura de cada una de las celdas será la siguiente:\n",
    "- Asignación de valor.\n",
    "- Impresión del valor usando la instrucción print()\n",
    "- Impresión del tipo de valor usando en conjunto las instrucciones print() y type()"
   ]
  },
  {
   "cell_type": "code",
   "execution_count": 1,
   "metadata": {},
   "outputs": [
    {
     "name": "stdout",
     "output_type": "stream",
     "text": [
      "10\n",
      "<class 'int'>\n"
     ]
    }
   ],
   "source": [
    "x = 10\n",
    "print(x)\n",
    "print(type(x))"
   ]
  },
  {
   "cell_type": "code",
   "execution_count": 2,
   "metadata": {},
   "outputs": [
    {
     "name": "stdout",
     "output_type": "stream",
     "text": [
      "10.5\n",
      "<class 'float'>\n"
     ]
    }
   ],
   "source": [
    "x = 10.5\n",
    "print(x)\n",
    "print(type(x))"
   ]
  },
  {
   "cell_type": "code",
   "execution_count": 3,
   "metadata": {},
   "outputs": [
    {
     "name": "stdout",
     "output_type": "stream",
     "text": [
      "Diez\n",
      "<class 'str'>\n"
     ]
    }
   ],
   "source": [
    "x = \"Diez\"\n",
    "print(x)\n",
    "print(type(x))"
   ]
  },
  {
   "cell_type": "code",
   "execution_count": 4,
   "metadata": {},
   "outputs": [
    {
     "name": "stdout",
     "output_type": "stream",
     "text": [
      "(10+5j)\n",
      "<class 'complex'>\n"
     ]
    }
   ],
   "source": [
    "x = 10 + 5j\n",
    "print(x)\n",
    "print(type(x))"
   ]
  },
  {
   "cell_type": "code",
   "execution_count": 5,
   "metadata": {},
   "outputs": [
    {
     "name": "stdout",
     "output_type": "stream",
     "text": [
      "True\n",
      "<class 'bool'>\n"
     ]
    }
   ],
   "source": [
    "x = True\n",
    "print(x)\n",
    "print(type(x))"
   ]
  },
  {
   "cell_type": "markdown",
   "metadata": {},
   "source": [
    "# Cadenas de Texto"
   ]
  },
  {
   "cell_type": "markdown",
   "metadata": {},
   "source": [
    "<center><img src=\"img/Cadena_Texto.png\" width = \"100%\"></center>\n",
    "<br>\n",
    "Documentación:\n",
    "<br>https://entrenamiento-python-basico.readthedocs.io/es/latest/leccion3/tipo_cadenas.html#python-str"
   ]
  },
  {
   "cell_type": "code",
   "execution_count": 6,
   "metadata": {},
   "outputs": [
    {
     "name": "stdout",
     "output_type": "stream",
     "text": [
      "Hola compañeros\n",
      "<class 'str'>\n"
     ]
    }
   ],
   "source": [
    "mensaje = \"Hola compañeros\"\n",
    "print(mensaje)\n",
    "print(type(mensaje))"
   ]
  },
  {
   "cell_type": "code",
   "execution_count": 7,
   "metadata": {},
   "outputs": [
    {
     "name": "stdout",
     "output_type": "stream",
     "text": [
      "H\n",
      "c\n"
     ]
    }
   ],
   "source": [
    "print(mensaje[0])\n",
    "print(mensaje[5])"
   ]
  },
  {
   "cell_type": "code",
   "execution_count": 8,
   "metadata": {},
   "outputs": [
    {
     "name": "stdout",
     "output_type": "stream",
     "text": [
      "15\n"
     ]
    }
   ],
   "source": [
    "print(len(mensaje))"
   ]
  },
  {
   "cell_type": "code",
   "execution_count": 9,
   "metadata": {},
   "outputs": [
    {
     "ename": "IndexError",
     "evalue": "string index out of range",
     "output_type": "error",
     "traceback": [
      "\u001b[1;31m---------------------------------------------------------------------------\u001b[0m",
      "\u001b[1;31mIndexError\u001b[0m                                Traceback (most recent call last)",
      "\u001b[1;32m<ipython-input-9-a07e11fe6db1>\u001b[0m in \u001b[0;36m<module>\u001b[1;34m\u001b[0m\n\u001b[1;32m----> 1\u001b[1;33m \u001b[0mprint\u001b[0m\u001b[1;33m(\u001b[0m\u001b[0mmensaje\u001b[0m\u001b[1;33m[\u001b[0m\u001b[1;36m15\u001b[0m\u001b[1;33m]\u001b[0m\u001b[1;33m)\u001b[0m\u001b[1;33m\u001b[0m\u001b[1;33m\u001b[0m\u001b[0m\n\u001b[0m",
      "\u001b[1;31mIndexError\u001b[0m: string index out of range"
     ]
    }
   ],
   "source": [
    "print(mensaje[15])"
   ]
  },
  {
   "cell_type": "markdown",
   "metadata": {},
   "source": [
    "<b>La celda anterior tiene un error debido a que no existe un elemento en la posición 15, continua reproduciendo la libreta.<b>"
   ]
  },
  {
   "cell_type": "code",
   "execution_count": 10,
   "metadata": {},
   "outputs": [
    {
     "name": "stdout",
     "output_type": "stream",
     "text": [
      "s\n",
      "o\n"
     ]
    }
   ],
   "source": [
    "print(mensaje[-1])\n",
    "print(mensaje[-2])"
   ]
  },
  {
   "cell_type": "markdown",
   "metadata": {},
   "source": [
    "### Imprimamos una sección simple del mensaje\n",
    "Sintaxis --> print(msj [<b>inicio</b> : <b>fin</b>] ) "
   ]
  },
  {
   "cell_type": "code",
   "execution_count": 11,
   "metadata": {},
   "outputs": [
    {
     "name": "stdout",
     "output_type": "stream",
     "text": [
      "a compa\n",
      "ñero\n"
     ]
    }
   ],
   "source": [
    "print(mensaje[3:10])\n",
    "print(mensaje[10:14])"
   ]
  },
  {
   "cell_type": "markdown",
   "metadata": {},
   "source": [
    "<b>Nota</b>: el mensaje impreso no incluirá el caracter final."
   ]
  },
  {
   "cell_type": "markdown",
   "metadata": {},
   "source": [
    "# Listas de elementos"
   ]
  },
  {
   "cell_type": "markdown",
   "metadata": {},
   "source": [
    "<center><img src=\"img/Ejemplo_Lista.png\" width = \"60%\"></center>\n",
    "<br>\n",
    "Documentación:\n",
    "<br> https://entrenamiento-python-basico.readthedocs.io/es/latest/leccion3/tipo_listas.html#python-list\n",
    "<br>\n",
    "<br> Algunas instrucciones importantes\n",
    "<br>Append: https://www.programiz.com/python-programming/methods/list/append\n",
    "<br>Inster: https://www.programiz.com/python-programming/methods/list/insert\n",
    "<br>Remove: https://www.programiz.com/python-programming/methods/list/remove\n",
    "<br>Pop: https://www.programiz.com/python-programming/methods/list/pop"
   ]
  },
  {
   "cell_type": "code",
   "execution_count": 12,
   "metadata": {},
   "outputs": [],
   "source": [
    "alumno = [\"Jose\", 22, 1.70, \"Soltero\", \"Mexicano\", True]"
   ]
  },
  {
   "cell_type": "code",
   "execution_count": 13,
   "metadata": {},
   "outputs": [
    {
     "name": "stdout",
     "output_type": "stream",
     "text": [
      "Soltero\n",
      "Mexicano\n"
     ]
    }
   ],
   "source": [
    "estado_civil = alumno[3]\n",
    "print(estado_civil)\n",
    "\n",
    "nacionalidad = alumno[4]\n",
    "print(nacionalidad)"
   ]
  },
  {
   "cell_type": "code",
   "execution_count": 14,
   "metadata": {},
   "outputs": [
    {
     "name": "stdout",
     "output_type": "stream",
     "text": [
      "6\n"
     ]
    }
   ],
   "source": [
    "print(len(alumno))"
   ]
  },
  {
   "cell_type": "code",
   "execution_count": 15,
   "metadata": {},
   "outputs": [
    {
     "name": "stdout",
     "output_type": "stream",
     "text": [
      "['Jose', 22, 1.7, 'Soltero', 'Mexicano', True, 9.5]\n",
      "7\n",
      "['Jose', 22, 1.7, 'Soltero', 'Mexicano', True, 9.5, 'Maestria']\n",
      "8\n",
      "['Jose', 22, 1.7, 85.5, 'Soltero', 'Mexicano', True, 9.5, 'Maestria']\n",
      "9\n"
     ]
    }
   ],
   "source": [
    "promedio = 9.5\n",
    "alumno.append(promedio)\n",
    "print(alumno)\n",
    "print(len(alumno))\n",
    "\n",
    "escolaridad = \"Maestria\"\n",
    "alumno. append(escolaridad)\n",
    "print(alumno)\n",
    "print(len(alumno))\n",
    "\n",
    "peso = 85.5\n",
    "alumno.insert(3, peso)\n",
    "print(alumno)\n",
    "print(len(alumno))"
   ]
  },
  {
   "cell_type": "code",
   "execution_count": 16,
   "metadata": {},
   "outputs": [
    {
     "name": "stdout",
     "output_type": "stream",
     "text": [
      "['Jose', 22, 1.7, 85.5, 'Soltero', True, 9.5, 'Maestria']\n"
     ]
    }
   ],
   "source": [
    "alumno.remove(\"Mexicano\")\n",
    "print(alumno)"
   ]
  },
  {
   "cell_type": "code",
   "execution_count": 17,
   "metadata": {},
   "outputs": [
    {
     "ename": "ValueError",
     "evalue": "list.remove(x): x not in list",
     "output_type": "error",
     "traceback": [
      "\u001b[1;31m---------------------------------------------------------------------------\u001b[0m",
      "\u001b[1;31mValueError\u001b[0m                                Traceback (most recent call last)",
      "\u001b[1;32m<ipython-input-17-707f2a8c838b>\u001b[0m in \u001b[0;36m<module>\u001b[1;34m\u001b[0m\n\u001b[1;32m----> 1\u001b[1;33m \u001b[0malumno\u001b[0m\u001b[1;33m.\u001b[0m\u001b[0mremove\u001b[0m\u001b[1;33m(\u001b[0m\u001b[1;34m\"Europeo\"\u001b[0m\u001b[1;33m)\u001b[0m\u001b[1;33m\u001b[0m\u001b[1;33m\u001b[0m\u001b[0m\n\u001b[0m",
      "\u001b[1;31mValueError\u001b[0m: list.remove(x): x not in list"
     ]
    }
   ],
   "source": [
    "alumno.remove(\"Europeo\")"
   ]
  },
  {
   "cell_type": "markdown",
   "metadata": {},
   "source": [
    "<b>La celda anterior tiene un error debido a que no existe el elemento \"Europeo\" en la lista, continua reproduciendo la libreta.<b>"
   ]
  },
  {
   "cell_type": "code",
   "execution_count": 18,
   "metadata": {},
   "outputs": [
    {
     "data": {
      "text/plain": [
       "True"
      ]
     },
     "execution_count": 18,
     "metadata": {},
     "output_type": "execute_result"
    }
   ],
   "source": [
    "alumno.pop(5)"
   ]
  },
  {
   "cell_type": "code",
   "execution_count": 19,
   "metadata": {},
   "outputs": [
    {
     "name": "stdout",
     "output_type": "stream",
     "text": [
      "['Jose', 22, 1.7, 85.5, 'Soltero', 9.5, 'Maestria']\n"
     ]
    }
   ],
   "source": [
    "print(alumno)"
   ]
  },
  {
   "cell_type": "code",
   "execution_count": 20,
   "metadata": {},
   "outputs": [
    {
     "data": {
      "text/plain": [
       "9.5"
      ]
     },
     "execution_count": 20,
     "metadata": {},
     "output_type": "execute_result"
    }
   ],
   "source": [
    "alumno.pop(5)"
   ]
  },
  {
   "cell_type": "code",
   "execution_count": 21,
   "metadata": {},
   "outputs": [
    {
     "name": "stdout",
     "output_type": "stream",
     "text": [
      "['Jose', 22, 1.7, 85.5, 'Soltero', 'Maestria']\n"
     ]
    }
   ],
   "source": [
    "print(alumno)"
   ]
  },
  {
   "cell_type": "code",
   "execution_count": 22,
   "metadata": {},
   "outputs": [
    {
     "data": {
      "text/plain": [
       "'Maestria'"
      ]
     },
     "execution_count": 22,
     "metadata": {},
     "output_type": "execute_result"
    }
   ],
   "source": [
    "alumno.pop(5)"
   ]
  },
  {
   "cell_type": "code",
   "execution_count": 23,
   "metadata": {},
   "outputs": [
    {
     "name": "stdout",
     "output_type": "stream",
     "text": [
      "['Jose', 22, 1.7, 85.5, 'Soltero']\n"
     ]
    }
   ],
   "source": [
    "print(alumno)"
   ]
  },
  {
   "cell_type": "code",
   "execution_count": 24,
   "metadata": {},
   "outputs": [
    {
     "ename": "IndexError",
     "evalue": "pop index out of range",
     "output_type": "error",
     "traceback": [
      "\u001b[1;31m---------------------------------------------------------------------------\u001b[0m",
      "\u001b[1;31mIndexError\u001b[0m                                Traceback (most recent call last)",
      "\u001b[1;32m<ipython-input-24-d01fedaca8c8>\u001b[0m in \u001b[0;36m<module>\u001b[1;34m\u001b[0m\n\u001b[1;32m----> 1\u001b[1;33m \u001b[0malumno\u001b[0m\u001b[1;33m.\u001b[0m\u001b[0mpop\u001b[0m\u001b[1;33m(\u001b[0m\u001b[1;36m5\u001b[0m\u001b[1;33m)\u001b[0m\u001b[1;33m\u001b[0m\u001b[1;33m\u001b[0m\u001b[0m\n\u001b[0m",
      "\u001b[1;31mIndexError\u001b[0m: pop index out of range"
     ]
    }
   ],
   "source": [
    "alumno.pop(5)"
   ]
  },
  {
   "cell_type": "markdown",
   "metadata": {},
   "source": [
    "<b>La celda anterior tiene un error debido a que no existe un quinto elemento en la lista, continua reproduciendo la libreta.<b>"
   ]
  },
  {
   "cell_type": "markdown",
   "metadata": {},
   "source": [
    "# Estructuras de control"
   ]
  },
  {
   "cell_type": "markdown",
   "metadata": {},
   "source": [
    "## If\n"
   ]
  },
  {
   "cell_type": "code",
   "execution_count": 25,
   "metadata": {},
   "outputs": [
    {
     "name": "stdout",
     "output_type": "stream",
     "text": [
      "Obligamos al if a entrar\n"
     ]
    }
   ],
   "source": [
    "if True:\n",
    "    print(\"Obligamos al if a entrar\")"
   ]
  },
  {
   "cell_type": "code",
   "execution_count": 26,
   "metadata": {},
   "outputs": [],
   "source": [
    "if False:\n",
    "    print(\"Nunca me imprimire\")"
   ]
  },
  {
   "cell_type": "code",
   "execution_count": 27,
   "metadata": {},
   "outputs": [
    {
     "name": "stdout",
     "output_type": "stream",
     "text": [
      "8.0\n",
      "Alumno aprobado\n",
      "8\n",
      "Alumno aprobado\n"
     ]
    }
   ],
   "source": [
    "promedio = 8.0\n",
    "print(promedio)\n",
    "if promedio >= 8.0:\n",
    "    print(\"Alumno aprobado\")\n",
    "\n",
    "promedio = 7.5\n",
    "promedio = round(promedio)\n",
    "print(promedio)\n",
    "if promedio >= 8.0:\n",
    "    print(\"Alumno aprobado\")"
   ]
  },
  {
   "cell_type": "code",
   "execution_count": 28,
   "metadata": {},
   "outputs": [
    {
     "name": "stdout",
     "output_type": "stream",
     "text": [
      "A es mayor que B\n"
     ]
    }
   ],
   "source": [
    "a = 5\n",
    "b = 3\n",
    "\n",
    "if a > b:\n",
    "    print(\"A es mayor que B\")\n",
    "\n",
    "if a < b:\n",
    "    print(\"B es mayor que A\")"
   ]
  },
  {
   "cell_type": "code",
   "execution_count": 29,
   "metadata": {},
   "outputs": [
    {
     "name": "stdout",
     "output_type": "stream",
     "text": [
      "A es mayor que B\n"
     ]
    }
   ],
   "source": [
    "if a > b:\n",
    "    print(\"A es mayor que B\")\n",
    "else:\n",
    "    print(\"B es mayor que A\")"
   ]
  },
  {
   "cell_type": "code",
   "execution_count": 31,
   "metadata": {},
   "outputs": [
    {
     "name": "stdout",
     "output_type": "stream",
     "text": [
      "A es demasiado grande para entrar al if\n"
     ]
    }
   ],
   "source": [
    "if a < 10:\n",
    "    a = a + 5\n",
    "    print(a)\n",
    "else:\n",
    "    print(\"A es demasiado grande para entrar al if\")\n"
   ]
  },
  {
   "cell_type": "markdown",
   "metadata": {},
   "source": [
    "Regresa a la celda anterior y vuelve a ejecutarla! "
   ]
  },
  {
   "cell_type": "code",
   "execution_count": 32,
   "metadata": {},
   "outputs": [
    {
     "name": "stdout",
     "output_type": "stream",
     "text": [
      "7.1\n",
      "Alumno con promedio aprobatorio pero necesita mejorar\n"
     ]
    }
   ],
   "source": [
    "promedio = 7.1\n",
    "print(promedio)\n",
    "\n",
    "if promedio > 9.5:\n",
    "    print(\"Alumno sobresaliente\")\n",
    "elif promedio > 8.0 and promedio <= 9.5:\n",
    "    print(\"Alumno regular\")\n",
    "elif promedio >=7.0 and promedio <= 8.0:\n",
    "    print(\"Alumno con promedio aprobatorio pero necesita mejorar\")\n",
    "else:\n",
    "    print(\"Alumno reprobado\")"
   ]
  },
  {
   "cell_type": "markdown",
   "metadata": {},
   "source": [
    "## For\n"
   ]
  },
  {
   "cell_type": "code",
   "execution_count": 33,
   "metadata": {},
   "outputs": [
    {
     "name": "stdout",
     "output_type": "stream",
     "text": [
      "0\n",
      "1\n",
      "2\n",
      "3\n",
      "4\n",
      "5\n",
      "6\n",
      "7\n",
      "8\n",
      "9\n"
     ]
    }
   ],
   "source": [
    "for enteros in range(10):\n",
    "    print(enteros)"
   ]
  },
  {
   "cell_type": "code",
   "execution_count": 34,
   "metadata": {},
   "outputs": [
    {
     "name": "stdout",
     "output_type": "stream",
     "text": [
      "0\n",
      "5\n",
      "10\n",
      "15\n",
      "20\n",
      "25\n",
      "30\n",
      "35\n",
      "40\n",
      "45\n"
     ]
    }
   ],
   "source": [
    "for enteros in range(10):\n",
    "    print(5*enteros)"
   ]
  },
  {
   "cell_type": "code",
   "execution_count": 35,
   "metadata": {},
   "outputs": [
    {
     "name": "stdout",
     "output_type": "stream",
     "text": [
      "Hola Diego\n",
      "Hola Arturo\n",
      "Hola Andres\n",
      "Hola Javier\n",
      "Hola Carmen\n"
     ]
    }
   ],
   "source": [
    "alumnos = [\"Diego\", \"Arturo\", \"Andres\", \"Javier\", \"Carmen\"]\n",
    "for alumno in alumnos:\n",
    "    print(\"Hola \" + alumno)"
   ]
  },
  {
   "cell_type": "code",
   "execution_count": 36,
   "metadata": {},
   "outputs": [
    {
     "name": "stdout",
     "output_type": "stream",
     "text": [
      "El alumno tiene un promedio de:  9.6\n",
      "Alumno sobresaliente\n",
      "\n",
      "El alumno tiene un promedio de:  5\n",
      "Alumno reprobado\n",
      "\n",
      "El alumno tiene un promedio de:  7.0\n",
      "Alumno con promedio aprobatorio pero necesita mejorar\n",
      "\n",
      "El alumno tiene un promedio de:  8.2\n",
      "Alumno regular\n",
      "\n",
      "El alumno tiene un promedio de:  10.0\n",
      "Alumno sobresaliente\n",
      "\n",
      "El alumno tiene un promedio de:  6.5\n",
      "Alumno reprobado\n",
      "\n",
      "El alumno tiene un promedio de:  8.7\n",
      "Alumno regular\n",
      "\n",
      "El total de alumnos evaluados fue:  7\n"
     ]
    }
   ],
   "source": [
    "promedios = [9.6, 5, 7.0, 8.2, 10.0, 6.5, 8.7]\n",
    "\n",
    "for promedio in promedios:\n",
    "    print(\"El alumno tiene un promedio de: \", str(promedio))\n",
    "    if promedio > 9.5:\n",
    "        print(\"Alumno sobresaliente\")\n",
    "    elif promedio > 8.0 and promedio <= 9.5:\n",
    "        print(\"Alumno regular\")\n",
    "    elif promedio >=7.0 and promedio <= 8.0:\n",
    "        print(\"Alumno con promedio aprobatorio pero necesita mejorar\")\n",
    "    else:\n",
    "        print(\"Alumno reprobado\")\n",
    "    print()\n",
    "\n",
    "total = len(promedios)    \n",
    "print(\"El total de alumnos evaluados fue: \", str(total))"
   ]
  },
  {
   "cell_type": "markdown",
   "metadata": {},
   "source": [
    "## While"
   ]
  },
  {
   "cell_type": "code",
   "execution_count": 37,
   "metadata": {},
   "outputs": [
    {
     "name": "stdout",
     "output_type": "stream",
     "text": [
      "Actualmente tenemos los siguientes invitados:  0\n",
      "Es necesario invitar mas personas\n",
      "Actualmente tenemos los siguientes invitados:  1\n",
      "Es necesario invitar mas personas\n",
      "Actualmente tenemos los siguientes invitados:  2\n",
      "Es necesario invitar mas personas\n",
      "Actualmente tenemos los siguientes invitados:  3\n",
      "Es necesario invitar mas personas\n",
      "Actualmente tenemos los siguientes invitados:  4\n",
      "Es necesario invitar mas personas\n",
      "Actualmente tenemos los siguientes invitados:  5\n",
      "Es necesario invitar mas personas\n",
      "Actualmente tenemos los siguientes invitados:  6\n",
      "Es necesario invitar mas personas\n",
      "Actualmente tenemos los siguientes invitados:  7\n",
      "Es necesario invitar mas personas\n",
      "Actualmente tenemos los siguientes invitados:  8\n",
      "Es necesario invitar mas personas\n",
      "Actualmente tenemos los siguientes invitados:  9\n",
      "Es necesario invitar mas personas\n",
      "Actualmente tenemos los siguientes invitados:  10\n",
      "Es necesario invitar mas personas\n",
      "Casa llena\n"
     ]
    }
   ],
   "source": [
    "invitados = 0\n",
    "capacidad_maxima = 10\n",
    "\n",
    "while invitados <= capacidad_maxima:\n",
    "    print(\"Actualmente tenemos los siguientes invitados: \", str(invitados))\n",
    "    print(\"Es necesario invitar mas personas\")\n",
    "    invitados = invitados + 1\n",
    "\n",
    "print(\"Casa llena\")"
   ]
  },
  {
   "cell_type": "markdown",
   "metadata": {},
   "source": [
    "# Funciones"
   ]
  },
  {
   "cell_type": "markdown",
   "metadata": {},
   "source": [
    "Documentación:\n",
    "<br>https://entrenamiento-python-basico.readthedocs.io/es/latest/leccion5/funciones.html"
   ]
  },
  {
   "cell_type": "code",
   "execution_count": 38,
   "metadata": {},
   "outputs": [],
   "source": [
    "def suma(a, b):\n",
    "    return a + b"
   ]
  },
  {
   "cell_type": "code",
   "execution_count": 39,
   "metadata": {},
   "outputs": [],
   "source": [
    "def resta(a, b):\n",
    "    return a - b"
   ]
  },
  {
   "cell_type": "code",
   "execution_count": 40,
   "metadata": {},
   "outputs": [],
   "source": [
    "def descuento(subtotal, porcentaje):\n",
    "    total = subtotal - subtotal * porcentaje\n",
    "    return total"
   ]
  },
  {
   "cell_type": "code",
   "execution_count": 41,
   "metadata": {},
   "outputs": [
    {
     "name": "stdout",
     "output_type": "stream",
     "text": [
      "16\n"
     ]
    }
   ],
   "source": [
    "numero1 = 10\n",
    "numero2 = 6\n",
    "print(suma(numero1, numero2))"
   ]
  },
  {
   "cell_type": "code",
   "execution_count": 42,
   "metadata": {},
   "outputs": [
    {
     "name": "stdout",
     "output_type": "stream",
     "text": [
      "4\n"
     ]
    }
   ],
   "source": [
    "numero1 = 10\n",
    "numero2 = 6\n",
    "print(resta(numero1, numero2))"
   ]
  },
  {
   "cell_type": "code",
   "execution_count": 43,
   "metadata": {},
   "outputs": [
    {
     "name": "stdout",
     "output_type": "stream",
     "text": [
      "El costo original es:  200.0\n",
      "El costo con descuento es: 160.0\n"
     ]
    }
   ],
   "source": [
    "costo = 200.0\n",
    "porcentaje = 0.20\n",
    "print(\"El costo original es: \", str(costo))\n",
    "print(\"El costo con descuento es:\", str(descuento(costo, porcentaje)))"
   ]
  },
  {
   "cell_type": "code",
   "execution_count": 44,
   "metadata": {},
   "outputs": [],
   "source": [
    "def multiplicacion(a,b):\n",
    "    return a * b\n",
    "\n",
    "def division(a,b):\n",
    "    return a/b\n",
    "\n",
    "def calculadora(a,b):\n",
    "    print(\"La suma de los numeros es: \", str(suma(a,b)))\n",
    "    print(\"La resta de los numeros es: \", str(resta(a,b)))\n",
    "    print(\"La multiplicacion de los numeros es: \", str(multiplicacion(a,b)))\n",
    "    print(\"La division de los numeros es: \", str(division(a,b)))"
   ]
  },
  {
   "cell_type": "code",
   "execution_count": 45,
   "metadata": {},
   "outputs": [
    {
     "name": "stdout",
     "output_type": "stream",
     "text": [
      "La suma de los numeros es:  8\n",
      "La resta de los numeros es:  2\n",
      "La multiplicacion de los numeros es:  15\n",
      "La division de los numeros es:  1.6666666666666667\n"
     ]
    }
   ],
   "source": [
    "calculadora(5,3)"
   ]
  },
  {
   "cell_type": "code",
   "execution_count": 46,
   "metadata": {},
   "outputs": [
    {
     "name": "stdout",
     "output_type": "stream",
     "text": [
      "La suma de los numeros es:  13.4\n",
      "La resta de los numeros es:  7.4\n",
      "La multiplicacion de los numeros es:  31.200000000000003\n",
      "La division de los numeros es:  3.466666666666667\n"
     ]
    }
   ],
   "source": [
    "calculadora(10.4, 3)"
   ]
  },
  {
   "cell_type": "code",
   "execution_count": 47,
   "metadata": {},
   "outputs": [
    {
     "name": "stdout",
     "output_type": "stream",
     "text": [
      "La suma de los numeros es:  -1.4\n",
      "La resta de los numeros es:  -4.6\n",
      "La multiplicacion de los numeros es:  -4.800000000000001\n",
      "La division de los numeros es:  -1.875\n"
     ]
    }
   ],
   "source": [
    "calculadora(-3,1.6)"
   ]
  },
  {
   "cell_type": "code",
   "execution_count": 48,
   "metadata": {},
   "outputs": [
    {
     "name": "stdout",
     "output_type": "stream",
     "text": [
      "La suma de los numeros es:  (15-1j)\n",
      "La resta de los numeros es:  (5+5j)\n",
      "La multiplicacion de los numeros es:  (56-20j)\n",
      "La division de los numeros es:  (1.2941176470588236+1.1764705882352942j)\n"
     ]
    }
   ],
   "source": [
    "calculadora(10+2j, 5-3j)"
   ]
  },
  {
   "cell_type": "markdown",
   "metadata": {},
   "source": [
    "# Librerías"
   ]
  },
  {
   "cell_type": "markdown",
   "metadata": {},
   "source": [
    "Documentación:\n",
    "<br>https://numpy.org/\n",
    "<br>https://matplotlib.org/\n",
    "<br>https://seaborn.pydata.org/"
   ]
  },
  {
   "cell_type": "code",
   "execution_count": 49,
   "metadata": {},
   "outputs": [
    {
     "data": {
      "image/png": "[encoded data removed]",
      "text/plain": [
       "<Figure size 432x288 with 1 Axes>"
      ]
     },
     "metadata": {
      "needs_background": "light"
     },
     "output_type": "display_data"
    }
   ],
   "source": [
    "import numpy as np\n",
    "import matplotlib.pyplot as plt\n",
    "%matplotlib inline\n",
    "\n",
    "dataX = np.random.normal(0.0, 0.2, 1000)\n",
    "plt.hist(dataX, bins=10)\n",
    "plt.show()"
   ]
  },
  {
   "cell_type": "code",
   "execution_count": 50,
   "metadata": {},
   "outputs": [
    {
     "name": "stderr",
     "output_type": "stream",
     "text": [
      "C:\\Users\\Usuario\\anaconda3\\lib\\site-packages\\seaborn\\distributions.py:2557: FutureWarning: `distplot` is a deprecated function and will be removed in a future version. Please adapt your code to use either `displot` (a figure-level function with similar flexibility) or `histplot` (an axes-level function for histograms).\n",
      "  warnings.warn(msg, FutureWarning)\n"
     ]
    },
    {
     "data": {
      "image/png": "[encoded data removed]",
      "text/plain": [
       "<Figure size 432x288 with 1 Axes>"
      ]
     },
     "metadata": {
      "needs_background": "light"
     },
     "output_type": "display_data"
    }
   ],
   "source": [
    "import seaborn as sns\n",
    "sns.distplot(dataX,kde=False)\n",
    "plt.show()"
   ]
  },
  {
   "cell_type": "code",
   "execution_count": 51,
   "metadata": {},
   "outputs": [
    {
     "name": "stderr",
     "output_type": "stream",
     "text": [
      "C:\\Users\\Usuario\\anaconda3\\lib\\site-packages\\seaborn\\distributions.py:2056: FutureWarning: The `axis` variable is no longer used and will be removed. Instead, assign variables directly to `x` or `y`.\n",
      "  warnings.warn(msg, FutureWarning)\n"
     ]
    },
    {
     "data": {
      "image/png": "[encoded data removed]",
      "text/plain": [
       "<Figure size 432x288 with 1 Axes>"
      ]
     },
     "metadata": {
      "needs_background": "light"
     },
     "output_type": "display_data"
    }
   ],
   "source": [
    "sns.distplot(dataX,rug=True)\n",
    "plt.show()"
   ]
  },
  {
   "cell_type": "code",
   "execution_count": 52,
   "metadata": {},
   "outputs": [
    {
     "data": {
      "text/plain": [
       "array([  0,   1,   2,   3,   4,   5,   6,   7,   8,   9,  10,  11,  12,\n",
       "        13,  14,  15,  16,  17,  18,  19,  20,  21,  22,  23,  24,  25,\n",
       "        26,  27,  28,  29,  30,  31,  32,  33,  34,  35,  36,  37,  38,\n",
       "        39,  40,  41,  42,  43,  44,  45,  46,  47,  48,  49,  50,  51,\n",
       "        52,  53,  54,  55,  56,  57,  58,  59,  60,  61,  62,  63,  64,\n",
       "        65,  66,  67,  68,  69,  70,  71,  72,  73,  74,  75,  76,  77,\n",
       "        78,  79,  80,  81,  82,  83,  84,  85,  86,  87,  88,  89,  90,\n",
       "        91,  92,  93,  94,  95,  96,  97,  98,  99, 100, 101, 102, 103,\n",
       "       104, 105, 106, 107, 108, 109, 110, 111, 112, 113, 114, 115, 116,\n",
       "       117, 118, 119, 120, 121, 122, 123, 124, 125, 126, 127, 128, 129,\n",
       "       130, 131, 132, 133, 134, 135, 136, 137, 138, 139, 140, 141, 142,\n",
       "       143, 144, 145, 146, 147, 148, 149, 150, 151, 152, 153, 154, 155,\n",
       "       156, 157, 158, 159, 160, 161, 162, 163, 164, 165, 166, 167, 168,\n",
       "       169, 170, 171, 172, 173, 174, 175, 176, 177, 178, 179, 180, 181,\n",
       "       182, 183, 184, 185, 186, 187, 188, 189, 190, 191, 192, 193, 194,\n",
       "       195, 196, 197, 198, 199, 200, 201, 202, 203, 204, 205, 206, 207,\n",
       "       208, 209, 210, 211, 212, 213, 214, 215, 216, 217, 218, 219, 220,\n",
       "       221, 222, 223, 224, 225, 226, 227, 228, 229, 230, 231, 232, 233,\n",
       "       234, 235, 236, 237, 238, 239, 240, 241, 242, 243, 244, 245, 246,\n",
       "       247, 248, 249, 250, 251, 252, 253, 254, 255, 256, 257, 258, 259,\n",
       "       260, 261, 262, 263, 264, 265, 266, 267, 268, 269, 270, 271, 272,\n",
       "       273, 274, 275, 276, 277, 278, 279, 280, 281, 282, 283, 284, 285,\n",
       "       286, 287, 288, 289, 290, 291, 292, 293, 294, 295, 296, 297, 298,\n",
       "       299, 300, 301, 302, 303, 304, 305, 306, 307, 308, 309, 310, 311,\n",
       "       312, 313, 314, 315, 316, 317, 318, 319, 320, 321, 322, 323, 324,\n",
       "       325, 326, 327, 328, 329, 330, 331, 332, 333, 334, 335, 336, 337,\n",
       "       338, 339, 340, 341, 342, 343, 344, 345, 346, 347, 348, 349, 350,\n",
       "       351, 352, 353, 354, 355, 356, 357, 358, 359, 360, 361, 362, 363,\n",
       "       364, 365, 366, 367, 368, 369, 370, 371, 372, 373, 374, 375, 376,\n",
       "       377, 378, 379, 380, 381, 382, 383, 384, 385, 386, 387, 388, 389,\n",
       "       390, 391, 392, 393, 394, 395, 396, 397, 398, 399, 400, 401, 402,\n",
       "       403, 404, 405, 406, 407, 408, 409, 410, 411, 412, 413, 414, 415,\n",
       "       416, 417, 418, 419, 420, 421, 422, 423, 424, 425, 426, 427, 428,\n",
       "       429, 430, 431, 432, 433, 434, 435, 436, 437, 438, 439, 440, 441,\n",
       "       442, 443, 444, 445, 446, 447, 448, 449, 450, 451, 452, 453, 454,\n",
       "       455, 456, 457, 458, 459, 460, 461, 462, 463, 464, 465, 466, 467,\n",
       "       468, 469, 470, 471, 472, 473, 474, 475, 476, 477, 478, 479, 480,\n",
       "       481, 482, 483, 484, 485, 486, 487, 488, 489, 490, 491, 492, 493,\n",
       "       494, 495, 496, 497, 498, 499, 500, 501, 502, 503, 504, 505, 506,\n",
       "       507, 508, 509, 510, 511, 512, 513, 514, 515, 516, 517, 518, 519,\n",
       "       520, 521, 522, 523, 524, 525, 526, 527, 528, 529, 530, 531, 532,\n",
       "       533, 534, 535, 536, 537, 538, 539, 540, 541, 542, 543, 544, 545,\n",
       "       546, 547, 548, 549, 550, 551, 552, 553, 554, 555, 556, 557, 558,\n",
       "       559, 560, 561, 562, 563, 564, 565, 566, 567, 568, 569, 570, 571,\n",
       "       572, 573, 574, 575, 576, 577, 578, 579, 580, 581, 582, 583, 584,\n",
       "       585, 586, 587, 588, 589, 590, 591, 592, 593, 594, 595, 596, 597,\n",
       "       598, 599, 600, 601, 602, 603, 604, 605, 606, 607, 608, 609, 610,\n",
       "       611, 612, 613, 614, 615, 616, 617, 618, 619, 620, 621, 622, 623,\n",
       "       624, 625, 626, 627, 628, 629, 630, 631, 632, 633, 634, 635, 636,\n",
       "       637, 638, 639, 640, 641, 642, 643, 644, 645, 646, 647, 648, 649,\n",
       "       650, 651, 652, 653, 654, 655, 656, 657, 658, 659, 660, 661, 662,\n",
       "       663, 664, 665, 666, 667, 668, 669, 670, 671, 672, 673, 674, 675,\n",
       "       676, 677, 678, 679, 680, 681, 682, 683, 684, 685, 686, 687, 688,\n",
       "       689, 690, 691, 692, 693, 694, 695, 696, 697, 698, 699, 700, 701,\n",
       "       702, 703, 704, 705, 706, 707, 708, 709, 710, 711, 712, 713, 714,\n",
       "       715, 716, 717, 718, 719, 720, 721, 722, 723, 724, 725, 726, 727,\n",
       "       728, 729, 730, 731, 732, 733, 734, 735, 736, 737, 738, 739, 740,\n",
       "       741, 742, 743, 744, 745, 746, 747, 748, 749, 750, 751, 752, 753,\n",
       "       754, 755, 756, 757, 758, 759, 760, 761, 762, 763, 764, 765, 766,\n",
       "       767, 768, 769, 770, 771, 772, 773, 774, 775, 776, 777, 778, 779,\n",
       "       780, 781, 782, 783, 784, 785, 786, 787, 788, 789, 790, 791, 792,\n",
       "       793, 794, 795, 796, 797, 798, 799, 800, 801, 802, 803, 804, 805,\n",
       "       806, 807, 808, 809, 810, 811, 812, 813, 814, 815, 816, 817, 818,\n",
       "       819, 820, 821, 822, 823, 824, 825, 826, 827, 828, 829, 830, 831,\n",
       "       832, 833, 834, 835, 836, 837, 838, 839, 840, 841, 842, 843, 844,\n",
       "       845, 846, 847, 848, 849, 850, 851, 852, 853, 854, 855, 856, 857,\n",
       "       858, 859, 860, 861, 862, 863, 864, 865, 866, 867, 868, 869, 870,\n",
       "       871, 872, 873, 874, 875, 876, 877, 878, 879, 880, 881, 882, 883,\n",
       "       884, 885, 886, 887, 888, 889, 890, 891, 892, 893, 894, 895, 896,\n",
       "       897, 898, 899, 900, 901, 902, 903, 904, 905, 906, 907, 908, 909,\n",
       "       910, 911, 912, 913, 914, 915, 916, 917, 918, 919, 920, 921, 922,\n",
       "       923, 924, 925, 926, 927, 928, 929, 930, 931, 932, 933, 934, 935,\n",
       "       936, 937, 938, 939, 940, 941, 942, 943, 944, 945, 946, 947, 948,\n",
       "       949, 950, 951, 952, 953, 954, 955, 956, 957, 958, 959, 960, 961,\n",
       "       962, 963, 964, 965, 966, 967, 968, 969, 970, 971, 972, 973, 974,\n",
       "       975, 976, 977, 978, 979, 980, 981, 982, 983, 984, 985, 986, 987,\n",
       "       988, 989, 990, 991, 992, 993, 994, 995, 996, 997, 998, 999])"
      ]
     },
     "execution_count": 52,
     "metadata": {},
     "output_type": "execute_result"
    }
   ],
   "source": [
    "dataY = np.arange(1000)\n",
    "dataY"
   ]
  },
  {
   "cell_type": "code",
   "execution_count": 53,
   "metadata": {},
   "outputs": [
    {
     "data": {
      "image/png": "[encoded data removed]",
      "text/plain": [
       "<Figure size 432x288 with 1 Axes>"
      ]
     },
     "metadata": {
      "needs_background": "light"
     },
     "output_type": "display_data"
    }
   ],
   "source": [
    "plt.scatter(dataX, dataY)\n",
    "plt.show()"
   ]
  },
  {
   "cell_type": "code",
   "execution_count": null,
   "metadata": {},
   "outputs": [],
   "source": []
  }
 ],
 "metadata": {
  "kernelspec": {
   "display_name": "Python 3",
   "language": "python",
   "name": "python3"
  },
  "language_info": {
   "codemirror_mode": {
    "name": "ipython",
    "version": 3
   },
   "file_extension": ".py",
   "mimetype": "text/x-python",
   "name": "python",
   "nbconvert_exporter": "python",
   "pygments_lexer": "ipython3",
   "version": "3.8.8"
  }
 },
 "nbformat": 4,
 "nbformat_minor": 2
}
