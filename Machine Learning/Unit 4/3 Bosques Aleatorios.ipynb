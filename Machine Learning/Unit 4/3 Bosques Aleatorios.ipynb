{
 "cells": [
  {
   "cell_type": "markdown",
   "metadata": {},
   "source": [
    "# Obtención de datos"
   ]
  },
  {
   "cell_type": "code",
   "execution_count": 1,
   "metadata": {},
   "outputs": [],
   "source": [
    "import pandas as pd\n",
    "import numpy as np\n",
    "\n",
    "import matplotlib.pyplot as plt\n",
    "%matplotlib inline\n",
    "import seaborn as sns"
   ]
  },
  {
   "cell_type": "code",
   "execution_count": 2,
   "metadata": {},
   "outputs": [
    {
     "data": {
      "text/html": [
       "<div>\n",
       "<style scoped>\n",
       "    .dataframe tbody tr th:only-of-type {\n",
       "        vertical-align: middle;\n",
       "    }\n",
       "\n",
       "    .dataframe tbody tr th {\n",
       "        vertical-align: top;\n",
       "    }\n",
       "\n",
       "    .dataframe thead th {\n",
       "        text-align: right;\n",
       "    }\n",
       "</style>\n",
       "<table border=\"1\" class=\"dataframe\">\n",
       "  <thead>\n",
       "    <tr style=\"text-align: right;\">\n",
       "      <th></th>\n",
       "      <th>mean radius</th>\n",
       "      <th>mean texture</th>\n",
       "      <th>mean perimeter</th>\n",
       "      <th>mean area</th>\n",
       "      <th>mean smoothness</th>\n",
       "      <th>mean compactness</th>\n",
       "      <th>mean concavity</th>\n",
       "      <th>mean concave points</th>\n",
       "      <th>mean symmetry</th>\n",
       "      <th>mean fractal dimension</th>\n",
       "      <th>...</th>\n",
       "      <th>worst texture</th>\n",
       "      <th>worst perimeter</th>\n",
       "      <th>worst area</th>\n",
       "      <th>worst smoothness</th>\n",
       "      <th>worst compactness</th>\n",
       "      <th>worst concavity</th>\n",
       "      <th>worst concave points</th>\n",
       "      <th>worst symmetry</th>\n",
       "      <th>worst fractal dimension</th>\n",
       "      <th>Target</th>\n",
       "    </tr>\n",
       "  </thead>\n",
       "  <tbody>\n",
       "    <tr>\n",
       "      <th>0</th>\n",
       "      <td>17.99</td>\n",
       "      <td>10.38</td>\n",
       "      <td>122.80</td>\n",
       "      <td>1001.0</td>\n",
       "      <td>0.11840</td>\n",
       "      <td>0.27760</td>\n",
       "      <td>0.3001</td>\n",
       "      <td>0.14710</td>\n",
       "      <td>0.2419</td>\n",
       "      <td>0.07871</td>\n",
       "      <td>...</td>\n",
       "      <td>17.33</td>\n",
       "      <td>184.60</td>\n",
       "      <td>2019.0</td>\n",
       "      <td>0.1622</td>\n",
       "      <td>0.6656</td>\n",
       "      <td>0.7119</td>\n",
       "      <td>0.2654</td>\n",
       "      <td>0.4601</td>\n",
       "      <td>0.11890</td>\n",
       "      <td>0</td>\n",
       "    </tr>\n",
       "    <tr>\n",
       "      <th>1</th>\n",
       "      <td>20.57</td>\n",
       "      <td>17.77</td>\n",
       "      <td>132.90</td>\n",
       "      <td>1326.0</td>\n",
       "      <td>0.08474</td>\n",
       "      <td>0.07864</td>\n",
       "      <td>0.0869</td>\n",
       "      <td>0.07017</td>\n",
       "      <td>0.1812</td>\n",
       "      <td>0.05667</td>\n",
       "      <td>...</td>\n",
       "      <td>23.41</td>\n",
       "      <td>158.80</td>\n",
       "      <td>1956.0</td>\n",
       "      <td>0.1238</td>\n",
       "      <td>0.1866</td>\n",
       "      <td>0.2416</td>\n",
       "      <td>0.1860</td>\n",
       "      <td>0.2750</td>\n",
       "      <td>0.08902</td>\n",
       "      <td>0</td>\n",
       "    </tr>\n",
       "    <tr>\n",
       "      <th>2</th>\n",
       "      <td>19.69</td>\n",
       "      <td>21.25</td>\n",
       "      <td>130.00</td>\n",
       "      <td>1203.0</td>\n",
       "      <td>0.10960</td>\n",
       "      <td>0.15990</td>\n",
       "      <td>0.1974</td>\n",
       "      <td>0.12790</td>\n",
       "      <td>0.2069</td>\n",
       "      <td>0.05999</td>\n",
       "      <td>...</td>\n",
       "      <td>25.53</td>\n",
       "      <td>152.50</td>\n",
       "      <td>1709.0</td>\n",
       "      <td>0.1444</td>\n",
       "      <td>0.4245</td>\n",
       "      <td>0.4504</td>\n",
       "      <td>0.2430</td>\n",
       "      <td>0.3613</td>\n",
       "      <td>0.08758</td>\n",
       "      <td>0</td>\n",
       "    </tr>\n",
       "    <tr>\n",
       "      <th>3</th>\n",
       "      <td>11.42</td>\n",
       "      <td>20.38</td>\n",
       "      <td>77.58</td>\n",
       "      <td>386.1</td>\n",
       "      <td>0.14250</td>\n",
       "      <td>0.28390</td>\n",
       "      <td>0.2414</td>\n",
       "      <td>0.10520</td>\n",
       "      <td>0.2597</td>\n",
       "      <td>0.09744</td>\n",
       "      <td>...</td>\n",
       "      <td>26.50</td>\n",
       "      <td>98.87</td>\n",
       "      <td>567.7</td>\n",
       "      <td>0.2098</td>\n",
       "      <td>0.8663</td>\n",
       "      <td>0.6869</td>\n",
       "      <td>0.2575</td>\n",
       "      <td>0.6638</td>\n",
       "      <td>0.17300</td>\n",
       "      <td>0</td>\n",
       "    </tr>\n",
       "    <tr>\n",
       "      <th>4</th>\n",
       "      <td>20.29</td>\n",
       "      <td>14.34</td>\n",
       "      <td>135.10</td>\n",
       "      <td>1297.0</td>\n",
       "      <td>0.10030</td>\n",
       "      <td>0.13280</td>\n",
       "      <td>0.1980</td>\n",
       "      <td>0.10430</td>\n",
       "      <td>0.1809</td>\n",
       "      <td>0.05883</td>\n",
       "      <td>...</td>\n",
       "      <td>16.67</td>\n",
       "      <td>152.20</td>\n",
       "      <td>1575.0</td>\n",
       "      <td>0.1374</td>\n",
       "      <td>0.2050</td>\n",
       "      <td>0.4000</td>\n",
       "      <td>0.1625</td>\n",
       "      <td>0.2364</td>\n",
       "      <td>0.07678</td>\n",
       "      <td>0</td>\n",
       "    </tr>\n",
       "  </tbody>\n",
       "</table>\n",
       "<p>5 rows × 31 columns</p>\n",
       "</div>"
      ],
      "text/plain": [
       "   mean radius  mean texture  mean perimeter  mean area  mean smoothness  \\\n",
       "0        17.99         10.38          122.80     1001.0          0.11840   \n",
       "1        20.57         17.77          132.90     1326.0          0.08474   \n",
       "2        19.69         21.25          130.00     1203.0          0.10960   \n",
       "3        11.42         20.38           77.58      386.1          0.14250   \n",
       "4        20.29         14.34          135.10     1297.0          0.10030   \n",
       "\n",
       "   mean compactness  mean concavity  mean concave points  mean symmetry  \\\n",
       "0           0.27760          0.3001              0.14710         0.2419   \n",
       "1           0.07864          0.0869              0.07017         0.1812   \n",
       "2           0.15990          0.1974              0.12790         0.2069   \n",
       "3           0.28390          0.2414              0.10520         0.2597   \n",
       "4           0.13280          0.1980              0.10430         0.1809   \n",
       "\n",
       "   mean fractal dimension  ...  worst texture  worst perimeter  worst area  \\\n",
       "0                 0.07871  ...          17.33           184.60      2019.0   \n",
       "1                 0.05667  ...          23.41           158.80      1956.0   \n",
       "2                 0.05999  ...          25.53           152.50      1709.0   \n",
       "3                 0.09744  ...          26.50            98.87       567.7   \n",
       "4                 0.05883  ...          16.67           152.20      1575.0   \n",
       "\n",
       "   worst smoothness  worst compactness  worst concavity  worst concave points  \\\n",
       "0            0.1622             0.6656           0.7119                0.2654   \n",
       "1            0.1238             0.1866           0.2416                0.1860   \n",
       "2            0.1444             0.4245           0.4504                0.2430   \n",
       "3            0.2098             0.8663           0.6869                0.2575   \n",
       "4            0.1374             0.2050           0.4000                0.1625   \n",
       "\n",
       "   worst symmetry  worst fractal dimension  Target  \n",
       "0          0.4601                  0.11890       0  \n",
       "1          0.2750                  0.08902       0  \n",
       "2          0.3613                  0.08758       0  \n",
       "3          0.6638                  0.17300       0  \n",
       "4          0.2364                  0.07678       0  \n",
       "\n",
       "[5 rows x 31 columns]"
      ]
     },
     "execution_count": 2,
     "metadata": {},
     "output_type": "execute_result"
    }
   ],
   "source": [
    "from sklearn.datasets import load_breast_cancer\n",
    "cancer_dataset = load_breast_cancer()\n",
    "df = pd.DataFrame(cancer_dataset.data, columns = cancer_dataset.feature_names)\n",
    "df['Target'] = cancer_dataset.target[df.index]\n",
    "df.head()"
   ]
  },
  {
   "cell_type": "code",
   "execution_count": 3,
   "metadata": {},
   "outputs": [],
   "source": [
    "x = df.drop(\"Target\", axis = 1)\n",
    "y = df.Target"
   ]
  },
  {
   "cell_type": "code",
   "execution_count": 4,
   "metadata": {},
   "outputs": [],
   "source": [
    "from sklearn.model_selection import train_test_split\n",
    "x_train, x_test, y_train, y_test = train_test_split(\n",
    "    x, y, test_size=0.30, random_state=100)"
   ]
  },
  {
   "cell_type": "markdown",
   "metadata": {},
   "source": [
    "# Creando nuestro primer bosque aleatorio"
   ]
  },
  {
   "cell_type": "code",
   "execution_count": 5,
   "metadata": {},
   "outputs": [],
   "source": [
    "    from sklearn.ensemble import RandomForestClassifier\n",
    "clf = RandomForestClassifier(n_estimators=100, random_state=100);"
   ]
  },
  {
   "cell_type": "code",
   "execution_count": 6,
   "metadata": {},
   "outputs": [
    {
     "data": {
      "text/plain": [
       "RandomForestClassifier(random_state=100)"
      ]
     },
     "execution_count": 6,
     "metadata": {},
     "output_type": "execute_result"
    }
   ],
   "source": [
    "clf.fit(x_train, y_train)"
   ]
  },
  {
   "cell_type": "code",
   "execution_count": 7,
   "metadata": {},
   "outputs": [],
   "source": [
    "y_train_predict = clf.predict(x_train)\n",
    "y_test_predict = clf.predict(x_test)"
   ]
  },
  {
   "cell_type": "code",
   "execution_count": 8,
   "metadata": {
    "scrolled": true
   },
   "outputs": [
    {
     "data": {
      "text/plain": [
       "[DecisionTreeClassifier(max_features='auto', random_state=186422792),\n",
       " DecisionTreeClassifier(max_features='auto', random_state=735107864),\n",
       " DecisionTreeClassifier(max_features='auto', random_state=1195587395),\n",
       " DecisionTreeClassifier(max_features='auto', random_state=1769725799),\n",
       " DecisionTreeClassifier(max_features='auto', random_state=1823289175),\n",
       " DecisionTreeClassifier(max_features='auto', random_state=113311823),\n",
       " DecisionTreeClassifier(max_features='auto', random_state=1480802224),\n",
       " DecisionTreeClassifier(max_features='auto', random_state=638252938),\n",
       " DecisionTreeClassifier(max_features='auto', random_state=20267358),\n",
       " DecisionTreeClassifier(max_features='auto', random_state=673068980),\n",
       " DecisionTreeClassifier(max_features='auto', random_state=522135394),\n",
       " DecisionTreeClassifier(max_features='auto', random_state=800870453),\n",
       " DecisionTreeClassifier(max_features='auto', random_state=733361730),\n",
       " DecisionTreeClassifier(max_features='auto', random_state=902405858),\n",
       " DecisionTreeClassifier(max_features='auto', random_state=1399526926),\n",
       " DecisionTreeClassifier(max_features='auto', random_state=1944503074),\n",
       " DecisionTreeClassifier(max_features='auto', random_state=587150321),\n",
       " DecisionTreeClassifier(max_features='auto', random_state=1589750512),\n",
       " DecisionTreeClassifier(max_features='auto', random_state=322523416),\n",
       " DecisionTreeClassifier(max_features='auto', random_state=273507983),\n",
       " DecisionTreeClassifier(max_features='auto', random_state=1680714980),\n",
       " DecisionTreeClassifier(max_features='auto', random_state=533915499),\n",
       " DecisionTreeClassifier(max_features='auto', random_state=898516284),\n",
       " DecisionTreeClassifier(max_features='auto', random_state=100277818),\n",
       " DecisionTreeClassifier(max_features='auto', random_state=795978640),\n",
       " DecisionTreeClassifier(max_features='auto', random_state=267560443),\n",
       " DecisionTreeClassifier(max_features='auto', random_state=465475209),\n",
       " DecisionTreeClassifier(max_features='auto', random_state=24984669),\n",
       " DecisionTreeClassifier(max_features='auto', random_state=943593558),\n",
       " DecisionTreeClassifier(max_features='auto', random_state=1320372610),\n",
       " DecisionTreeClassifier(max_features='auto', random_state=2055673499),\n",
       " DecisionTreeClassifier(max_features='auto', random_state=1933526892),\n",
       " DecisionTreeClassifier(max_features='auto', random_state=1338668932),\n",
       " DecisionTreeClassifier(max_features='auto', random_state=543975839),\n",
       " DecisionTreeClassifier(max_features='auto', random_state=738481025),\n",
       " DecisionTreeClassifier(max_features='auto', random_state=339250317),\n",
       " DecisionTreeClassifier(max_features='auto', random_state=1358174965),\n",
       " DecisionTreeClassifier(max_features='auto', random_state=1337251539),\n",
       " DecisionTreeClassifier(max_features='auto', random_state=1177137764),\n",
       " DecisionTreeClassifier(max_features='auto', random_state=568583172),\n",
       " DecisionTreeClassifier(max_features='auto', random_state=1854155355),\n",
       " DecisionTreeClassifier(max_features='auto', random_state=856240059),\n",
       " DecisionTreeClassifier(max_features='auto', random_state=1889913667),\n",
       " DecisionTreeClassifier(max_features='auto', random_state=609734791),\n",
       " DecisionTreeClassifier(max_features='auto', random_state=1364293681),\n",
       " DecisionTreeClassifier(max_features='auto', random_state=1803988399),\n",
       " DecisionTreeClassifier(max_features='auto', random_state=1443589825),\n",
       " DecisionTreeClassifier(max_features='auto', random_state=1283664189),\n",
       " DecisionTreeClassifier(max_features='auto', random_state=753382158),\n",
       " DecisionTreeClassifier(max_features='auto', random_state=295259831),\n",
       " DecisionTreeClassifier(max_features='auto', random_state=1601301447),\n",
       " DecisionTreeClassifier(max_features='auto', random_state=767185659),\n",
       " DecisionTreeClassifier(max_features='auto', random_state=24431952),\n",
       " DecisionTreeClassifier(max_features='auto', random_state=139902978),\n",
       " DecisionTreeClassifier(max_features='auto', random_state=1084162937),\n",
       " DecisionTreeClassifier(max_features='auto', random_state=630035049),\n",
       " DecisionTreeClassifier(max_features='auto', random_state=1269860830),\n",
       " DecisionTreeClassifier(max_features='auto', random_state=610166163),\n",
       " DecisionTreeClassifier(max_features='auto', random_state=65519586),\n",
       " DecisionTreeClassifier(max_features='auto', random_state=349562943),\n",
       " DecisionTreeClassifier(max_features='auto', random_state=424529077),\n",
       " DecisionTreeClassifier(max_features='auto', random_state=2058105115),\n",
       " DecisionTreeClassifier(max_features='auto', random_state=445837112),\n",
       " DecisionTreeClassifier(max_features='auto', random_state=1659657454),\n",
       " DecisionTreeClassifier(max_features='auto', random_state=451605873),\n",
       " DecisionTreeClassifier(max_features='auto', random_state=1891782558),\n",
       " DecisionTreeClassifier(max_features='auto', random_state=1640434608),\n",
       " DecisionTreeClassifier(max_features='auto', random_state=1738419503),\n",
       " DecisionTreeClassifier(max_features='auto', random_state=156663463),\n",
       " DecisionTreeClassifier(max_features='auto', random_state=1899466605),\n",
       " DecisionTreeClassifier(max_features='auto', random_state=1676804902),\n",
       " DecisionTreeClassifier(max_features='auto', random_state=129378476),\n",
       " DecisionTreeClassifier(max_features='auto', random_state=2065539346),\n",
       " DecisionTreeClassifier(max_features='auto', random_state=1185433792),\n",
       " DecisionTreeClassifier(max_features='auto', random_state=257448888),\n",
       " DecisionTreeClassifier(max_features='auto', random_state=218864546),\n",
       " DecisionTreeClassifier(max_features='auto', random_state=1677382069),\n",
       " DecisionTreeClassifier(max_features='auto', random_state=1636697802),\n",
       " DecisionTreeClassifier(max_features='auto', random_state=330289425),\n",
       " DecisionTreeClassifier(max_features='auto', random_state=125695560),\n",
       " DecisionTreeClassifier(max_features='auto', random_state=1041442317),\n",
       " DecisionTreeClassifier(max_features='auto', random_state=1962271338),\n",
       " DecisionTreeClassifier(max_features='auto', random_state=559135774),\n",
       " DecisionTreeClassifier(max_features='auto', random_state=755146769),\n",
       " DecisionTreeClassifier(max_features='auto', random_state=351509557),\n",
       " DecisionTreeClassifier(max_features='auto', random_state=508106820),\n",
       " DecisionTreeClassifier(max_features='auto', random_state=87785394),\n",
       " DecisionTreeClassifier(max_features='auto', random_state=1558839784),\n",
       " DecisionTreeClassifier(max_features='auto', random_state=902057307),\n",
       " DecisionTreeClassifier(max_features='auto', random_state=321550811),\n",
       " DecisionTreeClassifier(max_features='auto', random_state=191920083),\n",
       " DecisionTreeClassifier(max_features='auto', random_state=1396271797),\n",
       " DecisionTreeClassifier(max_features='auto', random_state=1155840846),\n",
       " DecisionTreeClassifier(max_features='auto', random_state=1443675136),\n",
       " DecisionTreeClassifier(max_features='auto', random_state=1076727821),\n",
       " DecisionTreeClassifier(max_features='auto', random_state=323818681),\n",
       " DecisionTreeClassifier(max_features='auto', random_state=1227912652),\n",
       " DecisionTreeClassifier(max_features='auto', random_state=48965994),\n",
       " DecisionTreeClassifier(max_features='auto', random_state=1513525379),\n",
       " DecisionTreeClassifier(max_features='auto', random_state=207964742)]"
      ]
     },
     "execution_count": 8,
     "metadata": {},
     "output_type": "execute_result"
    }
   ],
   "source": [
    "clf.estimators_"
   ]
  },
  {
   "cell_type": "markdown",
   "metadata": {},
   "source": [
    "### Importando un modelo obtenido por el bosque aleatorio."
   ]
  },
  {
   "cell_type": "code",
   "execution_count": 9,
   "metadata": {},
   "outputs": [],
   "source": [
    "arbol = clf.estimators_[0]"
   ]
  },
  {
   "cell_type": "code",
   "execution_count": 10,
   "metadata": {},
   "outputs": [
    {
     "name": "stdout",
     "output_type": "stream",
     "text": [
      "['mean radius', 'mean texture', 'mean perimeter', 'mean area', 'mean smoothness', 'mean compactness', 'mean concavity', 'mean concave points', 'mean symmetry', 'mean fractal dimension', 'radius error', 'texture error', 'perimeter error', 'area error', 'smoothness error', 'compactness error', 'concavity error', 'concave points error', 'symmetry error', 'fractal dimension error', 'worst radius', 'worst texture', 'worst perimeter', 'worst area', 'worst smoothness', 'worst compactness', 'worst concavity', 'worst concave points', 'worst symmetry', 'worst fractal dimension']\n"
     ]
    }
   ],
   "source": [
    "feature_labels = []\n",
    "for col in x.columns:\n",
    "    feature_labels.append(col)\n",
    "\n",
    "print(feature_labels)"
   ]
  },
  {
   "cell_type": "code",
   "execution_count": 11,
   "metadata": {},
   "outputs": [],
   "source": [
    "class_labels = ['malignant', 'benign']"
   ]
  },
  {
   "cell_type": "code",
   "execution_count": 12,
   "metadata": {},
   "outputs": [],
   "source": [
    "from sklearn.tree import export_graphviz\n",
    "\n",
    "export_graphviz(arbol, out_file = \"RandomForest0.ps\", \n",
    "                feature_names = feature_labels, \n",
    "                class_names = class_labels,\n",
    "                filled = True,\n",
    "                rounded = True\n",
    "               )"
   ]
  },
  {
   "cell_type": "markdown",
   "metadata": {},
   "source": [
    "### Tu árbol debe ser muy parecido al que tienes aquí en la libreta."
   ]
  },
  {
   "cell_type": "markdown",
   "metadata": {},
   "source": [
    "<center><img src=\"img/RandomForest1.png\" width = \"100%\"></center>"
   ]
  },
  {
   "cell_type": "markdown",
   "metadata": {},
   "source": [
    "### Usando el ciclo \"for\" podemos grabar todos los diferentes árboles que produce el bosque."
   ]
  },
  {
   "cell_type": "code",
   "execution_count": 13,
   "metadata": {},
   "outputs": [],
   "source": [
    "feature_labels = []\n",
    "for col in x.columns:\n",
    "    feature_labels.append(col)\n",
    "\n",
    "class_labels = ['malignant', 'benign']\n",
    "\n",
    "n = clf.n_estimators\n",
    "\n",
    "for i in range(n):\n",
    "    arbol = clf.estimators_[i]\n",
    "    file_name = str(i) + \".ps\"\n",
    "    export_graphviz(arbol, out_file = file_name, \n",
    "                feature_names = feature_labels, \n",
    "                class_names = class_labels,\n",
    "                filled = True,\n",
    "                rounded = True\n",
    "               )"
   ]
  },
  {
   "cell_type": "code",
   "execution_count": 14,
   "metadata": {},
   "outputs": [
    {
     "name": "stdout",
     "output_type": "stream",
     "text": [
      "              precision    recall  f1-score   support\n",
      "\n",
      "           0       1.00      1.00      1.00       143\n",
      "           1       1.00      1.00      1.00       255\n",
      "\n",
      "    accuracy                           1.00       398\n",
      "   macro avg       1.00      1.00      1.00       398\n",
      "weighted avg       1.00      1.00      1.00       398\n",
      "\n",
      "              precision    recall  f1-score   support\n",
      "\n",
      "           0       0.97      0.90      0.93        69\n",
      "           1       0.93      0.98      0.96       102\n",
      "\n",
      "    accuracy                           0.95       171\n",
      "   macro avg       0.95      0.94      0.94       171\n",
      "weighted avg       0.95      0.95      0.95       171\n",
      "\n"
     ]
    }
   ],
   "source": [
    "from sklearn.metrics import classification_report\n",
    "print(classification_report(y_train, y_train_predict))\n",
    "print(classification_report(y_test, y_test_predict))"
   ]
  },
  {
   "cell_type": "code",
   "execution_count": 15,
   "metadata": {},
   "outputs": [],
   "source": [
    "from sklearn.metrics import confusion_matrix"
   ]
  },
  {
   "cell_type": "code",
   "execution_count": 16,
   "metadata": {},
   "outputs": [
    {
     "data": {
      "image/png": "[encoded data removed]",
      "text/plain": [
       "<Figure size 432x288 with 2 Axes>"
      ]
     },
     "metadata": {
      "needs_background": "light"
     },
     "output_type": "display_data"
    }
   ],
   "source": [
    "cm = confusion_matrix(y_train, y_train_predict)\n",
    "sns.heatmap(cm, linewidth = 0.5, annot = True, cmap = 'Reds', fmt = 'g')\n",
    "plt.ylabel('Valores predecidos')\n",
    "plt.xlabel('Valores reales')\n",
    "plt.title('Comparación con valores de entrenamiento')\n",
    "plt.show()"
   ]
  },
  {
   "cell_type": "code",
   "execution_count": 17,
   "metadata": {},
   "outputs": [
    {
     "data": {
      "image/png": "[encoded data removed]",
      "text/plain": [
       "<Figure size 432x288 with 2 Axes>"
      ]
     },
     "metadata": {
      "needs_background": "light"
     },
     "output_type": "display_data"
    }
   ],
   "source": [
    "cm = confusion_matrix(y_test, y_test_predict)\n",
    "sns.heatmap(cm, linewidth = 0.5, annot = True, cmap = 'Reds', fmt = 'g')\n",
    "plt.ylabel('Valores predecidos')\n",
    "plt.xlabel('Valores reales')\n",
    "plt.title('Comparación con valores de prueba')\n",
    "plt.show()"
   ]
  },
  {
   "cell_type": "markdown",
   "metadata": {},
   "source": [
    "# Visualizando la importancia de las características al modelo"
   ]
  },
  {
   "cell_type": "code",
   "execution_count": 18,
   "metadata": {},
   "outputs": [
    {
     "data": {
      "text/plain": [
       "array([0.06082575, 0.01203414, 0.06658116, 0.04061686, 0.00593186,\n",
       "       0.00666543, 0.0483094 , 0.1377072 , 0.00651761, 0.0033341 ,\n",
       "       0.01013671, 0.00402787, 0.01082128, 0.02542445, 0.00367185,\n",
       "       0.00539079, 0.00956575, 0.0063813 , 0.00521718, 0.0043603 ,\n",
       "       0.08902617, 0.0156199 , 0.12319549, 0.10808756, 0.01586751,\n",
       "       0.0171118 , 0.03159618, 0.11476145, 0.0067313 , 0.00448165])"
      ]
     },
     "execution_count": 18,
     "metadata": {},
     "output_type": "execute_result"
    }
   ],
   "source": [
    "clf.feature_importances_"
   ]
  },
  {
   "cell_type": "code",
   "execution_count": 19,
   "metadata": {},
   "outputs": [
    {
     "data": {
      "text/plain": [
       "mean radius                0.060826\n",
       "mean texture               0.012034\n",
       "mean perimeter             0.066581\n",
       "mean area                  0.040617\n",
       "mean smoothness            0.005932\n",
       "mean compactness           0.006665\n",
       "mean concavity             0.048309\n",
       "mean concave points        0.137707\n",
       "mean symmetry              0.006518\n",
       "mean fractal dimension     0.003334\n",
       "radius error               0.010137\n",
       "texture error              0.004028\n",
       "perimeter error            0.010821\n",
       "area error                 0.025424\n",
       "smoothness error           0.003672\n",
       "compactness error          0.005391\n",
       "concavity error            0.009566\n",
       "concave points error       0.006381\n",
       "symmetry error             0.005217\n",
       "fractal dimension error    0.004360\n",
       "worst radius               0.089026\n",
       "worst texture              0.015620\n",
       "worst perimeter            0.123195\n",
       "worst area                 0.108088\n",
       "worst smoothness           0.015868\n",
       "worst compactness          0.017112\n",
       "worst concavity            0.031596\n",
       "worst concave points       0.114761\n",
       "worst symmetry             0.006731\n",
       "worst fractal dimension    0.004482\n",
       "dtype: float64"
      ]
     },
     "execution_count": 19,
     "metadata": {},
     "output_type": "execute_result"
    }
   ],
   "source": [
    "feature_imp = pd.Series(clf.feature_importances_, index=x.columns)\n",
    "feature_imp"
   ]
  },
  {
   "cell_type": "code",
   "execution_count": 20,
   "metadata": {},
   "outputs": [
    {
     "data": {
      "text/plain": [
       "mean concave points        0.137707\n",
       "worst perimeter            0.123195\n",
       "worst concave points       0.114761\n",
       "worst area                 0.108088\n",
       "worst radius               0.089026\n",
       "mean perimeter             0.066581\n",
       "mean radius                0.060826\n",
       "mean concavity             0.048309\n",
       "mean area                  0.040617\n",
       "worst concavity            0.031596\n",
       "area error                 0.025424\n",
       "worst compactness          0.017112\n",
       "worst smoothness           0.015868\n",
       "worst texture              0.015620\n",
       "mean texture               0.012034\n",
       "perimeter error            0.010821\n",
       "radius error               0.010137\n",
       "concavity error            0.009566\n",
       "worst symmetry             0.006731\n",
       "mean compactness           0.006665\n",
       "mean symmetry              0.006518\n",
       "concave points error       0.006381\n",
       "mean smoothness            0.005932\n",
       "compactness error          0.005391\n",
       "symmetry error             0.005217\n",
       "worst fractal dimension    0.004482\n",
       "fractal dimension error    0.004360\n",
       "texture error              0.004028\n",
       "smoothness error           0.003672\n",
       "mean fractal dimension     0.003334\n",
       "dtype: float64"
      ]
     },
     "execution_count": 20,
     "metadata": {},
     "output_type": "execute_result"
    }
   ],
   "source": [
    "feature_imp = feature_imp.sort_values(ascending = False)\n",
    "feature_imp"
   ]
  },
  {
   "cell_type": "code",
   "execution_count": 21,
   "metadata": {},
   "outputs": [
    {
     "data": {
      "image/png": "[encoded data removed]",
      "text/plain": [
       "<Figure size 432x1080 with 1 Axes>"
      ]
     },
     "metadata": {
      "needs_background": "light"
     },
     "output_type": "display_data"
    }
   ],
   "source": [
    "plt.figure(figsize=(6,15))\n",
    "sns.barplot(x = feature_imp, y = feature_imp.index)\n",
    "plt.xlabel('Importancia')\n",
    "plt.ylabel('Característica')\n",
    "plt.title(\"Visualizando la importancia de cada Característica\")\n",
    "plt.show()"
   ]
  },
  {
   "cell_type": "markdown",
   "metadata": {},
   "source": [
    "# Hagamos una base de datos resumida tomando en cuenta los cinco datos más representativos"
   ]
  },
  {
   "cell_type": "code",
   "execution_count": 22,
   "metadata": {},
   "outputs": [
    {
     "data": {
      "text/plain": [
       "mean concave points     0.137707\n",
       "worst perimeter         0.123195\n",
       "worst concave points    0.114761\n",
       "worst area              0.108088\n",
       "worst radius            0.089026\n",
       "dtype: float64"
      ]
     },
     "execution_count": 22,
     "metadata": {},
     "output_type": "execute_result"
    }
   ],
   "source": [
    "feature_imp.head()"
   ]
  },
  {
   "cell_type": "code",
   "execution_count": 23,
   "metadata": {},
   "outputs": [
    {
     "data": {
      "text/plain": [
       "'mean concave points'"
      ]
     },
     "execution_count": 23,
     "metadata": {},
     "output_type": "execute_result"
    }
   ],
   "source": [
    "feature_imp.index[0]"
   ]
  },
  {
   "cell_type": "code",
   "execution_count": 24,
   "metadata": {},
   "outputs": [
    {
     "data": {
      "text/plain": [
       "['mean concave points',\n",
       " 'worst perimeter',\n",
       " 'worst concave points',\n",
       " 'worst area',\n",
       " 'worst radius']"
      ]
     },
     "execution_count": 24,
     "metadata": {},
     "output_type": "execute_result"
    }
   ],
   "source": [
    "columns = []\n",
    "for i in range(5):\n",
    "    columns.append(feature_imp.index[i])\n",
    "\n",
    "columns"
   ]
  },
  {
   "cell_type": "code",
   "execution_count": 25,
   "metadata": {},
   "outputs": [
    {
     "data": {
      "text/html": [
       "<div>\n",
       "<style scoped>\n",
       "    .dataframe tbody tr th:only-of-type {\n",
       "        vertical-align: middle;\n",
       "    }\n",
       "\n",
       "    .dataframe tbody tr th {\n",
       "        vertical-align: top;\n",
       "    }\n",
       "\n",
       "    .dataframe thead th {\n",
       "        text-align: right;\n",
       "    }\n",
       "</style>\n",
       "<table border=\"1\" class=\"dataframe\">\n",
       "  <thead>\n",
       "    <tr style=\"text-align: right;\">\n",
       "      <th></th>\n",
       "      <th>mean concave points</th>\n",
       "      <th>worst perimeter</th>\n",
       "      <th>worst concave points</th>\n",
       "      <th>worst area</th>\n",
       "      <th>worst radius</th>\n",
       "    </tr>\n",
       "  </thead>\n",
       "  <tbody>\n",
       "  </tbody>\n",
       "</table>\n",
       "</div>"
      ],
      "text/plain": [
       "Empty DataFrame\n",
       "Columns: [mean concave points, worst perimeter, worst concave points, worst area, worst radius]\n",
       "Index: []"
      ]
     },
     "execution_count": 25,
     "metadata": {},
     "output_type": "execute_result"
    }
   ],
   "source": [
    "df_reduced = pd.DataFrame(columns = columns)\n",
    "df_reduced.head()"
   ]
  },
  {
   "cell_type": "code",
   "execution_count": 26,
   "metadata": {},
   "outputs": [
    {
     "data": {
      "text/html": [
       "<div>\n",
       "<style scoped>\n",
       "    .dataframe tbody tr th:only-of-type {\n",
       "        vertical-align: middle;\n",
       "    }\n",
       "\n",
       "    .dataframe tbody tr th {\n",
       "        vertical-align: top;\n",
       "    }\n",
       "\n",
       "    .dataframe thead th {\n",
       "        text-align: right;\n",
       "    }\n",
       "</style>\n",
       "<table border=\"1\" class=\"dataframe\">\n",
       "  <thead>\n",
       "    <tr style=\"text-align: right;\">\n",
       "      <th></th>\n",
       "      <th>mean concave points</th>\n",
       "      <th>worst perimeter</th>\n",
       "      <th>worst concave points</th>\n",
       "      <th>worst area</th>\n",
       "      <th>worst radius</th>\n",
       "    </tr>\n",
       "  </thead>\n",
       "  <tbody>\n",
       "    <tr>\n",
       "      <th>0</th>\n",
       "      <td>0.14710</td>\n",
       "      <td>184.60</td>\n",
       "      <td>0.2654</td>\n",
       "      <td>2019.0</td>\n",
       "      <td>25.38</td>\n",
       "    </tr>\n",
       "    <tr>\n",
       "      <th>1</th>\n",
       "      <td>0.07017</td>\n",
       "      <td>158.80</td>\n",
       "      <td>0.1860</td>\n",
       "      <td>1956.0</td>\n",
       "      <td>24.99</td>\n",
       "    </tr>\n",
       "    <tr>\n",
       "      <th>2</th>\n",
       "      <td>0.12790</td>\n",
       "      <td>152.50</td>\n",
       "      <td>0.2430</td>\n",
       "      <td>1709.0</td>\n",
       "      <td>23.57</td>\n",
       "    </tr>\n",
       "    <tr>\n",
       "      <th>3</th>\n",
       "      <td>0.10520</td>\n",
       "      <td>98.87</td>\n",
       "      <td>0.2575</td>\n",
       "      <td>567.7</td>\n",
       "      <td>14.91</td>\n",
       "    </tr>\n",
       "    <tr>\n",
       "      <th>4</th>\n",
       "      <td>0.10430</td>\n",
       "      <td>152.20</td>\n",
       "      <td>0.1625</td>\n",
       "      <td>1575.0</td>\n",
       "      <td>22.54</td>\n",
       "    </tr>\n",
       "  </tbody>\n",
       "</table>\n",
       "</div>"
      ],
      "text/plain": [
       "   mean concave points  worst perimeter  worst concave points  worst area  \\\n",
       "0              0.14710           184.60                0.2654      2019.0   \n",
       "1              0.07017           158.80                0.1860      1956.0   \n",
       "2              0.12790           152.50                0.2430      1709.0   \n",
       "3              0.10520            98.87                0.2575       567.7   \n",
       "4              0.10430           152.20                0.1625      1575.0   \n",
       "\n",
       "   worst radius  \n",
       "0         25.38  \n",
       "1         24.99  \n",
       "2         23.57  \n",
       "3         14.91  \n",
       "4         22.54  "
      ]
     },
     "execution_count": 26,
     "metadata": {},
     "output_type": "execute_result"
    }
   ],
   "source": [
    "for i in range(5):\n",
    "    df_reduced[feature_imp.index[i]] = df[feature_imp.index[i]]\n",
    "    \n",
    "df_reduced.head()"
   ]
  },
  {
   "cell_type": "code",
   "execution_count": 27,
   "metadata": {},
   "outputs": [
    {
     "name": "stdout",
     "output_type": "stream",
     "text": [
      "              precision    recall  f1-score   support\n",
      "\n",
      "           0       1.00      1.00      1.00       143\n",
      "           1       1.00      1.00      1.00       255\n",
      "\n",
      "    accuracy                           1.00       398\n",
      "   macro avg       1.00      1.00      1.00       398\n",
      "weighted avg       1.00      1.00      1.00       398\n",
      "\n",
      "              precision    recall  f1-score   support\n",
      "\n",
      "           0       0.97      0.87      0.92        69\n",
      "           1       0.92      0.98      0.95       102\n",
      "\n",
      "    accuracy                           0.94       171\n",
      "   macro avg       0.94      0.92      0.93       171\n",
      "weighted avg       0.94      0.94      0.94       171\n",
      "\n"
     ]
    },
    {
     "data": {
      "image/png": "[encoded data removed]",
      "text/plain": [
       "<Figure size 432x288 with 2 Axes>"
      ]
     },
     "metadata": {
      "needs_background": "light"
     },
     "output_type": "display_data"
    },
    {
     "data": {
      "image/png": "[encoded data removed]",
      "text/plain": [
       "<Figure size 432x288 with 2 Axes>"
      ]
     },
     "metadata": {
      "needs_background": "light"
     },
     "output_type": "display_data"
    }
   ],
   "source": [
    "x = df_reduced\n",
    "y = df.Target\n",
    "\n",
    "x_train, x_test, y_train, y_test = train_test_split(\n",
    "    x, y, test_size=0.30, random_state=100)\n",
    "\n",
    "clf = RandomForestClassifier(n_estimators=100, random_state=100)\n",
    "\n",
    "clf.fit(x_train, y_train)\n",
    "\n",
    "y_train_predict = clf.predict(x_train)\n",
    "y_test_predict = clf.predict(x_test)\n",
    "\n",
    "print(classification_report(y_train, y_train_predict))\n",
    "print(classification_report(y_test, y_test_predict))\n",
    "\n",
    "cm = confusion_matrix(y_train, y_train_predict)\n",
    "sns.heatmap(cm, linewidth = 0.5, annot = True, cmap = 'Reds', fmt = 'g')\n",
    "plt.ylabel('Valores predecidos')\n",
    "plt.xlabel('Valores reales')\n",
    "plt.title('Comparación con valores de entrenamiento')\n",
    "plt.show()\n",
    "\n",
    "cm = confusion_matrix(y_test, y_test_predict)\n",
    "sns.heatmap(cm, linewidth = 0.5, annot = True, cmap = 'Reds', fmt = 'g')\n",
    "plt.ylabel('Valores predecidos')\n",
    "plt.xlabel('Valores reales')\n",
    "plt.title('Comparación con valores de prueba')\n",
    "plt.show()"
   ]
  },
  {
   "cell_type": "code",
   "execution_count": 28,
   "metadata": {},
   "outputs": [
    {
     "data": {
      "image/png": "[encoded data removed]",
      "text/plain": [
       "<Figure size 432x288 with 1 Axes>"
      ]
     },
     "metadata": {
      "needs_background": "light"
     },
     "output_type": "display_data"
    }
   ],
   "source": [
    "feature_imp = pd.Series(clf.feature_importances_, index = x.columns)\n",
    "feature_imp = feature_imp.sort_values(ascending = False)\n",
    "\n",
    "plt.figure(figsize=(6,4))\n",
    "sns.barplot(x = feature_imp, y = feature_imp.index)\n",
    "plt.xlabel('Importancia')\n",
    "plt.ylabel('Característica')\n",
    "plt.title(\"Visualizando la importancia de cada Característica\")\n",
    "plt.show()"
   ]
  }
 ],
 "metadata": {
  "kernelspec": {
   "display_name": "Python 3",
   "language": "python",
   "name": "python3"
  },
  "language_info": {
   "codemirror_mode": {
    "name": "ipython",
    "version": 3
   },
   "file_extension": ".py",
   "mimetype": "text/x-python",
   "name": "python",
   "nbconvert_exporter": "python",
   "pygments_lexer": "ipython3",
   "version": "3.8.8"
  }
 },
 "nbformat": 4,
 "nbformat_minor": 2
}
